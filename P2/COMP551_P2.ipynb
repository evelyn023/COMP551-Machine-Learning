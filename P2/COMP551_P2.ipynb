{
  "nbformat": 4,
  "nbformat_minor": 0,
  "metadata": {
    "colab": {
      "name": "COMP551_P2.ipynb",
      "provenance": [],
      "collapsed_sections": [],
      "machine_shape": "hm",
      "toc_visible": true
    },
    "kernelspec": {
      "name": "python3",
      "display_name": "Python 3"
    },
    "language_info": {
      "name": "python"
    }
  },
  "cells": [
    {
      "cell_type": "code",
      "source": [
        "import numpy as np\n",
        "import pandas as pd\n",
        "import sklearn\n",
        "import matplotlib.pyplot as plt \n",
        "np.random.seed(234)"
      ],
      "metadata": {
        "id": "TYJY30V2mQBB"
      },
      "execution_count": null,
      "outputs": []
    },
    {
      "cell_type": "markdown",
      "source": [
        "# Data processing\n"
      ],
      "metadata": {
        "id": "FCFrlsgMmHGo"
      }
    },
    {
      "cell_type": "code",
      "source": [
        "# helper function for text preprocessing\n",
        "import re\n",
        "import nltk\n",
        "# stemming process\n",
        "stemmer = nltk.stem.SnowballStemmer('english')\n",
        "# remove the non-alphabetic characters\n",
        "text_cleaning_regex = \"@S+|https?:S+|http?:S|[^A-Za-z0-9]+\"\n",
        "\n",
        "def clean_text(text, stem=True):\n",
        "  # Text passed to the regex equatio\n",
        "  text = re.sub(text_cleaning_regex, ' ', str(text).lower()).strip()\n",
        "  # Empty list created to store final processed words\n",
        "  tokens = []\n",
        "  for token in text.split():\n",
        "    if stem:\n",
        "      tokens.append(stemmer.stem(token))\n",
        "    else:\n",
        "      tokens.append(token)\n",
        "  return \" \".join(tokens)"
      ],
      "metadata": {
        "id": "xv5ZhZCwyhk0"
      },
      "execution_count": null,
      "outputs": []
    },
    {
      "cell_type": "markdown",
      "source": [
        "## 20 newsgroup"
      ],
      "metadata": {
        "id": "8OSP3IjQLykj"
      }
    },
    {
      "cell_type": "code",
      "source": [
        "from sklearn.datasets import fetch_20newsgroups\n",
        "twenty_train = fetch_20newsgroups(subset='train', remove=(['headers', 'footers', 'quotes']))\n",
        "twenty_test = fetch_20newsgroups(subset='test', remove=(['headers', 'footers', 'quotes']))\n",
        "print(\"Train data size:\", len(twenty_train.data))\n",
        "print(\"Test data size:\", len(twenty_test.data))\n",
        "print(\"Number of categories:\", np.max(twenty_train.target)+1)\n"
      ],
      "metadata": {
        "colab": {
          "base_uri": "https://localhost:8080/"
        },
        "id": "obHfSi6C48QX",
        "outputId": "e305ea4f-3881-4325-f4d3-0e2224420882"
      },
      "execution_count": null,
      "outputs": [
        {
          "output_type": "stream",
          "name": "stdout",
          "text": [
            "Train data size: 11314\n",
            "Test data size: 7532\n",
            "Number of categories: 20\n"
          ]
        }
      ]
    },
    {
      "cell_type": "code",
      "source": [
        "news_train = pd.DataFrame([twenty_train.data, twenty_train.target.tolist()]).T\n",
        "news_train.columns = ['text', 'target']\n",
        "news_train.text = news_train.text.apply(lambda x: clean_text(x))\n",
        "news_test = pd.DataFrame([twenty_test.data, twenty_test.target.tolist()]).T\n",
        "news_test.columns = ['text', 'target']\n",
        "display(news_train)"
      ],
      "metadata": {
        "colab": {
          "base_uri": "https://localhost:8080/",
          "height": 423
        },
        "id": "GupLvl6Y64Jf",
        "outputId": "9a2b2c71-c818-4c99-92e7-49a1ec4fd370"
      },
      "execution_count": null,
      "outputs": [
        {
          "output_type": "display_data",
          "data": {
            "text/html": [
              "\n",
              "  <div id=\"df-2e9f68df-ba89-488e-a6d2-1a34c68bc269\">\n",
              "    <div class=\"colab-df-container\">\n",
              "      <div>\n",
              "<style scoped>\n",
              "    .dataframe tbody tr th:only-of-type {\n",
              "        vertical-align: middle;\n",
              "    }\n",
              "\n",
              "    .dataframe tbody tr th {\n",
              "        vertical-align: top;\n",
              "    }\n",
              "\n",
              "    .dataframe thead th {\n",
              "        text-align: right;\n",
              "    }\n",
              "</style>\n",
              "<table border=\"1\" class=\"dataframe\">\n",
              "  <thead>\n",
              "    <tr style=\"text-align: right;\">\n",
              "      <th></th>\n",
              "      <th>text</th>\n",
              "      <th>target</th>\n",
              "    </tr>\n",
              "  </thead>\n",
              "  <tbody>\n",
              "    <tr>\n",
              "      <th>0</th>\n",
              "      <td>i was wonder if anyon out there could enlighte...</td>\n",
              "      <td>7</td>\n",
              "    </tr>\n",
              "    <tr>\n",
              "      <th>1</th>\n",
              "      <td>a fair number of brave soul who upgrad their s...</td>\n",
              "      <td>4</td>\n",
              "    </tr>\n",
              "    <tr>\n",
              "      <th>2</th>\n",
              "      <td>well folk my mac plus final gave up the ghost ...</td>\n",
              "      <td>4</td>\n",
              "    </tr>\n",
              "    <tr>\n",
              "      <th>3</th>\n",
              "      <td>do you have weitek s address phone number i d ...</td>\n",
              "      <td>1</td>\n",
              "    </tr>\n",
              "    <tr>\n",
              "      <th>4</th>\n",
              "      <td>from articl c5owcb n3p world std com by tombak...</td>\n",
              "      <td>14</td>\n",
              "    </tr>\n",
              "    <tr>\n",
              "      <th>...</th>\n",
              "      <td>...</td>\n",
              "      <td>...</td>\n",
              "    </tr>\n",
              "    <tr>\n",
              "      <th>11309</th>\n",
              "      <td>dn from nyeda cnsvax uwec edu david nye dn a n...</td>\n",
              "      <td>13</td>\n",
              "    </tr>\n",
              "    <tr>\n",
              "      <th>11310</th>\n",
              "      <td>i have a veri old mac 512k and a mac plus both...</td>\n",
              "      <td>4</td>\n",
              "    </tr>\n",
              "    <tr>\n",
              "      <th>11311</th>\n",
              "      <td>i just instal a dx2 66 cpu in a clone motherbo...</td>\n",
              "      <td>3</td>\n",
              "    </tr>\n",
              "    <tr>\n",
              "      <th>11312</th>\n",
              "      <td>wouldn t this requir a hyper sphere in 3 space...</td>\n",
              "      <td>1</td>\n",
              "    </tr>\n",
              "    <tr>\n",
              "      <th>11313</th>\n",
              "      <td>stolen from pasadena between 4 30 and 6 30 pm ...</td>\n",
              "      <td>8</td>\n",
              "    </tr>\n",
              "  </tbody>\n",
              "</table>\n",
              "<p>11314 rows × 2 columns</p>\n",
              "</div>\n",
              "      <button class=\"colab-df-convert\" onclick=\"convertToInteractive('df-2e9f68df-ba89-488e-a6d2-1a34c68bc269')\"\n",
              "              title=\"Convert this dataframe to an interactive table.\"\n",
              "              style=\"display:none;\">\n",
              "        \n",
              "  <svg xmlns=\"http://www.w3.org/2000/svg\" height=\"24px\"viewBox=\"0 0 24 24\"\n",
              "       width=\"24px\">\n",
              "    <path d=\"M0 0h24v24H0V0z\" fill=\"none\"/>\n",
              "    <path d=\"M18.56 5.44l.94 2.06.94-2.06 2.06-.94-2.06-.94-.94-2.06-.94 2.06-2.06.94zm-11 1L8.5 8.5l.94-2.06 2.06-.94-2.06-.94L8.5 2.5l-.94 2.06-2.06.94zm10 10l.94 2.06.94-2.06 2.06-.94-2.06-.94-.94-2.06-.94 2.06-2.06.94z\"/><path d=\"M17.41 7.96l-1.37-1.37c-.4-.4-.92-.59-1.43-.59-.52 0-1.04.2-1.43.59L10.3 9.45l-7.72 7.72c-.78.78-.78 2.05 0 2.83L4 21.41c.39.39.9.59 1.41.59.51 0 1.02-.2 1.41-.59l7.78-7.78 2.81-2.81c.8-.78.8-2.07 0-2.86zM5.41 20L4 18.59l7.72-7.72 1.47 1.35L5.41 20z\"/>\n",
              "  </svg>\n",
              "      </button>\n",
              "      \n",
              "  <style>\n",
              "    .colab-df-container {\n",
              "      display:flex;\n",
              "      flex-wrap:wrap;\n",
              "      gap: 12px;\n",
              "    }\n",
              "\n",
              "    .colab-df-convert {\n",
              "      background-color: #E8F0FE;\n",
              "      border: none;\n",
              "      border-radius: 50%;\n",
              "      cursor: pointer;\n",
              "      display: none;\n",
              "      fill: #1967D2;\n",
              "      height: 32px;\n",
              "      padding: 0 0 0 0;\n",
              "      width: 32px;\n",
              "    }\n",
              "\n",
              "    .colab-df-convert:hover {\n",
              "      background-color: #E2EBFA;\n",
              "      box-shadow: 0px 1px 2px rgba(60, 64, 67, 0.3), 0px 1px 3px 1px rgba(60, 64, 67, 0.15);\n",
              "      fill: #174EA6;\n",
              "    }\n",
              "\n",
              "    [theme=dark] .colab-df-convert {\n",
              "      background-color: #3B4455;\n",
              "      fill: #D2E3FC;\n",
              "    }\n",
              "\n",
              "    [theme=dark] .colab-df-convert:hover {\n",
              "      background-color: #434B5C;\n",
              "      box-shadow: 0px 1px 3px 1px rgba(0, 0, 0, 0.15);\n",
              "      filter: drop-shadow(0px 1px 2px rgba(0, 0, 0, 0.3));\n",
              "      fill: #FFFFFF;\n",
              "    }\n",
              "  </style>\n",
              "\n",
              "      <script>\n",
              "        const buttonEl =\n",
              "          document.querySelector('#df-2e9f68df-ba89-488e-a6d2-1a34c68bc269 button.colab-df-convert');\n",
              "        buttonEl.style.display =\n",
              "          google.colab.kernel.accessAllowed ? 'block' : 'none';\n",
              "\n",
              "        async function convertToInteractive(key) {\n",
              "          const element = document.querySelector('#df-2e9f68df-ba89-488e-a6d2-1a34c68bc269');\n",
              "          const dataTable =\n",
              "            await google.colab.kernel.invokeFunction('convertToInteractive',\n",
              "                                                     [key], {});\n",
              "          if (!dataTable) return;\n",
              "\n",
              "          const docLinkHtml = 'Like what you see? Visit the ' +\n",
              "            '<a target=\"_blank\" href=https://colab.research.google.com/notebooks/data_table.ipynb>data table notebook</a>'\n",
              "            + ' to learn more about interactive tables.';\n",
              "          element.innerHTML = '';\n",
              "          dataTable['output_type'] = 'display_data';\n",
              "          await google.colab.output.renderOutput(dataTable, element);\n",
              "          const docLink = document.createElement('div');\n",
              "          docLink.innerHTML = docLinkHtml;\n",
              "          element.appendChild(docLink);\n",
              "        }\n",
              "      </script>\n",
              "    </div>\n",
              "  </div>\n",
              "  "
            ],
            "text/plain": [
              "                                                    text target\n",
              "0      i was wonder if anyon out there could enlighte...      7\n",
              "1      a fair number of brave soul who upgrad their s...      4\n",
              "2      well folk my mac plus final gave up the ghost ...      4\n",
              "3      do you have weitek s address phone number i d ...      1\n",
              "4      from articl c5owcb n3p world std com by tombak...     14\n",
              "...                                                  ...    ...\n",
              "11309  dn from nyeda cnsvax uwec edu david nye dn a n...     13\n",
              "11310  i have a veri old mac 512k and a mac plus both...      4\n",
              "11311  i just instal a dx2 66 cpu in a clone motherbo...      3\n",
              "11312  wouldn t this requir a hyper sphere in 3 space...      1\n",
              "11313  stolen from pasadena between 4 30 and 6 30 pm ...      8\n",
              "\n",
              "[11314 rows x 2 columns]"
            ]
          },
          "metadata": {}
        }
      ]
    },
    {
      "cell_type": "markdown",
      "source": [
        "Class balance is an important criterion when we are working on classification problems. It is essential to ensure that the classes are not very skewed, and the class imbalance will lead to biased results. The figure shows that our training data are evenly distrubuted among the 20 categories."
      ],
      "metadata": {
        "id": "fXyr1hSB1DiG"
      }
    },
    {
      "cell_type": "code",
      "source": [
        "distribution = np.bincount(twenty_train.target)\n",
        "x_axis = np.arange(20)\n",
        "plt.bar(x_axis, distribution)\n",
        "plt.title('20newsgroup distribution')"
      ],
      "metadata": {
        "colab": {
          "base_uri": "https://localhost:8080/",
          "height": 298
        },
        "id": "GlLpt6Wrv0YK",
        "outputId": "9bc5efb9-51ba-496c-9d28-74300bbae816"
      },
      "execution_count": null,
      "outputs": [
        {
          "output_type": "execute_result",
          "data": {
            "text/plain": [
              "Text(0.5, 1.0, '20newsgroup distribution')"
            ]
          },
          "metadata": {},
          "execution_count": 13
        },
        {
          "output_type": "display_data",
          "data": {
            "image/png": "[encoded data removed]",
            "text/plain": [
              "<Figure size 432x288 with 1 Axes>"
            ]
          },
          "metadata": {
            "needs_background": "light"
          }
        }
      ]
    },
    {
      "cell_type": "markdown",
      "source": [
        "Text preprocessing, tokenizing and filtering of stopwords are all included in `CountVectorizer`, which builds a dictionary of features and transforms documents to feature vectors"
      ],
      "metadata": {
        "id": "bTbrdKeflMIm"
      }
    },
    {
      "cell_type": "code",
      "execution_count": null,
      "metadata": {
        "colab": {
          "base_uri": "https://localhost:8080/"
        },
        "id": "vYIb56IRl8-p",
        "outputId": "7b5a1d8f-f010-41eb-c398-ead6a353db05"
      },
      "outputs": [
        {
          "output_type": "stream",
          "name": "stdout",
          "text": [
            "26167\n"
          ]
        }
      ],
      "source": [
        "# Bag of words representation\n",
        "from sklearn.feature_extraction.text import CountVectorizer   \n",
        "vect = CountVectorizer(lowercase=True, stop_words='english', ngram_range=(1,3), max_features=1000000)\n",
        "\n",
        "x_train_count = vect.fit_transform(news_train.text)\n",
        "y_train = twenty_train.target\n",
        "print(vect.vocabulary_.get(u'algorithm'))\n",
        "\n",
        "x_test_count = vect.transform(news_test.text)\n",
        "y_test = twenty_test.target"
      ]
    },
    {
      "cell_type": "markdown",
      "source": [
        "Occurrence count has the potential problem of discrepancies, to avoid this we can try Term Frequencies. Another refinement on top of `tf` is to downscale weights for words that occur in many documents and are therefore less informative than those that occur only in a smaller portion of the corpus.\n",
        "\n",
        "This downscaling is called `tf–idf` for “Term Frequency times Inverse Document Frequency”"
      ],
      "metadata": {
        "id": "9R--X4XOi-Li"
      }
    },
    {
      "cell_type": "code",
      "source": [
        "# Term Frequency times Inverse Document Frequency\n",
        "from sklearn.feature_extraction.text import TfidfTransformer\n",
        "tfidf_transformer = TfidfTransformer()\n",
        "\n",
        "x_train_tfidf = tfidf_transformer.fit_transform(x_train_count)\n",
        "x_test_tfidf = tfidf_transformer.transform(x_test_count)\n",
        "print(\"Shape of feature matrix:\", x_train_tfidf.shape)"
      ],
      "metadata": {
        "id": "r0th_XRWxk0O",
        "colab": {
          "base_uri": "https://localhost:8080/"
        },
        "outputId": "9ffd7200-d7bb-4fd8-f16f-51ec2d820d29"
      },
      "execution_count": null,
      "outputs": [
        {
          "output_type": "stream",
          "name": "stdout",
          "text": [
            "Shape of feature matrix: (11314, 1000000)\n"
          ]
        }
      ]
    },
    {
      "cell_type": "code",
      "source": [
        "news_train_text_transformed = model.transform(news_train_text)\n",
        "news_train_text_transformed[:5, :5]\n",
        "# y_train.shape\n",
        "# news_train.text"
      ],
      "metadata": {
        "colab": {
          "base_uri": "https://localhost:8080/"
        },
        "id": "VDjatTd7CEv-",
        "outputId": "5085cd6b-0985-40f2-de2b-aa086020b4d1"
      },
      "execution_count": null,
      "outputs": [
        {
          "output_type": "execute_result",
          "data": {
            "text/plain": [
              "array([[-0.00415066, -0.00463776,  0.00110446, -0.00229285, -0.00026437],\n",
              "       [ 0.00071668, -0.00219703,  0.00234007, -0.00236696,  0.00318006],\n",
              "       [-0.00437066, -0.00275868,  0.00296669, -0.00327352,  0.00465234],\n",
              "       [ 0.00214252,  0.0041763 ,  0.00280588, -0.00062875, -0.00465327],\n",
              "       [-0.00362935,  0.00250868,  0.00353773, -0.00455374, -0.00300275]],\n",
              "      dtype=float32)"
            ]
          },
          "metadata": {},
          "execution_count": 18
        }
      ]
    },
    {
      "cell_type": "markdown",
      "source": [
        "## Sentiment140\n",
        "The first column is the target column, which will denote the sentiment of the tweets (0/2/4). In this experiment, the focus is on classifying the sentiment of the text. Hence, we can drop the unnecessary columns."
      ],
      "metadata": {
        "id": "Nd9CP7r3rc3l"
      }
    },
    {
      "cell_type": "code",
      "source": [
        "# need to upload files to read data\n",
        "senti_train = pd.read_csv(\"training.csv\", engine='python', encoding='ISO-8859-1', header=None)#,error_bad_lines=False)\n",
        "senti_train.columns = ['polarity','id','date','query','user','text']\n",
        "senti_train = senti_train.drop(['id','date','query','user'], axis=1)\n",
        "\n",
        "senti_test = pd.read_csv(\"testdata.csv\", engine='python', encoding='ISO-8859-1', header=None)\n",
        "senti_test.columns = ['polarity','id','date','query','user','text']\n",
        "senti_test = senti_test.drop(['id','date','query','user'], axis=1)\n",
        "senti_train.head(8)"
      ],
      "metadata": {
        "id": "r9OiLOPgyUE7",
        "colab": {
          "base_uri": "https://localhost:8080/",
          "height": 300
        },
        "outputId": "4cec7e17-290b-4c82-8685-49f043232170"
      },
      "execution_count": null,
      "outputs": [
        {
          "output_type": "execute_result",
          "data": {
            "text/html": [
              "\n",
              "  <div id=\"df-b83504ee-f064-4be8-a272-51b9ad3470b4\">\n",
              "    <div class=\"colab-df-container\">\n",
              "      <div>\n",
              "<style scoped>\n",
              "    .dataframe tbody tr th:only-of-type {\n",
              "        vertical-align: middle;\n",
              "    }\n",
              "\n",
              "    .dataframe tbody tr th {\n",
              "        vertical-align: top;\n",
              "    }\n",
              "\n",
              "    .dataframe thead th {\n",
              "        text-align: right;\n",
              "    }\n",
              "</style>\n",
              "<table border=\"1\" class=\"dataframe\">\n",
              "  <thead>\n",
              "    <tr style=\"text-align: right;\">\n",
              "      <th></th>\n",
              "      <th>polarity</th>\n",
              "      <th>text</th>\n",
              "    </tr>\n",
              "  </thead>\n",
              "  <tbody>\n",
              "    <tr>\n",
              "      <th>0</th>\n",
              "      <td>0</td>\n",
              "      <td>@switchfoot http://twitpic.com/2y1zl - Awww, t...</td>\n",
              "    </tr>\n",
              "    <tr>\n",
              "      <th>1</th>\n",
              "      <td>0</td>\n",
              "      <td>is upset that he can't update his Facebook by ...</td>\n",
              "    </tr>\n",
              "    <tr>\n",
              "      <th>2</th>\n",
              "      <td>0</td>\n",
              "      <td>@Kenichan I dived many times for the ball. Man...</td>\n",
              "    </tr>\n",
              "    <tr>\n",
              "      <th>3</th>\n",
              "      <td>0</td>\n",
              "      <td>my whole body feels itchy and like its on fire</td>\n",
              "    </tr>\n",
              "    <tr>\n",
              "      <th>4</th>\n",
              "      <td>0</td>\n",
              "      <td>@nationwideclass no, it's not behaving at all....</td>\n",
              "    </tr>\n",
              "    <tr>\n",
              "      <th>5</th>\n",
              "      <td>0</td>\n",
              "      <td>@Kwesidei not the whole crew</td>\n",
              "    </tr>\n",
              "    <tr>\n",
              "      <th>6</th>\n",
              "      <td>0</td>\n",
              "      <td>Need a hug</td>\n",
              "    </tr>\n",
              "    <tr>\n",
              "      <th>7</th>\n",
              "      <td>0</td>\n",
              "      <td>@LOLTrish hey  long time no see! Yes.. Rains a...</td>\n",
              "    </tr>\n",
              "  </tbody>\n",
              "</table>\n",
              "</div>\n",
              "      <button class=\"colab-df-convert\" onclick=\"convertToInteractive('df-b83504ee-f064-4be8-a272-51b9ad3470b4')\"\n",
              "              title=\"Convert this dataframe to an interactive table.\"\n",
              "              style=\"display:none;\">\n",
              "        \n",
              "  <svg xmlns=\"http://www.w3.org/2000/svg\" height=\"24px\"viewBox=\"0 0 24 24\"\n",
              "       width=\"24px\">\n",
              "    <path d=\"M0 0h24v24H0V0z\" fill=\"none\"/>\n",
              "    <path d=\"M18.56 5.44l.94 2.06.94-2.06 2.06-.94-2.06-.94-.94-2.06-.94 2.06-2.06.94zm-11 1L8.5 8.5l.94-2.06 2.06-.94-2.06-.94L8.5 2.5l-.94 2.06-2.06.94zm10 10l.94 2.06.94-2.06 2.06-.94-2.06-.94-.94-2.06-.94 2.06-2.06.94z\"/><path d=\"M17.41 7.96l-1.37-1.37c-.4-.4-.92-.59-1.43-.59-.52 0-1.04.2-1.43.59L10.3 9.45l-7.72 7.72c-.78.78-.78 2.05 0 2.83L4 21.41c.39.39.9.59 1.41.59.51 0 1.02-.2 1.41-.59l7.78-7.78 2.81-2.81c.8-.78.8-2.07 0-2.86zM5.41 20L4 18.59l7.72-7.72 1.47 1.35L5.41 20z\"/>\n",
              "  </svg>\n",
              "      </button>\n",
              "      \n",
              "  <style>\n",
              "    .colab-df-container {\n",
              "      display:flex;\n",
              "      flex-wrap:wrap;\n",
              "      gap: 12px;\n",
              "    }\n",
              "\n",
              "    .colab-df-convert {\n",
              "      background-color: #E8F0FE;\n",
              "      border: none;\n",
              "      border-radius: 50%;\n",
              "      cursor: pointer;\n",
              "      display: none;\n",
              "      fill: #1967D2;\n",
              "      height: 32px;\n",
              "      padding: 0 0 0 0;\n",
              "      width: 32px;\n",
              "    }\n",
              "\n",
              "    .colab-df-convert:hover {\n",
              "      background-color: #E2EBFA;\n",
              "      box-shadow: 0px 1px 2px rgba(60, 64, 67, 0.3), 0px 1px 3px 1px rgba(60, 64, 67, 0.15);\n",
              "      fill: #174EA6;\n",
              "    }\n",
              "\n",
              "    [theme=dark] .colab-df-convert {\n",
              "      background-color: #3B4455;\n",
              "      fill: #D2E3FC;\n",
              "    }\n",
              "\n",
              "    [theme=dark] .colab-df-convert:hover {\n",
              "      background-color: #434B5C;\n",
              "      box-shadow: 0px 1px 3px 1px rgba(0, 0, 0, 0.15);\n",
              "      filter: drop-shadow(0px 1px 2px rgba(0, 0, 0, 0.3));\n",
              "      fill: #FFFFFF;\n",
              "    }\n",
              "  </style>\n",
              "\n",
              "      <script>\n",
              "        const buttonEl =\n",
              "          document.querySelector('#df-b83504ee-f064-4be8-a272-51b9ad3470b4 button.colab-df-convert');\n",
              "        buttonEl.style.display =\n",
              "          google.colab.kernel.accessAllowed ? 'block' : 'none';\n",
              "\n",
              "        async function convertToInteractive(key) {\n",
              "          const element = document.querySelector('#df-b83504ee-f064-4be8-a272-51b9ad3470b4');\n",
              "          const dataTable =\n",
              "            await google.colab.kernel.invokeFunction('convertToInteractive',\n",
              "                                                     [key], {});\n",
              "          if (!dataTable) return;\n",
              "\n",
              "          const docLinkHtml = 'Like what you see? Visit the ' +\n",
              "            '<a target=\"_blank\" href=https://colab.research.google.com/notebooks/data_table.ipynb>data table notebook</a>'\n",
              "            + ' to learn more about interactive tables.';\n",
              "          element.innerHTML = '';\n",
              "          dataTable['output_type'] = 'display_data';\n",
              "          await google.colab.output.renderOutput(dataTable, element);\n",
              "          const docLink = document.createElement('div');\n",
              "          docLink.innerHTML = docLinkHtml;\n",
              "          element.appendChild(docLink);\n",
              "        }\n",
              "      </script>\n",
              "    </div>\n",
              "  </div>\n",
              "  "
            ],
            "text/plain": [
              "   polarity                                               text\n",
              "0         0  @switchfoot http://twitpic.com/2y1zl - Awww, t...\n",
              "1         0  is upset that he can't update his Facebook by ...\n",
              "2         0  @Kenichan I dived many times for the ball. Man...\n",
              "3         0    my whole body feels itchy and like its on fire \n",
              "4         0  @nationwideclass no, it's not behaving at all....\n",
              "5         0                      @Kwesidei not the whole crew \n",
              "6         0                                        Need a hug \n",
              "7         0  @LOLTrish hey  long time no see! Yes.. Rains a..."
            ]
          },
          "metadata": {},
          "execution_count": 58
        }
      ]
    },
    {
      "cell_type": "markdown",
      "source": [
        "The figure shows that our training set distribution is not skewed, but we don't have instances for neural tweets."
      ],
      "metadata": {
        "id": "CFdHdfZnqebJ"
      }
    },
    {
      "cell_type": "code",
      "source": [
        "print(\"Train data size:\",len(senti_train))\n",
        "print(\"Test data size:\",len(senti_test))\n",
        "distribution = senti_train.polarity.value_counts()\n",
        "plt.figure(figsize=(8,4))\n",
        "plt.bar(distribution.index, distribution.values)\n",
        "plt.title('Tweet sentiment distribution')"
      ],
      "metadata": {
        "id": "HqlCdXNNlmRo",
        "colab": {
          "base_uri": "https://localhost:8080/",
          "height": 333
        },
        "outputId": "d02a274c-0f49-4286-b49d-3e29a2098299"
      },
      "execution_count": null,
      "outputs": [
        {
          "output_type": "stream",
          "name": "stdout",
          "text": [
            "Train data size: 1600000\n",
            "Test data size: 359\n"
          ]
        },
        {
          "output_type": "execute_result",
          "data": {
            "text/plain": [
              "Text(0.5, 1.0, 'Tweet sentiment distribution')"
            ]
          },
          "metadata": {},
          "execution_count": 59
        },
        {
          "output_type": "display_data",
          "data": {
            "image/png": "[encoded data removed]",
            "text/plain": [
              "<Figure size 576x288 with 1 Axes>"
            ]
          },
          "metadata": {
            "needs_background": "light"
          }
        }
      ]
    },
    {
      "cell_type": "markdown",
      "source": [
        "text pre-processing"
      ],
      "metadata": {
        "id": "BnWnqMNCsW03"
      }
    },
    {
      "cell_type": "code",
      "source": [
        "senti_train.text = senti_train.text.apply(lambda x: clean_text(x))\n",
        "senti_test.text = senti_test.text.apply(lambda x: clean_text(x))\n",
        "display(senti_train.head(8))"
      ],
      "metadata": {
        "id": "pwmSGJKbrPNU",
        "colab": {
          "base_uri": "https://localhost:8080/",
          "height": 300
        },
        "outputId": "72fa7456-5158-48ee-a07c-291c56b499f3"
      },
      "execution_count": null,
      "outputs": [
        {
          "output_type": "display_data",
          "data": {
            "text/html": [
              "\n",
              "  <div id=\"df-60a8d50b-6eb9-4465-91b1-e93cad88cdbc\">\n",
              "    <div class=\"colab-df-container\">\n",
              "      <div>\n",
              "<style scoped>\n",
              "    .dataframe tbody tr th:only-of-type {\n",
              "        vertical-align: middle;\n",
              "    }\n",
              "\n",
              "    .dataframe tbody tr th {\n",
              "        vertical-align: top;\n",
              "    }\n",
              "\n",
              "    .dataframe thead th {\n",
              "        text-align: right;\n",
              "    }\n",
              "</style>\n",
              "<table border=\"1\" class=\"dataframe\">\n",
              "  <thead>\n",
              "    <tr style=\"text-align: right;\">\n",
              "      <th></th>\n",
              "      <th>polarity</th>\n",
              "      <th>text</th>\n",
              "    </tr>\n",
              "  </thead>\n",
              "  <tbody>\n",
              "    <tr>\n",
              "      <th>0</th>\n",
              "      <td>0</td>\n",
              "      <td>switchfoot http twitpic com 2y1zl awww that s ...</td>\n",
              "    </tr>\n",
              "    <tr>\n",
              "      <th>1</th>\n",
              "      <td>0</td>\n",
              "      <td>is upset that he can t updat his facebook by t...</td>\n",
              "    </tr>\n",
              "    <tr>\n",
              "      <th>2</th>\n",
              "      <td>0</td>\n",
              "      <td>kenichan i dive mani time for the ball manag t...</td>\n",
              "    </tr>\n",
              "    <tr>\n",
              "      <th>3</th>\n",
              "      <td>0</td>\n",
              "      <td>my whole bodi feel itchi and like it on fire</td>\n",
              "    </tr>\n",
              "    <tr>\n",
              "      <th>4</th>\n",
              "      <td>0</td>\n",
              "      <td>nationwideclass no it s not behav at all i m m...</td>\n",
              "    </tr>\n",
              "    <tr>\n",
              "      <th>5</th>\n",
              "      <td>0</td>\n",
              "      <td>kwesidei not the whole crew</td>\n",
              "    </tr>\n",
              "    <tr>\n",
              "      <th>6</th>\n",
              "      <td>0</td>\n",
              "      <td>need a hug</td>\n",
              "    </tr>\n",
              "    <tr>\n",
              "      <th>7</th>\n",
              "      <td>0</td>\n",
              "      <td>loltrish hey long time no see yes rain a bit o...</td>\n",
              "    </tr>\n",
              "  </tbody>\n",
              "</table>\n",
              "</div>\n",
              "      <button class=\"colab-df-convert\" onclick=\"convertToInteractive('df-60a8d50b-6eb9-4465-91b1-e93cad88cdbc')\"\n",
              "              title=\"Convert this dataframe to an interactive table.\"\n",
              "              style=\"display:none;\">\n",
              "        \n",
              "  <svg xmlns=\"http://www.w3.org/2000/svg\" height=\"24px\"viewBox=\"0 0 24 24\"\n",
              "       width=\"24px\">\n",
              "    <path d=\"M0 0h24v24H0V0z\" fill=\"none\"/>\n",
              "    <path d=\"M18.56 5.44l.94 2.06.94-2.06 2.06-.94-2.06-.94-.94-2.06-.94 2.06-2.06.94zm-11 1L8.5 8.5l.94-2.06 2.06-.94-2.06-.94L8.5 2.5l-.94 2.06-2.06.94zm10 10l.94 2.06.94-2.06 2.06-.94-2.06-.94-.94-2.06-.94 2.06-2.06.94z\"/><path d=\"M17.41 7.96l-1.37-1.37c-.4-.4-.92-.59-1.43-.59-.52 0-1.04.2-1.43.59L10.3 9.45l-7.72 7.72c-.78.78-.78 2.05 0 2.83L4 21.41c.39.39.9.59 1.41.59.51 0 1.02-.2 1.41-.59l7.78-7.78 2.81-2.81c.8-.78.8-2.07 0-2.86zM5.41 20L4 18.59l7.72-7.72 1.47 1.35L5.41 20z\"/>\n",
              "  </svg>\n",
              "      </button>\n",
              "      \n",
              "  <style>\n",
              "    .colab-df-container {\n",
              "      display:flex;\n",
              "      flex-wrap:wrap;\n",
              "      gap: 12px;\n",
              "    }\n",
              "\n",
              "    .colab-df-convert {\n",
              "      background-color: #E8F0FE;\n",
              "      border: none;\n",
              "      border-radius: 50%;\n",
              "      cursor: pointer;\n",
              "      display: none;\n",
              "      fill: #1967D2;\n",
              "      height: 32px;\n",
              "      padding: 0 0 0 0;\n",
              "      width: 32px;\n",
              "    }\n",
              "\n",
              "    .colab-df-convert:hover {\n",
              "      background-color: #E2EBFA;\n",
              "      box-shadow: 0px 1px 2px rgba(60, 64, 67, 0.3), 0px 1px 3px 1px rgba(60, 64, 67, 0.15);\n",
              "      fill: #174EA6;\n",
              "    }\n",
              "\n",
              "    [theme=dark] .colab-df-convert {\n",
              "      background-color: #3B4455;\n",
              "      fill: #D2E3FC;\n",
              "    }\n",
              "\n",
              "    [theme=dark] .colab-df-convert:hover {\n",
              "      background-color: #434B5C;\n",
              "      box-shadow: 0px 1px 3px 1px rgba(0, 0, 0, 0.15);\n",
              "      filter: drop-shadow(0px 1px 2px rgba(0, 0, 0, 0.3));\n",
              "      fill: #FFFFFF;\n",
              "    }\n",
              "  </style>\n",
              "\n",
              "      <script>\n",
              "        const buttonEl =\n",
              "          document.querySelector('#df-60a8d50b-6eb9-4465-91b1-e93cad88cdbc button.colab-df-convert');\n",
              "        buttonEl.style.display =\n",
              "          google.colab.kernel.accessAllowed ? 'block' : 'none';\n",
              "\n",
              "        async function convertToInteractive(key) {\n",
              "          const element = document.querySelector('#df-60a8d50b-6eb9-4465-91b1-e93cad88cdbc');\n",
              "          const dataTable =\n",
              "            await google.colab.kernel.invokeFunction('convertToInteractive',\n",
              "                                                     [key], {});\n",
              "          if (!dataTable) return;\n",
              "\n",
              "          const docLinkHtml = 'Like what you see? Visit the ' +\n",
              "            '<a target=\"_blank\" href=https://colab.research.google.com/notebooks/data_table.ipynb>data table notebook</a>'\n",
              "            + ' to learn more about interactive tables.';\n",
              "          element.innerHTML = '';\n",
              "          dataTable['output_type'] = 'display_data';\n",
              "          await google.colab.output.renderOutput(dataTable, element);\n",
              "          const docLink = document.createElement('div');\n",
              "          docLink.innerHTML = docLinkHtml;\n",
              "          element.appendChild(docLink);\n",
              "        }\n",
              "      </script>\n",
              "    </div>\n",
              "  </div>\n",
              "  "
            ],
            "text/plain": [
              "   polarity                                               text\n",
              "0         0  switchfoot http twitpic com 2y1zl awww that s ...\n",
              "1         0  is upset that he can t updat his facebook by t...\n",
              "2         0  kenichan i dive mani time for the ball manag t...\n",
              "3         0       my whole bodi feel itchi and like it on fire\n",
              "4         0  nationwideclass no it s not behav at all i m m...\n",
              "5         0                        kwesidei not the whole crew\n",
              "6         0                                         need a hug\n",
              "7         0  loltrish hey long time no see yes rain a bit o..."
            ]
          },
          "metadata": {}
        }
      ]
    },
    {
      "cell_type": "code",
      "source": [
        "vect = CountVectorizer(lowercase=True, stop_words='english')\n",
        "x2_train_count = vect.fit_transform(senti_train.text)\n",
        "x2_train = tfidf_transformer.fit_transform(x2_train_count)\n",
        "y2_train = senti_train.polarity.to_numpy()\n",
        "\n",
        "x2_test_count = vect.transform(senti_test.text)\n",
        "x2_test = tfidf_transformer.transform(x2_test_count)\n",
        "y2_test = senti_test.polarity.to_numpy()\n",
        "\n",
        "print(\"Shape of feature matrix:\", x2_train.shape)"
      ],
      "metadata": {
        "id": "Vvx41BITxm3_",
        "colab": {
          "base_uri": "https://localhost:8080/"
        },
        "outputId": "37da33fb-9ca3-4e97-ad0e-f4347672eabb"
      },
      "execution_count": null,
      "outputs": [
        {
          "output_type": "stream",
          "name": "stdout",
          "text": [
            "Shape of feature matrix: (1600000, 605773)\n"
          ]
        }
      ]
    },
    {
      "cell_type": "markdown",
      "source": [
        "# Model implementation\n"
      ],
      "metadata": {
        "id": "nBPPUQXpwKa-"
      }
    },
    {
      "cell_type": "markdown",
      "source": [
        "## Naive Bayes\n",
        "\n",
        "In multinomial naive bayes, we sum up the instances for each category and use this value for the calculation of probability for each category. \n",
        "\n",
        "\n",
        "In prediction step, we calculate the prior and posterior probability for each test data, which will be used for categorize test data. "
      ],
      "metadata": {
        "id": "9cEL9QFEX2A6"
      }
    },
    {
      "cell_type": "code",
      "source": [
        "from scipy.sparse import csr_matrix\n",
        "from sklearn.utils.validation import check_X_y, check_array\n",
        "\n",
        "# Multinomial Naive Bayes\n",
        "class NaiveBayes:\n",
        "    \n",
        "    def __init__(self, alpha=0.1):\n",
        "      self.prior = None\n",
        "      self.word_counts = None\n",
        "      self.lk_word = None\n",
        "      self.alpha = alpha\n",
        "      self.is_fitted_ = False\n",
        "      return\n",
        "    \n",
        "    def fit(self, x, y):\n",
        "      N, D = x.shape\n",
        "      C = np.max(y) + 1\n",
        "      word_count= np.zeros((C,D))\n",
        "      Nc = np.zeros(C)\n",
        "      X_by_class = np.array([x[y == c] for c in range(C)])\n",
        "      for c in range(C):\n",
        "         x_c = x[y == c]   \n",
        "         Nc[c] = X_by_class[c].shape[0]\n",
        "         word_count[c,:] = np.sum(X_by_class[c],axis=0) \n",
        "      self.pi = (Nc+self.alpha)/(N+D+1)\n",
        "      self.theta_one = word_count+self.alpha\n",
        "      self.theta_two = self.alpha*D+C\n",
        "      return self"
      ],
      "metadata": {
        "id": "FKrkB_YDwRXZ"
      },
      "execution_count": null,
      "outputs": []
    },
    {
      "cell_type": "code",
      "source": [
        "def logsumexp(Z):                                             # dimension C x N\n",
        "    Zmax = np.max(Z,axis=0)[None,:]                           # max over C\n",
        "    log_sum_exp = Zmax + np.log(np.sum(np.exp(Z - Zmax), axis=0))\n",
        "    return log_sum_exp\n",
        "\n",
        "\n",
        "def predict(self, xt):\n",
        "     Nt, D = xt.shape\n",
        "     # for numerical stability we work in the log domain\n",
        "     # we add a dimension because this is added to the log-likelihood matrix \n",
        "     # that assigns a likelihood for each class (C) to each test point, and so it is C x N\n",
        "     log_prior = np.log(self.pi)[:, None]\n",
        "\n",
        "     C,D_theta = self.theta_one.shape\n",
        "     #xx_test = csr_matrix(xt)\n",
        "     log_likelihood = np.zeros((Nt,C))\n",
        "     log_theta = np.log(self.theta_one) - np.log(self.theta_two)\n",
        "     for i in range(C):\n",
        "         log_likelihood[:,i] = (xt.multiply(csr_matrix(log_theta[i]))).sum(axis=1).reshape(((xt.multiply(csr_matrix(log_theta[i]))).sum(axis=1)).shape[0],)[0] \n",
        "         #mult = mult.sum(axis=1)\n",
        "         #log_likelihood[:,i] = mult.reshape(mult.shape[0],)[0] \n",
        "         #del mult\n",
        "        \n",
        "     log_likelihood = log_likelihood.T\n",
        "\n",
        "     # log_likelihood = np.sum(log_likelihood, axis=2)\n",
        "     # posterior calculation\n",
        "     log_posterior = log_prior + log_likelihood\n",
        "     posterior = np.exp(log_posterior - logsumexp(log_posterior))\n",
        "     return np.argmax(posterior.T, 1)\n",
        "\n",
        "NaiveBayes.predict = predict"
      ],
      "metadata": {
        "id": "fxB0y9PLmY2h"
      },
      "execution_count": null,
      "outputs": []
    },
    {
      "cell_type": "markdown",
      "source": [
        "## K-fold cross validaton\n",
        "\n",
        "K-fold cross validation is a useful technique to reuse data for validation and test set. By splitting data into different set, we can tune the hyperparameter for better performance on the test set. "
      ],
      "metadata": {
        "id": "JADh7tD6-GLn"
      }
    },
    {
      "cell_type": "code",
      "source": [
        "loss = lambda y, yh: np.mean((y-yh)**2)\n",
        "\n",
        "def evaluate_acc(y_pred, y_true):\n",
        "    sum = np.sum(y_pred == y_true) / len(y_true)\n",
        "    return sum \n",
        "\n",
        "\n",
        "def cross_validation_split(X_train_tfidf, Y_train, X_test_tfidf, Y_test, num_folds): \n",
        "  # according to the assignment all that we take is the data as entry\n",
        "  #num_folds = 10\n",
        "  (num_instances, num_features), num_classes = X_train_tfidf.shape, np.max(Y_train)+1\n",
        "  n_test, n_valid = num_instances // num_folds, num_instances // num_folds\n",
        "  inds = np.random.permutation(num_instances)\n",
        "  inds_1 = np.random.permutation(n_test)\n",
        "  if n_valid > X_test_tfidf.shape[0]:\n",
        "      n_valid = X_test_tfidf.shape[0]\n",
        "      inds_2 = np.random.permutation(n_valid)\n",
        "  else:\n",
        "      inds_2 = inds_1\n",
        "  x_test, y_test = X_test_tfidf[inds_2[:n_valid]], Y_test[inds_2[:n_valid]]\n",
        "  x_rest, y_rest = X_train_tfidf[inds[:n_test],:], Y_train[inds[:n_test]]\n",
        "\n",
        "  return x_test, y_test, x_rest, y_rest\n",
        "\n",
        "\n",
        "def cross_validate(input_data, k_fold):\n",
        "  cv_data = []\n",
        "  fold = input_data // k_fold  \n",
        "  \n",
        "  for f in range(k_fold):\n",
        "    tr_inds = []\n",
        "    cv_data = []\n",
        "    val_inds = list(range(f * fold, (f+1)*fold))\n",
        "    if f > 0:\n",
        "      tr_inds = list(range(f*fold))\n",
        "    if f < k_fold - 1:\n",
        "      tr_inds = tr_inds + list(range((f+1)*fold, input_data))\n",
        "    yield tr_inds, val_inds\n",
        "\n",
        "\n",
        "def kfold_cv (x_test, y_test, x_rest, y_rest, model):\n",
        "  result = 0\n",
        "  num_instances = x_rest.shape[0]\n",
        "  test_error = np.zeros(len(K_list))\n",
        "  validation_error = np.zeros((len(K_list), num_folds))\n",
        "  for f, (tr, val) in enumerate(cross_validate(num_instances, num_folds)):\n",
        "      model.fit(x_rest[tr], y_rest[tr])\n",
        "      y_prob = model.predict(x_rest[val])\n",
        "      #y_pred = np.argmax(y_prob, 1)\n",
        "      validation_error[i, f] = 1-evaluate_acc(y_prob, y_rest[val])\n",
        "    #this is the part that we don't do in a usual setup. We don't touch the test set until the very end. \n",
        "  model.fit(x_rest, y_rest)\n",
        "  y_prob = model.predict(x_test)\n",
        "  #y_pred = np.argmax(y_prob, 1)\n",
        "  result = evaluate_acc(y_prob, y_test)\n",
        "  test_error[i]= 1-evaluate_acc(y_prob, y_test)\n",
        "  print(result)\n",
        "  return validation_error[i], test_error[i]\n"
      ],
      "metadata": {
        "id": "k8uaZz5j-LN2"
      },
      "execution_count": null,
      "outputs": []
    },
    {
      "cell_type": "markdown",
      "source": [
        "# Hyperparameter tuning"
      ],
      "metadata": {
        "id": "01hGb6TFJpQm"
      }
    },
    {
      "cell_type": "markdown",
      "source": [
        "## 20 newsgroup"
      ],
      "metadata": {
        "id": "mN6AzdLNYCaW"
      }
    },
    {
      "cell_type": "markdown",
      "source": [
        "By 5-fold cross validation we found the best NB model is when alpha=0.007, which gave accuracy 0.54. This is an acceptable result based on accuracy 0.61 got from the built-in Mutinomial NB classifier."
      ],
      "metadata": {
        "id": "tM12na9M7Jg-"
      }
    },
    {
      "cell_type": "code",
      "source": [
        "#print(CV_data)\n",
        "num_folds = 5\n",
        "x_test_after, y_test_after, x_rest, y_rest = cross_validation_split(x_train_tfidf, y_train, \n",
        "                                                                    x_test_tfidf, y_test,num_folds)\n",
        "K_list = [0.0005,0.001,0.003,0.005,0.007,0.01,0.015,0.02,0.025,0.03,0.035,0.04,0.045]\n",
        "test_error = np.zeros(len(K_list))\n",
        "validation_error = np.zeros((len(K_list), num_folds))\n",
        "for i, K in enumerate(K_list):\n",
        "  validation_error[i], test_error[i] = kfold_cv(x_test_after, y_test_after, x_rest, y_rest, NaiveBayes(K))\n",
        "  \n",
        "plt.plot(K_list, test_error, label='test')\n",
        "plt.errorbar(K_list, np.mean(validation_error, axis=1), np.std(validation_error, axis=1), label='validation')\n",
        "plt.legend()\n",
        "plt.xlabel('alpha')\n",
        "plt.ylabel('error rate')\n",
        "plt.show()"
      ],
      "metadata": {
        "colab": {
          "base_uri": "https://localhost:8080/",
          "height": 504
        },
        "id": "Nh72h9FUJtpx",
        "outputId": "fa632768-c809-4bac-daeb-a65b443c971d"
      },
      "execution_count": null,
      "outputs": [
        {
          "output_type": "stream",
          "name": "stdout",
          "text": [
            "0.5128205128205128\n",
            "0.5212201591511937\n",
            "0.5344827586206896\n",
            "0.5358090185676393\n",
            "0.5384615384615384\n",
            "0.5362511052166224\n",
            "0.537577365163572\n",
            "0.5349248452696729\n",
            "0.53315649867374\n",
            "0.5322723253757736\n",
            "0.5318302387267905\n",
            "0.5318302387267905\n",
            "0.5300618921308576\n"
          ]
        },
        {
          "output_type": "display_data",
          "data": {
            "image/png": "[encoded data removed]",
            "text/plain": [
              "<Figure size 432x288 with 1 Axes>"
            ]
          },
          "metadata": {
            "needs_background": "light"
          }
        }
      ]
    },
    {
      "cell_type": "code",
      "source": [
        "# use built-in MultinomialNB to compare accuracy performance\n",
        "from sklearn.naive_bayes import MultinomialNB\n",
        "nb = MultinomialNB()\n",
        "nb.fit(x_train_tfidf, y_train)\n",
        "y_pred_class = nb.predict(x_test_tfidf)\n",
        "from sklearn import metrics\n",
        "metrics.accuracy_score(y_test, y_pred_class)"
      ],
      "metadata": {
        "colab": {
          "base_uri": "https://localhost:8080/"
        },
        "id": "LqpfuC4tPoVR",
        "outputId": "27dab853-4569-4409-818c-428796ec210c"
      },
      "execution_count": null,
      "outputs": [
        {
          "output_type": "execute_result",
          "data": {
            "text/plain": [
              "0.6100637280934679"
            ]
          },
          "metadata": {},
          "execution_count": 31
        }
      ]
    },
    {
      "cell_type": "markdown",
      "source": [
        "## Sentiment140\n",
        "By 5-fold cross validation we found the best NB model is when alpha = 13, which gave accuracy 0.83. This is an acceptable result based on accuracy 0.79 got from the built-in Mutinomial NB classifier."
      ],
      "metadata": {
        "id": "O_h1BmNsE69L"
      }
    },
    {
      "cell_type": "code",
      "source": [
        "print(x2_train.shape)\n",
        "num_folds = 5\n",
        "x_test_after, y_test_after, x_rest, y_rest = cross_validation_split(x2_train, y2_train, \n",
        "                                                                    x2_test, y2_test,num_folds)\n",
        "K_list = [1,3,5,7,9,11,13,15,17,19,21]\n",
        "test_error = np.zeros(len(K_list))\n",
        "validation_error = np.zeros((len(K_list), num_folds))\n",
        "for i, K in enumerate(K_list):\n",
        "  validation_error[i], test_error[i] = kfold_cv(x_test_after, y_test_after, x_rest, y_rest, NaiveBayes(K))\n",
        "\n",
        "plt.plot(K_list, test_error, label='test')\n",
        "plt.errorbar(K_list, np.mean(validation_error, axis=1), np.std(validation_error, axis=1), label='validation')\n",
        "plt.legend()\n",
        "plt.xlabel('alpha')\n",
        "plt.ylabel('error rate')\n",
        "plt.show()"
      ],
      "metadata": {
        "id": "B9yjz39KFARE",
        "colab": {
          "base_uri": "https://localhost:8080/",
          "height": 487
        },
        "outputId": "8e2b1c18-31ba-4ff3-b15e-b4805e1ce787"
      },
      "execution_count": null,
      "outputs": [
        {
          "output_type": "stream",
          "name": "stdout",
          "text": [
            "(1600000, 605773)\n",
            "0.8050139275766016\n",
            "0.8217270194986073\n",
            "0.8161559888579387\n",
            "0.8050139275766016\n",
            "0.8105849582172702\n",
            "0.8161559888579387\n",
            "0.8272980501392758\n",
            "0.8272980501392758\n",
            "0.8272980501392758\n",
            "0.8217270194986073\n",
            "0.8217270194986073\n"
          ]
        },
        {
          "output_type": "display_data",
          "data": {
            "image/png": "[encoded data removed]",
            "text/plain": [
              "<Figure size 432x288 with 1 Axes>"
            ]
          },
          "metadata": {
            "needs_background": "light"
          }
        }
      ]
    },
    {
      "cell_type": "code",
      "source": [
        "# use built-in MultinomialNB to compare accuracy performance\n",
        "nb.fit(x2_train, y2_train)\n",
        "y2_pred_class = nb.predict(x2_test)\n",
        "metrics.accuracy_score(y2_test, y2_pred_class)"
      ],
      "metadata": {
        "colab": {
          "base_uri": "https://localhost:8080/"
        },
        "id": "Y93EunC_8g8U",
        "outputId": "afc5585d-1b5e-469e-be5c-798fd36f3af7"
      },
      "execution_count": null,
      "outputs": [
        {
          "output_type": "execute_result",
          "data": {
            "text/plain": [
              "0.7883008356545961"
            ]
          },
          "metadata": {},
          "execution_count": 63
        }
      ]
    },
    {
      "cell_type": "markdown",
      "source": [
        "## Logistic regression \n",
        "\n",
        "For logistic regression, we used the method directly from sklearn library and tuned hyperparameter: c_values and solvers. "
      ],
      "metadata": {
        "id": "2YnH1CWaN1gC"
      }
    },
    {
      "cell_type": "code",
      "source": [
        "from sklearn.linear_model import LogisticRegression"
      ],
      "metadata": {
        "id": "Xhp760Kz9jCY"
      },
      "execution_count": null,
      "outputs": []
    },
    {
      "cell_type": "code",
      "source": [
        "c_values = [100, 10, 1, 0.1, 0.01, 0.05] #hyperparameter for logstic regression\n",
        "solvers = ['newton-cg', 'lbfgs', 'liblinear'] # different algorithm for logstic regression\n"
      ],
      "metadata": {
        "id": "ZHkNQy_ocgcL"
      },
      "execution_count": null,
      "outputs": []
    },
    {
      "cell_type": "markdown",
      "source": [
        "### 20 news"
      ],
      "metadata": {
        "id": "5AJuEgauYLpW"
      }
    },
    {
      "cell_type": "code",
      "source": [
        "\n",
        "data1_res1=[]\n",
        "data1_res2=[]\n",
        "data1_res3=[]\n",
        "\n",
        "for c in c_values:\n",
        "  ini = LogisticRegression( solver=solvers[0], C=c)\n",
        "  ini.fit(x_train_tfidf, y_train)\n",
        "  y_pred = ini.predict(x_test_tfidf)\n",
        "  data1_res1.append(evaluate_acc(y_pred, y_test))\n",
        "\n",
        "for c in c_values:\n",
        "  ini = LogisticRegression( solver=solvers[1],C=c, max_iter=5000)\n",
        "  ini.fit(x_train_tfidf, y_train)\n",
        "  y_pred = ini.predict(x_test_tfidf)\n",
        "  data1_res2.append(evaluate_acc(y_pred, y_test))\n",
        "for c in c_values:\n",
        "  ini = LogisticRegression(solver=solvers[2], C=c)\n",
        "  ini.fit(x_train_tfidf, y_train)\n",
        "  y_pred = ini.predict(x_test_tfidf)\n",
        "  data1_res3.append(evaluate_acc(y_pred, y_test))\n",
        "\n",
        "print(data1_res1)\n",
        "print(data1_res2)\n",
        "print(data1_res3)\n",
        "\n",
        "# cost too much time , don't run again \n",
        "# result:\n",
        "#[0.6990175252257037, 0.7010090281465746, 0.6868029739776952, 0.6342272968667021, 0.5005310674455656, 0.6087360594795539]\n",
        "#[0.6990175252257037, 0.7010090281465746, 0.6869357408390866, 0.6340945300053107, 0.5005310674455656, 0.6086032926181625]\n",
        "#[0.7027349973446628, 0.700477960701009, 0.6854753053637812, 0.6336962294211365, 0.5430164630908125, 0.611125862984599]\n",
        "\n",
        "# Because the value difference of each x value is too large, we could not plot a readable graph"
      ],
      "metadata": {
        "colab": {
          "base_uri": "https://localhost:8080/",
          "height": 121
        },
        "id": "S-IGxJPjckJS",
        "outputId": "83edaeb2-e478-4946-fb9d-4ba4182a69d5"
      },
      "execution_count": null,
      "outputs": [
        {
          "output_type": "execute_result",
          "data": {
            "application/vnd.google.colaboratory.intrinsic+json": {
              "type": "string"
            },
            "text/plain": [
              "'\\ndata1_res1=[]\\ndata1_res2=[]\\ndata1_res3=[]\\n\\nfor c in c_values:\\n  ini = LogisticRegression( solver=solvers[0], C=c)\\n  ini.fit(x_train_tfidf, y_train)\\n  y_pred = ini.predict(x_test_tfidf)\\n  data1_res1.append(evaluate_acc(y_pred, y_test))\\n\\nfor c in c_values:\\n  ini = LogisticRegression( solver=solvers[1],C=c, max_iter=5000)\\n  ini.fit(x_train_tfidf, y_train)\\n  y_pred = ini.predict(x_test_tfidf)\\n  data1_res2.append(evaluate_acc(y_pred, y_test))\\nfor c in c_values:\\n  ini = LogisticRegression(solver=solvers[2], C=c)\\n  ini.fit(x_train_tfidf, y_train)\\n  y_pred = ini.predict(x_test_tfidf)\\n  data1_res3.append(evaluate_acc(y_pred, y_test))\\n\\nprint(data1_res1)\\nprint(data1_res2)\\nprint(data1_res3)\\n'"
            ]
          },
          "metadata": {},
          "execution_count": 36
        }
      ]
    },
    {
      "cell_type": "markdown",
      "source": [
        "###sentiment140"
      ],
      "metadata": {
        "id": "JJ605c7gYXe4"
      }
    },
    {
      "cell_type": "code",
      "source": [
        "data2_res1=[]\n",
        "data2_res2=[]\n",
        "data2_res3=[]\n",
        "#in this experiment we found that 'newton-cg', 'lbfgs', 'liblinear' would not  be convergent in limiting iteration\n",
        "#the large size of this dataset may be the cause.\n",
        "#but it still give proper result\n",
        "#use sag solver could converge faster but its accuracy be lower.\n",
        "\n",
        "c2=[1, 0.1, 0.01, 0.05]\n",
        "for c in c2:\n",
        "  ini = LogisticRegression( solver=solvers[0], C=c)\n",
        "  ini.fit(x2_train, y2_train)\n",
        "  y_pred = ini.predict(x2_test)\n",
        "  data2_res1.append(evaluate_acc(y_pred, y2_test))\n",
        "\n",
        "for c in c2:\n",
        "  ini = LogisticRegression( solver=solvers[1], C=c)\n",
        "  ini.fit(x2_train, y2_train)\n",
        "  y_pred = ini.predict(x2_test)\n",
        "  data2_res2.append(evaluate_acc(y_pred, y2_test))\n",
        "\n",
        "for c in c2:\n",
        "  ini = LogisticRegression( solver=solvers[2], C=c)\n",
        "  ini.fit(x2_train, y2_train)\n",
        "  y_pred = ini.predict(x2_test)\n",
        "  data2_res3.append(evaluate_acc(y_pred, y2_test))\n",
        "\n",
        "\n",
        "print(data2_res1)\n",
        "print(data2_res2)\n",
        "print(data2_res2)"
      ],
      "metadata": {
        "colab": {
          "base_uri": "https://localhost:8080/"
        },
        "id": "2z2xuQVfcmx9",
        "outputId": "702c1018-4412-46f1-b203-ef441b35a88f"
      },
      "execution_count": null,
      "outputs": [
        {
          "output_type": "stream",
          "name": "stderr",
          "text": [
            "/usr/local/lib/python3.7/dist-packages/sklearn/linear_model/_logistic.py:818: ConvergenceWarning: lbfgs failed to converge (status=1):\n",
            "STOP: TOTAL NO. of ITERATIONS REACHED LIMIT.\n",
            "\n",
            "Increase the number of iterations (max_iter) or scale the data as shown in:\n",
            "    https://scikit-learn.org/stable/modules/preprocessing.html\n",
            "Please also refer to the documentation for alternative solver options:\n",
            "    https://scikit-learn.org/stable/modules/linear_model.html#logistic-regression\n",
            "  extra_warning_msg=_LOGISTIC_SOLVER_CONVERGENCE_MSG,\n",
            "/usr/local/lib/python3.7/dist-packages/sklearn/linear_model/_logistic.py:818: ConvergenceWarning: lbfgs failed to converge (status=1):\n",
            "STOP: TOTAL NO. of ITERATIONS REACHED LIMIT.\n",
            "\n",
            "Increase the number of iterations (max_iter) or scale the data as shown in:\n",
            "    https://scikit-learn.org/stable/modules/preprocessing.html\n",
            "Please also refer to the documentation for alternative solver options:\n",
            "    https://scikit-learn.org/stable/modules/linear_model.html#logistic-regression\n",
            "  extra_warning_msg=_LOGISTIC_SOLVER_CONVERGENCE_MSG,\n",
            "/usr/local/lib/python3.7/dist-packages/sklearn/linear_model/_logistic.py:818: ConvergenceWarning: lbfgs failed to converge (status=1):\n",
            "STOP: TOTAL NO. of ITERATIONS REACHED LIMIT.\n",
            "\n",
            "Increase the number of iterations (max_iter) or scale the data as shown in:\n",
            "    https://scikit-learn.org/stable/modules/preprocessing.html\n",
            "Please also refer to the documentation for alternative solver options:\n",
            "    https://scikit-learn.org/stable/modules/linear_model.html#logistic-regression\n",
            "  extra_warning_msg=_LOGISTIC_SOLVER_CONVERGENCE_MSG,\n"
          ]
        },
        {
          "output_type": "stream",
          "name": "stdout",
          "text": [
            "[0.807799442896936, 0.8161559888579387, 0.7883008356545961, 0.8105849582172702]\n",
            "[0.8022284122562674, 0.8161559888579387, 0.7883008356545961, 0.8105849582172702]\n",
            "[0.8022284122562674, 0.8161559888579387, 0.7883008356545961, 0.8105849582172702]\n"
          ]
        }
      ]
    },
    {
      "cell_type": "markdown",
      "source": [
        "# Different data size"
      ],
      "metadata": {
        "id": "6-GCRBpNXtEv"
      }
    },
    {
      "cell_type": "code",
      "source": [
        "def mycross_validation_split(X_train_tfidf, Y_train, X_test_tfidf, Y_test): \n",
        "  # according to the assignment all that we take is the data as entry\n",
        "  num_folds = 1\n",
        "  (num_instances, num_features), num_classes = X_train_tfidf.shape, np.max(Y_train)+1\n",
        "  n_test, n_valid = num_instances // num_folds, num_instances // num_folds\n",
        "  inds = np.random.permutation(num_instances)\n",
        "  inds_1 = np.random.permutation(n_test)\n",
        "  if n_valid > X_test_tfidf.shape[0]:\n",
        "    n_valid = X_test_tfidf.shape[0]\n",
        "    inds_2 = np.random.permutation(n_valid)\n",
        "  else:\n",
        "    inds_2 = inds_1\n",
        "  x_test, y_test = X_test_tfidf[inds_2[:n_valid]], Y_test[inds_2[:n_valid]]\n",
        "  x_rest, y_rest = X_train_tfidf[inds[:n_test],:], Y_train[inds[:n_test]]\n",
        "\n",
        "  return x_test, y_test, x_rest, y_rest\n",
        "def split_train(x_trainset,y_trainset, x, y, percentage):\n",
        "\n",
        "  x111,y111,x221,y221=mycross_validation_split(x_trainset, y_trainset, x, y)\n",
        "  \n",
        "  num_index = int(x_trainset.shape[0]*percentage/100)\n",
        "  \n",
        "  x_train_res, y_train_res = x111[:num_index], y111[:num_index]\n",
        "  return x_train_res, y_train_res  "
      ],
      "metadata": {
        "id": "DdQx2FZOcqar"
      },
      "execution_count": null,
      "outputs": []
    },
    {
      "cell_type": "code",
      "source": [
        "x1_20_train, y1_20_train = split_train(x_train_tfidf,y_train,x_train_tfidf,y_train, 20)\n",
        "x1_40_train, y1_40_train = split_train(x_train_tfidf,y_train,x_train_tfidf,y_train, 40)\n",
        "x1_60_train, y1_60_train = split_train(x_train_tfidf,y_train,x_train_tfidf,y_train, 60)\n",
        "x1_80_train, y1_80_train = split_train(x_train_tfidf,y_train,x_train_tfidf,y_train, 80)\n"
      ],
      "metadata": {
        "id": "UPN6bYwucskK"
      },
      "execution_count": null,
      "outputs": []
    },
    {
      "cell_type": "code",
      "source": [
        "y1_acc=[]\n",
        "model1 = NaiveBayes(0.025)\n",
        "\n",
        "model1.fit(x1_20_train, y1_20_train)#20% train size\n",
        "y_pred=model1.predict(x_test_tfidf)\n",
        "y1_acc.append(evaluate_acc(y_pred,y_test))\n",
        "\n",
        "model1.fit(x1_40_train, y1_40_train)#40% train size\n",
        "y_pred=model1.predict(x_test_tfidf)\n",
        "y1_acc.append(evaluate_acc(y_pred,y_test))\n",
        "\n",
        "model1.fit(x1_60_train, y1_60_train)#60% train size\n",
        "y_pred=model1.predict(x_test_tfidf)\n",
        "y1_acc.append(evaluate_acc(y_pred,y_test))\n",
        "\n",
        "model1.fit(x1_80_train, y1_80_train)#80% train size\n",
        "y_pred=model1.predict(x_test_tfidf)\n",
        "y1_acc.append(evaluate_acc(y_pred,y_test))\n",
        "\n",
        "model1.fit(x_train_tfidf, y_train)#100% train size\n",
        "y_pred=model1.predict(x_test_tfidf)\n",
        "y1_acc.append(evaluate_acc(y_pred,y_test))"
      ],
      "metadata": {
        "id": "P7cM5PpScu1r"
      },
      "execution_count": null,
      "outputs": []
    },
    {
      "cell_type": "code",
      "source": [
        "plt.xticks([20,40,60,80,100])\n",
        "plt.title(\"Accuracy using different sizes of data, in Naive Bayes, for twenty news dataset\")\n",
        "plt.plot([20,40,60,80,100],y1_acc, '-', label=\"Accuracies\")\n",
        "plt.legend()\n",
        "plt.show()\n",
        "print('The highest accuracy is',y1_acc[4],'with 100% data size')"
      ],
      "metadata": {
        "colab": {
          "base_uri": "https://localhost:8080/",
          "height": 298
        },
        "id": "a3OYbHGJcxD5",
        "outputId": "67fcfd69-3374-4754-8dc3-add95c49f0da"
      },
      "execution_count": null,
      "outputs": [
        {
          "output_type": "display_data",
          "data": {
            "image/png": "[encoded data removed]",
            "text/plain": [
              "<Figure size 432x288 with 1 Axes>"
            ]
          },
          "metadata": {
            "needs_background": "light"
          }
        },
        {
          "output_type": "stream",
          "name": "stdout",
          "text": [
            "The highest accuracy is 0.6411311736590547 with 100% data size\n"
          ]
        }
      ]
    },
    {
      "cell_type": "code",
      "source": [
        "y1b_acc=[]\n",
        "model2 = LogisticRegression(solver=solvers[2], C=10)\n",
        "\n",
        "model2.fit(x1_20_train, y1_20_train)#20% train size\n",
        "y_pred=model2.predict(x_test_tfidf)\n",
        "y1b_acc.append(evaluate_acc(y_pred,y_test))\n",
        "\n",
        "model2.fit(x1_40_train, y1_40_train)#40% train size\n",
        "y_pred=model2.predict(x_test_tfidf)\n",
        "y1b_acc.append(evaluate_acc(y_pred,y_test))\n",
        "\n",
        "model2.fit(x1_60_train, y1_60_train)#60% train size\n",
        "y_pred=model2.predict(x_test_tfidf)\n",
        "y1b_acc.append(evaluate_acc(y_pred,y_test))\n",
        "\n",
        "model2.fit(x1_80_train, y1_80_train)#80% train size\n",
        "y_pred=model2.predict(x_test_tfidf)\n",
        "y1b_acc.append(evaluate_acc(y_pred,y_test))\n",
        "\n",
        "model2.fit(x_train_tfidf, y_train)#100% train size\n",
        "y_pred=model2.predict(x_test_tfidf)\n",
        "y1b_acc.append(evaluate_acc(y_pred,y_test))"
      ],
      "metadata": {
        "id": "Tv4mDAcIczCI"
      },
      "execution_count": null,
      "outputs": []
    },
    {
      "cell_type": "code",
      "source": [
        "plt.xticks([20,40,60,80,100])\n",
        "plt.title(\"Accuracy using different sizes of data, in softmax regression , for twenty news dataset\")\n",
        "plt.plot([20,40,60,80,100],y1b_acc, '-', label=\"Accuracies\")\n",
        "plt.legend()\n",
        "plt.show()\n",
        "print('The highest accuracy is',y1b_acc[4],'with 100% data size')"
      ],
      "metadata": {
        "colab": {
          "base_uri": "https://localhost:8080/",
          "height": 298
        },
        "id": "oLVA4xkRc3Uo",
        "outputId": "a2f00b90-79cb-4f2b-db16-afba68a7ab49"
      },
      "execution_count": null,
      "outputs": [
        {
          "output_type": "display_data",
          "data": {
            "image/png": "[encoded data removed]",
            "text/plain": [
              "<Figure size 432x288 with 1 Axes>"
            ]
          },
          "metadata": {
            "needs_background": "light"
          }
        },
        {
          "output_type": "stream",
          "name": "stdout",
          "text": [
            "The highest accuracy is 0.6275889537971322 with 100% data size\n"
          ]
        }
      ]
    },
    {
      "cell_type": "code",
      "source": [
        "x2_20_train, y2_20_train = split_train(x2_train,y2_train,x2_train,y2_train, 20)\n",
        "x2_40_train, y2_40_train = split_train(x2_train,y2_train,x2_train,y2_train, 40)\n",
        "x2_60_train, y2_60_train = split_train(x2_train,y2_train,x2_train,y2_train, 60)\n",
        "x2_80_train, y2_80_train = split_train(x2_train,y2_train,x2_train,y2_train, 80)"
      ],
      "metadata": {
        "id": "t2639c0Lc4CU"
      },
      "execution_count": null,
      "outputs": []
    },
    {
      "cell_type": "code",
      "source": [
        "y2a_acc=[]\n",
        "model1 = NaiveBayes(15)\n",
        "\n",
        "model1.fit(x2_20_train, y2_20_train)#20% train size\n",
        "y_pred=model1.predict(x2_test)\n",
        "y2a_acc.append(evaluate_acc(y_pred,y2_test))\n",
        "\n",
        "model1.fit(x2_40_train, y2_40_train)#40% train size\n",
        "y_pred=model1.predict(x2_test)\n",
        "y2a_acc.append(evaluate_acc(y_pred,y2_test))\n",
        "\n",
        "model1.fit(x2_60_train, y2_60_train)#60% train size\n",
        "y_pred=model1.predict(x2_test)\n",
        "y2a_acc.append(evaluate_acc(y_pred,y2_test))\n",
        "\n",
        "model1.fit(x2_80_train, y2_80_train)#80% train size\n",
        "y_pred=model1.predict(x2_test)\n",
        "y2a_acc.append(evaluate_acc(y_pred,y2_test))\n",
        "\n",
        "model1.fit(x2_train, y2_train)#100% train size\n",
        "y_pred=model1.predict(x2_test)\n",
        "y2a_acc.append(evaluate_acc(y_pred,y2_test))"
      ],
      "metadata": {
        "id": "Nnk-4iIGc-Uf"
      },
      "execution_count": null,
      "outputs": []
    },
    {
      "cell_type": "code",
      "source": [
        "plt.xticks([20,40,60,80,100])\n",
        "plt.title(\"Accuracy using different sizes of data, in naive bayes, for sentiment140 dataset\")\n",
        "plt.plot([20,40,60,80,100],y2a_acc, '-', label=\"Accuracies\")\n",
        "plt.legend()\n",
        "plt.show()\n",
        "print('The highest accuracy is',y2a_acc[4],'with 60% or 100% data size')"
      ],
      "metadata": {
        "colab": {
          "base_uri": "https://localhost:8080/",
          "height": 298
        },
        "id": "ZkDixuZhdATc",
        "outputId": "14691de7-f7e0-467c-fd65-8c11a898f4aa"
      },
      "execution_count": null,
      "outputs": [
        {
          "output_type": "display_data",
          "data": {
            "image/png": "[encoded data removed]",
            "text/plain": [
              "<Figure size 432x288 with 1 Axes>"
            ]
          },
          "metadata": {
            "needs_background": "light"
          }
        },
        {
          "output_type": "stream",
          "name": "stdout",
          "text": [
            "The highest accuracy is 0.8245125348189415 with 60% or 100% data size\n"
          ]
        }
      ]
    },
    {
      "cell_type": "code",
      "source": [
        "y2b_acc=[]\n",
        "model2 = LogisticRegression(solver=solvers[1], C=10)\n",
        "\n",
        "model2.fit(x2_20_train, y2_20_train)#20% train size\n",
        "y_pred=model2.predict(x2_test)\n",
        "y2b_acc.append(evaluate_acc(y_pred,y2_test))\n",
        "\n",
        "model2.fit(x2_40_train, y2_40_train)#40% train size\n",
        "y_pred=model2.predict(x2_test)\n",
        "y2b_acc.append(evaluate_acc(y_pred,y2_test))\n",
        "\n",
        "model2.fit(x2_60_train, y2_60_train)#60% train size\n",
        "y_pred=model2.predict(x2_test)\n",
        "y2b_acc.append(evaluate_acc(y_pred,y2_test))\n",
        "\n",
        "model2.fit(x2_80_train, y2_80_train)#80% train size\n",
        "y_pred=model2.predict(x2_test)\n",
        "y2b_acc.append(evaluate_acc(y_pred,y2_test))\n",
        "\n",
        "model2.fit(x2_train, y2_train)#100% train size\n",
        "y_pred=model2.predict(x2_test)\n",
        "y2b_acc.append(evaluate_acc(y_pred,y2_test))"
      ],
      "metadata": {
        "colab": {
          "base_uri": "https://localhost:8080/"
        },
        "id": "R2qNtDaBSWcH",
        "outputId": "c9cc0c47-3fe1-423b-cbe8-e24aba012314"
      },
      "execution_count": null,
      "outputs": [
        {
          "output_type": "stream",
          "name": "stderr",
          "text": [
            "/usr/local/lib/python3.7/dist-packages/sklearn/linear_model/_logistic.py:818: ConvergenceWarning: lbfgs failed to converge (status=1):\n",
            "STOP: TOTAL NO. of ITERATIONS REACHED LIMIT.\n",
            "\n",
            "Increase the number of iterations (max_iter) or scale the data as shown in:\n",
            "    https://scikit-learn.org/stable/modules/preprocessing.html\n",
            "Please also refer to the documentation for alternative solver options:\n",
            "    https://scikit-learn.org/stable/modules/linear_model.html#logistic-regression\n",
            "  extra_warning_msg=_LOGISTIC_SOLVER_CONVERGENCE_MSG,\n",
            "/usr/local/lib/python3.7/dist-packages/sklearn/linear_model/_logistic.py:818: ConvergenceWarning: lbfgs failed to converge (status=1):\n",
            "STOP: TOTAL NO. of ITERATIONS REACHED LIMIT.\n",
            "\n",
            "Increase the number of iterations (max_iter) or scale the data as shown in:\n",
            "    https://scikit-learn.org/stable/modules/preprocessing.html\n",
            "Please also refer to the documentation for alternative solver options:\n",
            "    https://scikit-learn.org/stable/modules/linear_model.html#logistic-regression\n",
            "  extra_warning_msg=_LOGISTIC_SOLVER_CONVERGENCE_MSG,\n",
            "/usr/local/lib/python3.7/dist-packages/sklearn/linear_model/_logistic.py:818: ConvergenceWarning: lbfgs failed to converge (status=1):\n",
            "STOP: TOTAL NO. of ITERATIONS REACHED LIMIT.\n",
            "\n",
            "Increase the number of iterations (max_iter) or scale the data as shown in:\n",
            "    https://scikit-learn.org/stable/modules/preprocessing.html\n",
            "Please also refer to the documentation for alternative solver options:\n",
            "    https://scikit-learn.org/stable/modules/linear_model.html#logistic-regression\n",
            "  extra_warning_msg=_LOGISTIC_SOLVER_CONVERGENCE_MSG,\n",
            "/usr/local/lib/python3.7/dist-packages/sklearn/linear_model/_logistic.py:818: ConvergenceWarning: lbfgs failed to converge (status=1):\n",
            "STOP: TOTAL NO. of ITERATIONS REACHED LIMIT.\n",
            "\n",
            "Increase the number of iterations (max_iter) or scale the data as shown in:\n",
            "    https://scikit-learn.org/stable/modules/preprocessing.html\n",
            "Please also refer to the documentation for alternative solver options:\n",
            "    https://scikit-learn.org/stable/modules/linear_model.html#logistic-regression\n",
            "  extra_warning_msg=_LOGISTIC_SOLVER_CONVERGENCE_MSG,\n",
            "/usr/local/lib/python3.7/dist-packages/sklearn/linear_model/_logistic.py:818: ConvergenceWarning: lbfgs failed to converge (status=1):\n",
            "STOP: TOTAL NO. of ITERATIONS REACHED LIMIT.\n",
            "\n",
            "Increase the number of iterations (max_iter) or scale the data as shown in:\n",
            "    https://scikit-learn.org/stable/modules/preprocessing.html\n",
            "Please also refer to the documentation for alternative solver options:\n",
            "    https://scikit-learn.org/stable/modules/linear_model.html#logistic-regression\n",
            "  extra_warning_msg=_LOGISTIC_SOLVER_CONVERGENCE_MSG,\n"
          ]
        }
      ]
    },
    {
      "cell_type": "code",
      "source": [
        "plt.xticks([20,40,60,80,100])\n",
        "plt.title(\"Accuracy using different sizes of data, in softmax regression , for sentiment 140 dataset\")\n",
        "plt.plot([20,40,60,80,100],y2b_acc, '-', label=\"Accuracies\")\n",
        "plt.legend()\n",
        "plt.show()\n",
        "print('The highest accuracy is',y2b_acc[4],'with 60% or 100% data size')"
      ],
      "metadata": {
        "colab": {
          "base_uri": "https://localhost:8080/",
          "height": 298
        },
        "id": "vJUILNngSbDq",
        "outputId": "9049091a-4fbb-4851-cbd8-c29263bcc769"
      },
      "execution_count": null,
      "outputs": [
        {
          "output_type": "display_data",
          "data": {
            "image/png": "[encoded data removed]",
            "text/plain": [
              "<Figure size 432x288 with 1 Axes>"
            ]
          },
          "metadata": {
            "needs_background": "light"
          }
        },
        {
          "output_type": "stream",
          "name": "stdout",
          "text": [
            "The highest accuracy is 0.8105849582172702 with 60% or 100% data size\n"
          ]
        }
      ]
    },
    {
      "cell_type": "markdown",
      "source": [
        "# Alternative method"
      ],
      "metadata": {
        "id": "IPR0GAy9X4iY"
      }
    },
    {
      "cell_type": "markdown",
      "source": [
        "##Multinomial Naive Bayes"
      ],
      "metadata": {
        "id": "iS0QASWZYjNi"
      }
    },
    {
      "cell_type": "code",
      "source": [
        "from sklearn.naive_bayes import MultinomialNB\n",
        "from sklearn.naive_bayes import GaussianNB\n"
      ],
      "metadata": {
        "id": "sJgDpoIgSejM"
      },
      "execution_count": null,
      "outputs": []
    },
    {
      "cell_type": "code",
      "source": [
        "#alternative NB for dataset1\n",
        "K1_list = [0.007,0.01,0.015,0.02,0.025,0.03,0.035,0.04,0.045]\n",
        "res1=[]\n",
        "for k in K1_list:\n",
        "  model=MultinomialNB(alpha=k)\n",
        "  model.fit(x_train_tfidf, y_train)\n",
        "  prob=model.predict(x_test_tfidf)\n",
        "  res1.append(evaluate_acc(prob,y_test))\n",
        " "
      ],
      "metadata": {
        "id": "o25vphDDU-Ba"
      },
      "execution_count": null,
      "outputs": []
    },
    {
      "cell_type": "code",
      "source": [
        "plt.xticks(K1_list)\n",
        "plt.title(\"Accuracy using different sizes of data, in mutinomial NB , for sentiment 140 dataset\")\n",
        "plt.plot(K1_list,res1, '-', label=\"Accuracies\")\n",
        "plt.legend()\n",
        "plt.show()\n",
        "best=max(res1)\n",
        "print('Best accuracy is ',best,'with hyperparameter k=0.025') "
      ],
      "metadata": {
        "id": "iv7d92XCZhNZ"
      },
      "execution_count": null,
      "outputs": []
    },
    {
      "cell_type": "code",
      "source": [
        "#alternative NB for dataset2\n",
        "K2_list = [1,3,5,7,9,11,13,15,17,19,21]\n",
        "res2=[]\n",
        "for k in K2_list:\n",
        "  model=MultinomialNB(alpha=k)\n",
        "  model.fit(x2_train, y2_train)\n",
        "  prob=model.predict(x2_test)\n",
        "  res2.append(evaluate_acc(prob,y2_test))"
      ],
      "metadata": {
        "id": "5K0XeqbiWmQD"
      },
      "execution_count": null,
      "outputs": []
    },
    {
      "cell_type": "code",
      "source": [
        "plt.xticks(K2_list)\n",
        "plt.title(\"Accuracy using different sizes of data, in mutinomial NB , for sentiment 140 dataset\")\n",
        "plt.plot(K2_list,res2, '-', label=\"Accuracies\")\n",
        "plt.legend()\n",
        "plt.show()\n",
        "best=max(res2)\n",
        "print('Best accuracy is ',best,'with hyperparameter k=21')  "
      ],
      "metadata": {
        "id": "Nw4G-ccGaCRJ"
      },
      "execution_count": null,
      "outputs": []
    },
    {
      "cell_type": "markdown",
      "source": [
        "##Linear regression"
      ],
      "metadata": {
        "id": "d8wEGistcHGN"
      }
    },
    {
      "cell_type": "code",
      "source": [
        "from sklearn.linear_model import LinearRegression\n",
        "import sklearn.metrics as mm\n"
      ],
      "metadata": {
        "id": "K8VelLdTaxB1"
      },
      "execution_count": null,
      "outputs": []
    },
    {
      "cell_type": "code",
      "source": [
        "model=LinearRegression()\n",
        "\n",
        "\n",
        "model.fit(x_train_tfidf, y_train)\n",
        "xlinear=model.predict(x_test_tfidf)\n",
        "\n",
        "mm.mean_squared_error(y_test,xlinear)\n",
        "\n",
        "#MSE indicates the accuracy of this method could give, \n",
        "#T  he large MSE shows we may not get a very accurate result from this method.  "
      ],
      "metadata": {
        "id": "9K2Qa-9Vbe6T"
      },
      "execution_count": null,
      "outputs": []
    },
    {
      "cell_type": "code",
      "source": [
        "\n",
        "model.fit(x2_train, y2_train)\n",
        "prob=model.predict(x2_test)\n",
        "\n"
      ],
      "metadata": {
        "id": "ird66M3edFG0"
      },
      "execution_count": null,
      "outputs": []
    },
    {
      "cell_type": "code",
      "source": [
        "mm.mean_squared_error(y2_test,prob)"
      ],
      "metadata": {
        "id": "6EybrvhklU7U"
      },
      "execution_count": null,
      "outputs": []
    }
  ]
}