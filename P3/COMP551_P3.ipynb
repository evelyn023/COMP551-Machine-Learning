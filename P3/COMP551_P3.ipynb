{
  "nbformat": 4,
  "nbformat_minor": 0,
  "metadata": {
    "colab": {
      "name": "Comp551-miniProject3.ipynb",
      "provenance": [],
      "collapsed_sections": [],
      "toc_visible": true
    },
    "kernelspec": {
      "name": "python3",
      "display_name": "Python 3"
    },
    "language_info": {
      "name": "python"
    }
  },
  "cells": [
    {
      "cell_type": "markdown",
      "source": [
        "# Data processing\n"
      ],
      "metadata": {
        "id": "o1JYTxW3MaKE"
      }
    },
    {
      "cell_type": "markdown",
      "source": [
        "Import Library"
      ],
      "metadata": {
        "id": "WUfw9X3rM9H3"
      }
    },
    {
      "cell_type": "code",
      "execution_count": 3,
      "metadata": {
        "id": "feRH2mk-KCdM"
      },
      "outputs": [],
      "source": [
        "import numpy as np\n",
        "import matplotlib.pyplot as plt\n",
        "from sklearn.preprocessing import LabelBinarizer\n",
        "import tensorflow as tf\n",
        "import copy"
      ]
    },
    {
      "cell_type": "markdown",
      "source": [
        "## load data"
      ],
      "metadata": {
        "id": "Qq0uUBESNWRl"
      }
    },
    {
      "cell_type": "code",
      "source": [
        "(x_train, y_train), (x_test,y_test)= tf.keras.datasets.fashion_mnist.load_data()"
      ],
      "metadata": {
        "id": "Heefjp9iNV57",
        "colab": {
          "base_uri": "https://localhost:8080/"
        },
        "outputId": "74f9ba8a-0488-4370-ed7b-1a217bb99bfb"
      },
      "execution_count": 4,
      "outputs": [
        {
          "output_type": "stream",
          "name": "stdout",
          "text": [
            "Downloading data from https://storage.googleapis.com/tensorflow/tf-keras-datasets/train-labels-idx1-ubyte.gz\n",
            "32768/29515 [=================================] - 0s 0us/step\n",
            "40960/29515 [=========================================] - 0s 0us/step\n",
            "Downloading data from https://storage.googleapis.com/tensorflow/tf-keras-datasets/train-images-idx3-ubyte.gz\n",
            "26427392/26421880 [==============================] - 0s 0us/step\n",
            "26435584/26421880 [==============================] - 0s 0us/step\n",
            "Downloading data from https://storage.googleapis.com/tensorflow/tf-keras-datasets/t10k-labels-idx1-ubyte.gz\n",
            "16384/5148 [===============================================================================================] - 0s 0us/step\n",
            "Downloading data from https://storage.googleapis.com/tensorflow/tf-keras-datasets/t10k-images-idx3-ubyte.gz\n",
            "4423680/4422102 [==============================] - 0s 0us/step\n",
            "4431872/4422102 [==============================] - 0s 0us/step\n"
          ]
        }
      ]
    },
    {
      "cell_type": "code",
      "source": [
        "print(x_train.shape)\n",
        "print(y_train.shape)\n",
        "print(x_test.shape)\n",
        "print(y_test.shape)"
      ],
      "metadata": {
        "colab": {
          "base_uri": "https://localhost:8080/"
        },
        "id": "1X33DVf3SD8-",
        "outputId": "67f49d31-8105-45ee-a1f6-0fc1081b4b1a"
      },
      "execution_count": 5,
      "outputs": [
        {
          "output_type": "stream",
          "name": "stdout",
          "text": [
            "(60000, 28, 28)\n",
            "(60000,)\n",
            "(10000, 28, 28)\n",
            "(10000,)\n"
          ]
        }
      ]
    },
    {
      "cell_type": "markdown",
      "source": [
        "## change dimension & normalization"
      ],
      "metadata": {
        "id": "OMP1iji3clKH"
      }
    },
    {
      "cell_type": "code",
      "source": [
        "#change the dimension of input array, from 3D to 2D\n",
        "def dimension_reduction(data):\n",
        "  result=[]\n",
        "  \n",
        "  for pixel in data:\n",
        "    image_ary = pixel.flatten()\n",
        "    image_ary = image_ary.astype(np.float32)\n",
        "    result.append(image_ary)\n",
        "  \n",
        "  result=np.asarray(result)\n",
        "\n",
        "  return result"
      ],
      "metadata": {
        "id": "DmA5BTXPT7ID"
      },
      "execution_count": 6,
      "outputs": []
    },
    {
      "cell_type": "code",
      "source": [
        "x_train_2d = dimension_reduction(x_train)\n",
        "\n",
        "x_train_origin = copy.deepcopy(x_train_2d) # unnormalization x_train set for task 3.4\n",
        "\n",
        "x_train_2d /= 255  # normalization\n",
        "\n",
        "x_train_2d = x_train_2d.reshape(x_train_2d.shape[0], x_train_2d.shape[1], 1)\n",
        "\n",
        "x_test_2d = dimension_reduction(x_test)\n",
        "\n",
        "x_test_origin = copy.deepcopy(x_test_2d) # unnormalization x_test set for task 3.4\n",
        "\n",
        "x_test_2d /= 255  # normalization\n",
        "\n",
        "x_test_2d = x_test_2d.reshape(x_test_2d.shape[0], x_test_2d.shape[1], 1)\n",
        "\n",
        "\n",
        "#reshape for CNN\n",
        "x_train_cnn = x_train/255\n",
        "x_test_cnn = x_test/255\n",
        "\n",
        "#convet the y label to 1xN array\n",
        "label = LabelBinarizer()\n",
        "y_train_hor = label.fit_transform(y_train)\n",
        "y_test_hor = label.transform(y_test)\n"
      ],
      "metadata": {
        "id": "9nNrSMRBduii"
      },
      "execution_count": 7,
      "outputs": []
    },
    {
      "cell_type": "code",
      "source": [
        "print(x_train_2d.shape)\n",
        "print(x_test_2d.shape)\n",
        "\n",
        "num_train, num_test = x_train.shape[0], x_test.shape[0]\n",
        "x_train_mlp = x_train.reshape(num_train, -1)    # vectorization\n",
        "x_test_mlp = x_test.reshape(num_test, -1)\n",
        "x_train_mlp = x_train_mlp.astype('float32')/255.0  # normalization to the range [0, 1] \n",
        "x_test_mlp = x_test_mlp.astype('float32')/255.0\n",
        "\n",
        "print(x_train_mlp.shape)\n",
        "print(x_test_mlp.shape)"
      ],
      "metadata": {
        "colab": {
          "base_uri": "https://localhost:8080/"
        },
        "id": "Ms_UWx7jd9Ha",
        "outputId": "22d714f0-2110-4d53-e343-f686d4529109"
      },
      "execution_count": 8,
      "outputs": [
        {
          "output_type": "stream",
          "name": "stdout",
          "text": [
            "(60000, 784, 1)\n",
            "(10000, 784, 1)\n",
            "(60000, 784)\n",
            "(10000, 784)\n"
          ]
        }
      ]
    },
    {
      "cell_type": "code",
      "source": [
        "#one-hot-coding of y for MLP\n",
        "y_train_after = np.zeros((y_train.size, 10))\n",
        "for i, row in enumerate(y_train_after):\n",
        "    row[y_train[i]] = 1\n",
        "#y_train_after = y_train_after.reshape(y_train_after.shape[0], y_train_after.shape[1], 1)\n",
        "\n",
        "y_test_after = np.zeros((y_test.size, 10))\n",
        "for i, row in enumerate(y_test_after):\n",
        "    row[y_test[i]] = 1\n",
        "#y_test_after = y_test_after.reshape(y_test_after.shape[0], y_test_after.shape[1], 1) \n",
        "\n",
        "print(y_train_after.shape)"
      ],
      "metadata": {
        "id": "Q-6MWwoOiEga",
        "colab": {
          "base_uri": "https://localhost:8080/"
        },
        "outputId": "80d30954-31c8-4fdf-b993-4c7556dca05f"
      },
      "execution_count": 9,
      "outputs": [
        {
          "output_type": "stream",
          "name": "stdout",
          "text": [
            "(60000, 10)\n"
          ]
        }
      ]
    },
    {
      "cell_type": "markdown",
      "source": [
        "## visualize the dataset"
      ],
      "metadata": {
        "id": "A8SjCJ6glUQF"
      }
    },
    {
      "cell_type": "code",
      "source": [
        "\n",
        "unique, counts = np.unique(y_train, return_counts=True)\n",
        "plt.bar(unique, counts)\n",
        "unique, counts = np.unique(y_test, return_counts=True)\n",
        "plt.bar(unique, counts)\n",
        "\n",
        "plt.title('Class Frequency')\n",
        "plt.xlabel('Class')\n",
        "plt.ylabel('Frequency')"
      ],
      "metadata": {
        "colab": {
          "base_uri": "https://localhost:8080/",
          "height": 313
        },
        "id": "7ma4F88-kccS",
        "outputId": "c74f525d-be4a-4bf6-f418-4eef7b87c048"
      },
      "execution_count": 10,
      "outputs": [
        {
          "output_type": "execute_result",
          "data": {
            "text/plain": [
              "Text(0, 0.5, 'Frequency')"
            ]
          },
          "metadata": {},
          "execution_count": 10
        },
        {
          "output_type": "display_data",
          "data": {
            "text/plain": [
              "<Figure size 432x288 with 1 Axes>"
            ],
            "image/png": "[encoded data removed]"
          },
          "metadata": {
            "needs_background": "light"
          }
        }
      ]
    },
    {
      "cell_type": "markdown",
      "source": [
        "# MLP"
      ],
      "metadata": {
        "id": "jYYvPP9wMiok"
      }
    },
    {
      "cell_type": "code",
      "source": [
        "# activation function and its derivative\n",
        "relu = lambda z: np.maximum(0,z)\n",
        "drelu = lambda z: (z>0).astype(float)\n",
        "tanh = lambda z: (np.exp(z)-np.exp(-z)) / (np.exp(z)+np.exp(-z))\n",
        "dtanh = lambda z: 1 - np.power(tanh(z), 2)\n",
        "leaky = lambda z: np.maximum(z*0.01, z)\n",
        "dleaky = lambda z: np.maximum(z*0.01, z) / z\n",
        "\n",
        "# softmax\n",
        "def softmax(x):\n",
        "    e = np.exp(x - np.max(x))\n",
        "    return  e / e.sum()\n",
        "\n",
        "import torch\n",
        "import torch.nn as nn\n",
        "loss_fn = nn.CrossEntropyLoss()"
      ],
      "metadata": {
        "id": "fpSPpXhUa4bo"
      },
      "execution_count": 11,
      "outputs": []
    },
    {
      "cell_type": "code",
      "source": [
        "import math\n",
        "class BatchGenerator:\n",
        "\n",
        "    def __init__(self, images, labels, batch_size):\n",
        "        assert len(images) == len(labels)\n",
        "        self.index = 0\n",
        "        self.images = images\n",
        "        self.labels = labels\n",
        "        self.batch_size = batch_size\n",
        "        self.num_batches = math.ceil(len(images) / batch_size)\n",
        "\n",
        "\n",
        "    def next(self):\n",
        "        images = self.images[self.index : self.index + self.batch_size]\n",
        "        labels = self.labels[self.index : self.index + self.batch_size]\n",
        "        self.index += self.batch_size\n",
        "        return images, labels"
      ],
      "metadata": {
        "id": "TdjUBxdqj-m6"
      },
      "execution_count": 12,
      "outputs": []
    },
    {
      "cell_type": "code",
      "source": [
        "\n",
        "class MLP:\n",
        "    \n",
        "    def __init__(self, act, dact, nhid, hid_size, lr, dropout):\n",
        "        self.act = act #activation function\n",
        "        self.dact = dact #derivative of activation\n",
        "        self.hid_num = nhid # scalar num layers\n",
        "        self.layer = nhid+1\n",
        "        self.hid_size = hid_size # nhid array containing hidden unit size at each layer\n",
        "        self.learning_rate = lr\n",
        "        self.dropout = dropout\n",
        "        \n",
        "        # all lists below have length self.layer\n",
        "        self.W = list()       # list of weights matrix\n",
        "        self.B = list()       # list of bias vector\n",
        "        self.Z = list()       # list of hidden units\n",
        "        self.dZ = list()      # list of derivative of hidden units\n",
        "        self.delta = list()   # list of errors\n",
        "\n",
        "\n",
        "    # forward calculation for a batch\n",
        "    def forward_propagate(self, xi):\n",
        "        '''\n",
        "         Inputs: xi: N*C batch\n",
        "                 d_act: derivative of activation function\n",
        "\n",
        "         For each layer we update lists Z and dZ: \n",
        "         q = W[l] * Z[l-1] + B[l]\n",
        "         Z[l] = act(q)\n",
        "         dZ[l] = d_act(q)\n",
        "         \n",
        "        '''\n",
        "        # first hidden layer\n",
        "        if (self.layer >1):\n",
        "          q1 = np.dot(xi, self.W[0]) + self.B[0]\n",
        "          mask = (np.random.rand(*q1.shape) < (1 - self.dropout)) / (1 - self.dropout)\n",
        "          cache = (mask, self.dropout) \n",
        "          q = q1 * mask\n",
        "          q.reshape(q1.shape)\n",
        "          z = self.act(q)\n",
        "          self.Z.append(z)\n",
        "          self.dZ.append(self.dact(q))\n",
        "\n",
        "        # other hidden layers\n",
        "        for i in range(1, self.layer-1):\n",
        "          q1 = np.dot(self.Z[i-1], self.W[i]) + self.B[i]\n",
        "          mask = (np.random.rand(*q1.shape) < (1 - self.dropout)) / (1 - self.dropout)\n",
        "          cache = (mask, self.dropout) \n",
        "          q = q1 * mask\n",
        "          q.reshape(q1.shape)\n",
        "          # print(q1.shape)\n",
        "          # print(q.shape)\n",
        "          # for j in range (0, q.shape[0]):\n",
        "          #   s = np.random.binomial(1, 0.1)\n",
        "          #   if s == 1:\n",
        "          #     q[j] = q1[j]\n",
        "         \n",
        "          # q = np.dot(self.Z[i-1], self.W[i]) + self.B[i]\n",
        "          z = self.act(q)\n",
        "          self.Z.append(z)       \n",
        "          self.dZ.append(self.dact(q))\n",
        "\n",
        "        # output layer with softmax activation\n",
        "        if (self.layer == 1):\n",
        "          q = np.dot(xi, self.W[0]) + self.B[0]\n",
        "          yh = np.array([softmax(qi) for qi in q])     \n",
        "          self.Z.append(yh)\n",
        "          self.dZ.append(np.zeros_like(yh))\n",
        "        else:\n",
        "          q = np.dot(self.Z[-1], self.W[-1]) + self.B[-1]\n",
        "          cache = [1,0]\n",
        "          yh = np.array([softmax(qi) for qi in q])     \n",
        "          self.Z.append(yh)\n",
        "          self.dZ.append(np.zeros_like(yh))\n",
        "\n",
        "        #print(len(self.Z), len(self.dZ))\n",
        "        assert len(self.Z) == len(self.dZ) == self.layer\n",
        "        return cache\n",
        "\n",
        "    \n",
        "    def back_propagate(self, xi, yi, cache):\n",
        "        '''\n",
        "        For each layer we update the errors:\n",
        "        delta[l] = (delta[l+1] dot W[l+1].T) * dZ[l]\n",
        "\n",
        "        '''\n",
        "        # Error in the output layer is dy*d(softmax) = y_hat-y\n",
        "        error = self.Z[-1] - yi  # N*C\n",
        "        self.delta.insert(0, error) \n",
        "        mask, p = cache \n",
        "\n",
        "        # hidden layers \n",
        "        for l in reversed(range(self.layer-1)):\n",
        "          error = np.dot(self.delta[0], self.W[l+1].T)*(self.dZ[l]) # N*M\n",
        "          if l == self.layer-2:\n",
        "            error = error * mask\n",
        "          self.delta.insert(0, error)\n",
        "\n",
        "        assert len(self.delta) == self.layer\n",
        "\n",
        "\n",
        "    def gradient(self, xi, yi):\n",
        "        batch_size = xi.shape[1]\n",
        "        dW = list(self.W)\n",
        "        dB = list(self.B)\n",
        "\n",
        "        dW[0] = np.dot(xi.T, self.delta[0]) / batch_size\n",
        "        dB[0] = np.sum(self.delta[0], axis=0) / batch_size\n",
        "\n",
        "        for l in range(1,self.layer):\n",
        "          dW[l] = np.dot(self.Z[l-1].T, self.delta[l]) / batch_size\n",
        "          dB[l] = np.sum(self.delta[l], axis=0) / batch_size\n",
        "\n",
        "        return dW, dB\n",
        "\n",
        "\n",
        "    def one_training(self, xi, yi):\n",
        "        self.Z = list()       \n",
        "        self.dZ = list()      \n",
        "        self.delta = list()   \n",
        "\n",
        "        cache = self.forward_propagate(xi)\n",
        "        self.back_propagate(xi, yi, cache)\n",
        "\n",
        "        dW, dB = self.gradient(xi, yi)\n",
        "        W, B = self.W.copy(), self.B.copy()\n",
        "        for i in range(len(W)):\n",
        "            W[i] -= self.learning_rate * dW[i]\n",
        "            B[i] -= self.learning_rate * dB[i]\n",
        "        \n",
        "        self.W, self.B = W, B\n",
        "\n",
        "\n",
        "    def fit(self, x, y, epoch=30, threshold=0.005, batch_size=128):\n",
        "        N,D = x.shape\n",
        "        C  = y.shape[1]\n",
        "\n",
        "        # initialize parameters\n",
        "        self.W = list()\n",
        "        self.B = list()\n",
        "        self.W.append(np.random.randn(D, self.hid_size[0]) * .01)\n",
        "        self.B.append(np.zeros(self.hid_size[0]))   \n",
        "\n",
        "        for i in range(1,self.layer-1):\n",
        "          self.W.append(np.random.randn(self.hid_size[i-1], self.hid_size[i]) * .01)\n",
        "          self.B.append(np.zeros(self.hid_size[i]))\n",
        "\n",
        "        if (self.layer >1):\n",
        "          self.W.append(np.random.randn(self.hid_size[-1], C) * .01)\n",
        "          self.B.append(np.zeros(C))\n",
        "  \n",
        "        assert len(self.W) == len(self.B) == self.layer\n",
        "\n",
        "        # training\n",
        "        cost_list = list()\n",
        "        for epoch_counter in range(epoch):\n",
        "          cost = 0\n",
        "          batch_generator = BatchGenerator(x, y, batch_size)\n",
        "\n",
        "          for batch_counter in range(batch_generator.num_batches):\n",
        "              x_batch, y_batch = batch_generator.next()\n",
        "              self.one_training(x_batch, y_batch)\n",
        "              yh = self.Z[-1]\n",
        "              assert yh.shape == y_batch.shape\n",
        "\n",
        "              loss = loss_fn(torch.tensor(yh), torch.tensor(y_batch))\n",
        "              cost += loss\n",
        "          cost = cost/batch_generator.num_batches\n",
        "          print(f\"cost after epoch {epoch_counter}: {cost:.3f}\")\n",
        "          \n",
        "\n",
        "          if epoch_counter > 5 and abs(cost-cost_list[-1]) < threshold:\n",
        "              break\n",
        "          cost_list.append(cost)\n",
        "\n",
        "        return cost\n",
        "    \n",
        "\n",
        "    def predict(self,x):\n",
        "        self.Z = list()       \n",
        "        self.dZ = list()      \n",
        "        self.forward_propagate(x)\n",
        "        return self.Z[-1]\n",
        "\n",
        "    def evaluate_acc(self, y_pred, y):\n",
        "      if y.shape[1] != 1:\n",
        "        y = np.argmax(y, axis=1)\n",
        "      if y_pred.shape[1] != 1:\n",
        "        y_pred = np.argmax(y_pred, axis=1)\n",
        "      matches = y_pred == y\n",
        "      accuracy = matches.mean()\n",
        "      \n",
        "      return accuracy\n",
        "\n",
        "    "
      ],
      "metadata": {
        "id": "_a1gpDt-YQ81"
      },
      "execution_count": 21,
      "outputs": []
    },
    {
      "cell_type": "markdown",
      "source": [
        "# Experiment"
      ],
      "metadata": {
        "id": "CavfHQIwMmTI"
      }
    },
    {
      "cell_type": "markdown",
      "source": [
        "## 3.1 Impact of depth"
      ],
      "metadata": {
        "id": "-n4Utclx91d3"
      }
    },
    {
      "cell_type": "code",
      "source": [
        "# MLP with a single hidden layer having 128 units and ReLU activations\n",
        "mlp1 = MLP(relu, drelu, 1, [128], 1.3, 0)\n",
        "mlp1.fit(x_train_mlp, y_train_after, epoch=25, threshold=0.0001)\n",
        "pred = mlp1.predict(x_test_mlp)\n",
        "acc = mlp1.evaluate_acc(pred, y_test_after)\n",
        "print(f\"test accuracy: {acc:.3f}\")"
      ],
      "metadata": {
        "colab": {
          "base_uri": "https://localhost:8080/"
        },
        "id": "3NsmQveZ_e6n",
        "outputId": "62d74911-c141-4912-cce1-428fb06bd06c"
      },
      "execution_count": 22,
      "outputs": [
        {
          "output_type": "stream",
          "name": "stdout",
          "text": [
            "cost after epoch 0: 1.807\n",
            "cost after epoch 1: 1.686\n",
            "cost after epoch 2: 1.661\n",
            "cost after epoch 3: 1.647\n",
            "cost after epoch 4: 1.638\n",
            "cost after epoch 5: 1.631\n",
            "cost after epoch 6: 1.625\n",
            "cost after epoch 7: 1.620\n",
            "cost after epoch 8: 1.615\n",
            "cost after epoch 9: 1.611\n",
            "cost after epoch 10: 1.608\n",
            "cost after epoch 11: 1.604\n",
            "cost after epoch 12: 1.601\n",
            "cost after epoch 13: 1.598\n",
            "cost after epoch 14: 1.595\n",
            "cost after epoch 15: 1.593\n",
            "cost after epoch 16: 1.590\n",
            "cost after epoch 17: 1.588\n",
            "cost after epoch 18: 1.585\n",
            "cost after epoch 19: 1.583\n",
            "cost after epoch 20: 1.581\n",
            "cost after epoch 21: 1.579\n",
            "cost after epoch 22: 1.577\n",
            "cost after epoch 23: 1.575\n",
            "cost after epoch 24: 1.573\n",
            "test accuracy: 0.888\n"
          ]
        }
      ]
    },
    {
      "cell_type": "code",
      "source": [
        "# MLP with 2 hidden layers each having 128 units with ReLU activations.\n",
        "mlp2 = MLP(relu, drelu, 2, [128,80], 1.7, 0)\n",
        "mlp2.fit(x_train_mlp, y_train_after, epoch=20, threshold=0.0001, batch_size=128)\n",
        "pred = mlp2.predict(x_test_mlp)\n",
        "acc = mlp2.evaluate_acc(pred, y_test_after)\n",
        "print(f\"test accuracy: {acc:.3f}\")"
      ],
      "metadata": {
        "colab": {
          "base_uri": "https://localhost:8080/"
        },
        "id": "XRoM-SO4JHoq",
        "outputId": "1e410712-9acf-4a31-c550-0f0cc8220b94"
      },
      "execution_count": 29,
      "outputs": [
        {
          "output_type": "stream",
          "name": "stdout",
          "text": [
            "cost after epoch 0: 1.939\n",
            "cost after epoch 1: 1.708\n",
            "cost after epoch 2: 1.668\n",
            "cost after epoch 3: 1.650\n",
            "cost after epoch 4: 1.639\n",
            "cost after epoch 5: 1.630\n",
            "cost after epoch 6: 1.622\n",
            "cost after epoch 7: 1.616\n",
            "cost after epoch 8: 1.611\n",
            "cost after epoch 9: 1.606\n",
            "cost after epoch 10: 1.602\n",
            "cost after epoch 11: 1.598\n",
            "cost after epoch 12: 1.594\n",
            "cost after epoch 13: 1.591\n",
            "cost after epoch 14: 1.588\n",
            "cost after epoch 15: 1.584\n",
            "cost after epoch 16: 1.582\n",
            "cost after epoch 17: 1.579\n",
            "cost after epoch 18: 1.576\n",
            "cost after epoch 19: 1.575\n",
            "test accuracy: 0.883\n"
          ]
        }
      ]
    },
    {
      "cell_type": "code",
      "source": [
        "learning=[0.1,0.3,0.5,0.7,0.9,1.1,1.3,1.5,1.7,1.9]\n",
        "\n",
        "acc1=[]\n",
        "acc2=[]\n",
        "acc3=[]\n",
        "\n",
        "for hyper in learning:\n",
        "  mlp0 = MLP(None, None, 0, [10], hyper, 0)\n",
        "  mlp0.fit(x_train_mlp, y_train_after)\n",
        "  pred = mlp0.predict(x_test_mlp)\n",
        "  acc1.append(mlp0.evaluate_acc(pred, y_test_after))\n",
        "\n",
        "\n",
        "  mlp1 = MLP(relu, drelu, 1, [128], hyper, 0)\n",
        "  mlp1.fit(x_train_mlp, y_train_after)\n",
        "  pred = mlp1.predict(x_test_mlp)\n",
        "  acc2.append(mlp1.evaluate_acc(pred, y_test_after))\n",
        "\n",
        "  mlp2 = MLP(relu, drelu, 2, [128,128], hyper, 0)\n",
        "  mlp2.fit(x_train_mlp, y_train_after)\n",
        "  pred = mlp2.predict(x_test_mlp)\n",
        "  acc3.append(mlp2.evaluate_acc(pred, y_test_after)) "
      ],
      "metadata": {
        "id": "G93wB9w0p2Wv"
      },
      "execution_count": null,
      "outputs": []
    },
    {
      "cell_type": "code",
      "source": [
        "x=learning\n",
        "plt.title(\"3.1 Test accuracies vs. Learning rate\")\n",
        "plt.plot(x,acc1, '-', label=\"no hidden layer\")\n",
        "plt.plot(x,acc2,'-', label=\"1 hidden layer of 128 units (ReLU)\")\n",
        "plt.plot(x,acc3, '-', label=\"2 hidden layer of 128 units (ReLU)\")\n",
        "plt.legend()\n",
        "plt.xlabel('learning rate')\n",
        "plt.ylabel('accuracy')\n",
        "plt.show()"
      ],
      "metadata": {
        "colab": {
          "base_uri": "https://localhost:8080/",
          "height": 295
        },
        "id": "8wrbXP9tp3VG",
        "outputId": "08a848af-e1d9-46b9-dad2-f90dc4f179d0"
      },
      "execution_count": null,
      "outputs": [
        {
          "output_type": "display_data",
          "data": {
            "text/plain": [
              "<Figure size 432x288 with 1 Axes>"
            ],
            "image/png": "[encoded data removed]"
          },
          "metadata": {
            "needs_background": "light"
          }
        }
      ]
    },
    {
      "cell_type": "code",
      "source": [
        "epoch_list = [5,10,15,20,25,30,35]\n",
        "\n",
        "acc11=[]\n",
        "acc21=[]\n",
        "acc31=[]\n",
        "mlp0 = MLP(None, None, 0, [10], 1.3, 0)\n",
        "mlp1 = MLP(relu, drelu, 1, [128], 1.3, 0)\n",
        "mlp2 = MLP(relu, drelu, 2, [128,128], 1.3, 0)\n",
        "\n",
        "for hyper in epoch_list:\n",
        "  mlp0.fit(x_train_mlp, y_train_after, epoch = hyper, threshold=0.0001)\n",
        "  pred = mlp0.predict(x_test_mlp)\n",
        "  acc11.append(mlp0.evaluate_acc(pred, y_test_after))\n",
        "\n",
        "  mlp1.fit(x_train_mlp, y_train_after, epoch = hyper, threshold=0.0001)\n",
        "  pred = mlp1.predict(x_test_mlp)\n",
        "  acc21.append(mlp1.evaluate_acc(pred, y_test_after))\n",
        "\n",
        "  mlp2.fit(x_train_mlp, y_train_after, epoch = hyper, threshold=0.0001)\n",
        "  pred = mlp2.predict(x_test_mlp)\n",
        "  acc31.append(mlp2.evaluate_acc(pred, y_test_after)) "
      ],
      "metadata": {
        "id": "ZWAzx3dCIWT_"
      },
      "execution_count": null,
      "outputs": []
    },
    {
      "cell_type": "code",
      "source": [
        "x=epoch_list\n",
        "plt.title(\"3.1 Test accuracies vs. Epoch\")\n",
        "plt.plot(x,acc11, '-', label=\"no hidden layer\")\n",
        "plt.plot(x,acc21,'-', label=\"1 hidden layer of 128 units (ReLU)\")\n",
        "plt.plot(x,acc31, '-', label=\"2 hidden layer of 128 units (ReLU)\")\n",
        "plt.legend()\n",
        "plt.xlabel('epoch')\n",
        "plt.ylabel('accuracy')\n",
        "plt.show()"
      ],
      "metadata": {
        "colab": {
          "base_uri": "https://localhost:8080/",
          "height": 295
        },
        "id": "oFpUvWifa75v",
        "outputId": "5112a32c-1fa8-4de2-ab9e-706b99b2147b"
      },
      "execution_count": null,
      "outputs": [
        {
          "output_type": "display_data",
          "data": {
            "text/plain": [
              "<Figure size 432x288 with 1 Axes>"
            ],
            "image/png": "[encoded data removed]"
          },
          "metadata": {
            "needs_background": "light"
          }
        }
      ]
    },
    {
      "cell_type": "markdown",
      "source": [
        "## 3.2 Impact of activation functions"
      ],
      "metadata": {
        "id": "BH_JGHxigunJ"
      }
    },
    {
      "cell_type": "code",
      "source": [
        "#3.2\n",
        "acc4=[]\n",
        "acc5=[]\n",
        "for hyper in learning:  \n",
        "  mlp_tanh = MLP(tanh, dtanh, 2, [128,128], hyper, 0)\n",
        "  mlp_tanh.fit(x_train_mlp, y_train_after)\n",
        "  pred4 = mlp_tanh.predict(x_test_mlp)\n",
        "  acc4.append(mlp_tanh.evaluate_acc(pred4, y_test_after))\n",
        "\n",
        "  mlp_leaky = MLP(leaky, dleaky, 2, [128,128], hyper, 0)\n",
        "  mlp_leaky.fit(x_train_mlp, y_train_after)\n",
        "  pred5 = mlp_leaky.predict(x_test_mlp)\n",
        "  acc5.append(mlp_tanh.evaluate_acc(pred5, y_test_after))"
      ],
      "metadata": {
        "id": "0OaWDEyaqMsx"
      },
      "execution_count": null,
      "outputs": []
    },
    {
      "cell_type": "code",
      "source": [
        "x=learning\n",
        "plt.title(\"3.2 Test accuracies using MLP with different activation function\")\n",
        "plt.plot(x,acc5, '-', label=\"Leaky-ReLU\")\n",
        "plt.plot(x,acc3,'-', label=\"ReLu\")\n",
        "plt.plot(x,acc4,'-', label=\"tanh\")\n",
        "plt.legend()\n",
        "plt.xlabel('learning rate')\n",
        "plt.ylabel('accuracy')\n",
        "plt.show()"
      ],
      "metadata": {
        "id": "n10XH6BWqaxx",
        "colab": {
          "base_uri": "https://localhost:8080/",
          "height": 295
        },
        "outputId": "15b06015-8232-408e-d3af-8eed193070ac"
      },
      "execution_count": null,
      "outputs": [
        {
          "output_type": "display_data",
          "data": {
            "text/plain": [
              "<Figure size 432x288 with 1 Axes>"
            ],
            "image/png": "[encoded data removed]"
          },
          "metadata": {
            "needs_background": "light"
          }
        }
      ]
    },
    {
      "cell_type": "code",
      "source": [
        "epoch_list = [5,10,15,20,25,30,35]\n",
        "\n",
        "acc41=[]\n",
        "acc51=[]\n",
        "\n",
        "mlp_tanh = MLP(tanh, dtanh, 2, [128,128], 2)\n",
        "mlp_leaky = MLP(leaky, dleaky, 2, [128,128], 2)\n",
        "\n",
        "for hyper in epoch_list:\n",
        "  mlp_tanh.fit(x_train_mlp, y_train_after, epoch = hyper, threshold=0.0001)\n",
        "  pred = mlp_tanh.predict(x_test_mlp)\n",
        "  acc41.append(mlp_tanh.evaluate_acc(pred, y_test_after))\n",
        "\n",
        "  mlp_leaky.fit(x_train_mlp, y_train_after, epoch = hyper, threshold=0.0001)\n",
        "  pred = mlp_leaky.predict(x_test_mlp)\n",
        "  acc51.append(mlp_leaky.evaluate_acc(pred, y_test_after))\n",
        " "
      ],
      "metadata": {
        "id": "PYj9kO5YlZAH"
      },
      "execution_count": null,
      "outputs": []
    },
    {
      "cell_type": "code",
      "source": [
        "x=epoch_list\n",
        "\n",
        "plt.title(\"3.2 Test accuracies vs. Epoch\")\n",
        "plt.plot(x,acc51, '-', label=\"Leaky-ReLU\")\n",
        "plt.plot(x,acc31, '-', label=\"ReLU\")\n",
        "plt.plot(x,acc41,'-', label=\"tanh\")\n",
        "plt.legend()\n",
        "plt.xlabel('epoch')\n",
        "plt.ylabel('accuracy')\n",
        "plt.show()"
      ],
      "metadata": {
        "colab": {
          "base_uri": "https://localhost:8080/",
          "height": 295
        },
        "id": "KpjTDlMorT3c",
        "outputId": "c006aa9a-06a4-4ba2-925d-1d6432fc4611"
      },
      "execution_count": null,
      "outputs": [
        {
          "output_type": "display_data",
          "data": {
            "text/plain": [
              "<Figure size 432x288 with 1 Axes>"
            ],
            "image/png": "[encoded data removed]"
          },
          "metadata": {
            "needs_background": "light"
          }
        }
      ]
    },
    {
      "cell_type": "markdown",
      "source": [
        "## 3.3 add dropout"
      ],
      "metadata": {
        "id": "fmeZq3b8Kf--"
      }
    },
    {
      "cell_type": "code",
      "source": [
        "# MLP with 2 hidden layers each having 128 units with ReLU activations with dropout.\n",
        "mlp2 = MLP(relu, drelu, 2, [128,128], 1.3, 0)\n",
        "mlp2.fit(x_train_mlp, y_train_after, epoch=25, threshold=0.0001)\n",
        "pred = mlp2.predict(x_test_mlp)\n",
        "acc1 = mlp2.evaluate_acc(pred, y_test_after)\n",
        "print(f\"test accuracy: {acc1:.2f}\")\n",
        "\n",
        "mlp2 = MLP(relu, drelu, 2, [128,128], 1.3, 0.3)\n",
        "mlp2.fit(x_train_mlp, y_train_after, epoch=25, threshold=0.0001)\n",
        "pred = mlp2.predict(x_test_mlp)\n",
        "acc2 = mlp2.evaluate_acc(pred, y_test_after)\n",
        "print(f\"test accuracy: {acc2:.2f}\")\n",
        "\n",
        "mlp2 = MLP(relu, drelu, 2, [128,128], 1.3, 0.6)\n",
        "mlp2.fit(x_train_mlp, y_train_after, epoch=25, threshold=0.0001)\n",
        "pred = mlp2.predict(x_test_mlp)\n",
        "acc3 = mlp2.evaluate_acc(pred, y_test_after)\n",
        "print(f\"test accuracy: {acc3:.2f}\")\n",
        "\n",
        "mlp2 = MLP(relu, drelu, 2, [128,128], 1.3, 0.9)\n",
        "mlp2.fit(x_train_mlp, y_train_after, epoch=25, threshold=0.0001)\n",
        "pred = mlp2.predict(x_test_mlp)\n",
        "acc4 = mlp2.evaluate_acc(pred, y_test_after)\n",
        "print(f\"test accuracy: {acc4:.2f}\")"
      ],
      "metadata": {
        "id": "yRlsnwzzYMmq",
        "colab": {
          "base_uri": "https://localhost:8080/"
        },
        "outputId": "0bd90c30-e690-4582-ecec-59dee999574c"
      },
      "execution_count": 13,
      "outputs": [
        {
          "output_type": "stream",
          "name": "stdout",
          "text": [
            "cost after epoch 0: 1.972\n",
            "cost after epoch 1: 1.719\n",
            "cost after epoch 2: 1.673\n",
            "cost after epoch 3: 1.653\n",
            "cost after epoch 4: 1.640\n",
            "cost after epoch 5: 1.631\n",
            "cost after epoch 6: 1.624\n",
            "cost after epoch 7: 1.618\n",
            "cost after epoch 8: 1.613\n",
            "cost after epoch 9: 1.609\n",
            "cost after epoch 10: 1.605\n",
            "cost after epoch 11: 1.601\n",
            "cost after epoch 12: 1.597\n",
            "cost after epoch 13: 1.594\n",
            "cost after epoch 14: 1.590\n",
            "cost after epoch 15: 1.587\n",
            "cost after epoch 16: 1.585\n",
            "cost after epoch 17: 1.581\n",
            "cost after epoch 18: 1.579\n",
            "cost after epoch 19: 1.577\n",
            "cost after epoch 20: 1.574\n",
            "cost after epoch 21: 1.571\n",
            "cost after epoch 22: 1.569\n",
            "cost after epoch 23: 1.567\n",
            "cost after epoch 24: 1.569\n",
            "test accuracy: 0.88\n",
            "cost after epoch 0: 1.975\n",
            "cost after epoch 1: 1.736\n",
            "cost after epoch 2: 1.687\n",
            "cost after epoch 3: 1.665\n",
            "cost after epoch 4: 1.651\n",
            "cost after epoch 5: 1.641\n",
            "cost after epoch 6: 1.634\n",
            "cost after epoch 7: 1.628\n",
            "cost after epoch 8: 1.622\n",
            "cost after epoch 9: 1.618\n",
            "cost after epoch 10: 1.614\n",
            "cost after epoch 11: 1.610\n",
            "cost after epoch 12: 1.606\n",
            "cost after epoch 13: 1.603\n",
            "cost after epoch 14: 1.600\n",
            "cost after epoch 15: 1.597\n",
            "cost after epoch 16: 1.594\n",
            "cost after epoch 17: 1.591\n",
            "cost after epoch 18: 1.589\n",
            "cost after epoch 19: 1.586\n",
            "cost after epoch 20: 1.585\n",
            "cost after epoch 21: 1.584\n",
            "cost after epoch 22: 1.581\n",
            "cost after epoch 23: 1.579\n",
            "cost after epoch 24: 1.578\n",
            "test accuracy: 0.88\n",
            "cost after epoch 0: 2.002\n",
            "cost after epoch 1: 1.758\n",
            "cost after epoch 2: 1.706\n",
            "cost after epoch 3: 1.682\n",
            "cost after epoch 4: 1.666\n",
            "cost after epoch 5: 1.656\n",
            "cost after epoch 6: 1.647\n",
            "cost after epoch 7: 1.641\n",
            "cost after epoch 8: 1.635\n",
            "cost after epoch 9: 1.630\n",
            "cost after epoch 10: 1.626\n",
            "cost after epoch 11: 1.623\n",
            "cost after epoch 12: 1.618\n",
            "cost after epoch 13: 1.615\n",
            "cost after epoch 14: 1.613\n",
            "cost after epoch 15: 1.610\n",
            "cost after epoch 16: 1.607\n",
            "cost after epoch 17: 1.604\n",
            "cost after epoch 18: 1.602\n",
            "cost after epoch 19: 1.600\n",
            "cost after epoch 20: 1.599\n",
            "cost after epoch 21: 1.596\n",
            "cost after epoch 22: 1.593\n",
            "cost after epoch 23: 1.592\n",
            "cost after epoch 24: 1.590\n",
            "test accuracy: 0.88\n",
            "cost after epoch 0: 2.091\n",
            "cost after epoch 1: 1.904\n",
            "cost after epoch 2: 1.842\n",
            "cost after epoch 3: 1.810\n",
            "cost after epoch 4: 1.789\n",
            "cost after epoch 5: 1.778\n",
            "cost after epoch 6: 1.765\n",
            "cost after epoch 7: 1.761\n",
            "cost after epoch 8: 1.753\n",
            "cost after epoch 9: 1.747\n",
            "cost after epoch 10: 1.743\n",
            "cost after epoch 11: 1.738\n",
            "cost after epoch 12: 1.735\n",
            "cost after epoch 13: 1.731\n",
            "cost after epoch 14: 1.729\n",
            "cost after epoch 15: 1.724\n",
            "cost after epoch 16: 1.725\n",
            "cost after epoch 17: 1.718\n",
            "cost after epoch 18: 1.718\n",
            "cost after epoch 19: 1.716\n",
            "cost after epoch 20: 1.711\n",
            "cost after epoch 21: 1.709\n",
            "cost after epoch 22: 1.709\n",
            "cost after epoch 23: 1.706\n",
            "cost after epoch 24: 1.705\n",
            "test accuracy: 0.79\n"
          ]
        }
      ]
    },
    {
      "cell_type": "code",
      "source": [
        "x=[0,0.3,0.6,0.9]\n",
        "y=[acc1, acc2, acc3, acc4]\n",
        "plt.title(\"3.3 Test accuracies vs. Dropout\")\n",
        "plt.plot(x, y)\n",
        "plt.xlabel('dropout rate')\n",
        "plt.ylabel('accuracy')\n",
        "plt.show()"
      ],
      "metadata": {
        "colab": {
          "base_uri": "https://localhost:8080/",
          "height": 295
        },
        "id": "zRtRrnwmIlaW",
        "outputId": "43a8ef1f-e183-4b41-ae46-14324805a2a0"
      },
      "execution_count": 16,
      "outputs": [
        {
          "output_type": "display_data",
          "data": {
            "text/plain": [
              "<Figure size 432x288 with 1 Axes>"
            ],
            "image/png": "[encoded data removed]"
          },
          "metadata": {
            "needs_background": "light"
          }
        }
      ]
    },
    {
      "cell_type": "code",
      "source": [
        "epoch_list = [5,10,20,25,35]\n",
        "\n",
        "acc41=[]\n",
        "acc42=[]\n",
        "acc43=[]\n",
        "acc44=[]\n",
        "\n",
        "mlp31 = MLP(relu, drelu, 2, [128,128], 1.3, 0)\n",
        "mlp32 = MLP(relu, drelu, 2, [128,128], 1.3, 0.3)\n",
        "mlp33 = MLP(relu, drelu, 2, [128,128], 1.3, 0.6)\n",
        "mlp34 = MLP(relu, drelu, 2, [128,128], 1.3, 0.9)\n",
        "\n",
        "for hyper in epoch_list:\n",
        "  mlp31.fit(x_train_mlp, y_train_after, epoch=hyper, threshold=0.0001)\n",
        "  pred = mlp31.predict(x_test_mlp)\n",
        "  acc41.append(mlp31.evaluate_acc(pred, y_test_after))\n",
        "\n",
        "  mlp32.fit(x_train_mlp, y_train_after, epoch=hyper, threshold=0.0001)\n",
        "  pred = mlp32.predict(x_test_mlp)\n",
        "  acc42.append(mlp32.evaluate_acc(pred, y_test_after))\n",
        "\n",
        "  mlp33.fit(x_train_mlp, y_train_after, epoch=hyper, threshold=0.0001)\n",
        "  pred = mlp33.predict(x_test_mlp)\n",
        "  acc43.append(mlp33.evaluate_acc(pred, y_test_after))\n",
        "\n",
        "  mlp34.fit(x_train_mlp, y_train_after, epoch=hyper, threshold=0.0001)\n",
        "  pred = mlp34.predict(x_test_mlp)\n",
        "  acc44.append(mlp34.evaluate_acc(pred, y_test_after))"
      ],
      "metadata": {
        "colab": {
          "base_uri": "https://localhost:8080/"
        },
        "id": "pESzYtvs1zgs",
        "outputId": "5fcb44af-9470-4c48-f2c8-2a5f15e52f28"
      },
      "execution_count": null,
      "outputs": [
        {
          "output_type": "stream",
          "name": "stdout",
          "text": [
            "cost after epoch 0: 1.971\n",
            "cost after epoch 1: 1.715\n",
            "cost after epoch 2: 1.670\n",
            "cost after epoch 3: 1.651\n",
            "cost after epoch 4: 1.639\n",
            "cost after epoch 0: 2.020\n",
            "cost after epoch 1: 1.783\n",
            "cost after epoch 2: 1.729\n",
            "cost after epoch 3: 1.703\n",
            "cost after epoch 4: 1.688\n",
            "cost after epoch 0: 2.093\n",
            "cost after epoch 1: 1.922\n",
            "cost after epoch 2: 1.864\n",
            "cost after epoch 3: 1.831\n",
            "cost after epoch 4: 1.808\n",
            "cost after epoch 0: 2.238\n",
            "cost after epoch 1: 2.185\n",
            "cost after epoch 2: 2.163\n",
            "cost after epoch 3: 2.152\n",
            "cost after epoch 4: 2.149\n",
            "cost after epoch 0: 1.975\n",
            "cost after epoch 1: 1.715\n",
            "cost after epoch 2: 1.670\n",
            "cost after epoch 3: 1.652\n",
            "cost after epoch 4: 1.640\n",
            "cost after epoch 5: 1.631\n",
            "cost after epoch 6: 1.625\n",
            "cost after epoch 7: 1.618\n",
            "cost after epoch 8: 1.613\n",
            "cost after epoch 9: 1.608\n",
            "cost after epoch 0: 2.009\n",
            "cost after epoch 1: 1.780\n",
            "cost after epoch 2: 1.725\n",
            "cost after epoch 3: 1.701\n",
            "cost after epoch 4: 1.684\n",
            "cost after epoch 5: 1.672\n",
            "cost after epoch 6: 1.663\n",
            "cost after epoch 7: 1.658\n",
            "cost after epoch 8: 1.652\n",
            "cost after epoch 9: 1.648\n",
            "cost after epoch 0: 2.087\n",
            "cost after epoch 1: 1.915\n",
            "cost after epoch 2: 1.869\n",
            "cost after epoch 3: 1.838\n",
            "cost after epoch 4: 1.825\n",
            "cost after epoch 5: 1.814\n",
            "cost after epoch 6: 1.802\n",
            "cost after epoch 7: 1.796\n",
            "cost after epoch 8: 1.784\n",
            "cost after epoch 9: 1.772\n",
            "cost after epoch 0: 2.235\n",
            "cost after epoch 1: 2.170\n",
            "cost after epoch 2: 2.154\n",
            "cost after epoch 3: 2.148\n",
            "cost after epoch 4: 2.147\n",
            "cost after epoch 5: 2.143\n",
            "cost after epoch 6: 2.142\n",
            "cost after epoch 7: 2.139\n",
            "cost after epoch 8: 2.138\n",
            "cost after epoch 9: 2.137\n",
            "cost after epoch 0: 1.984\n",
            "cost after epoch 1: 1.716\n",
            "cost after epoch 2: 1.669\n",
            "cost after epoch 3: 1.650\n",
            "cost after epoch 4: 1.639\n",
            "cost after epoch 5: 1.630\n",
            "cost after epoch 6: 1.623\n",
            "cost after epoch 7: 1.617\n",
            "cost after epoch 8: 1.612\n",
            "cost after epoch 9: 1.607\n",
            "cost after epoch 10: 1.603\n",
            "cost after epoch 11: 1.599\n",
            "cost after epoch 12: 1.595\n",
            "cost after epoch 13: 1.592\n",
            "cost after epoch 14: 1.591\n",
            "cost after epoch 15: 1.588\n",
            "cost after epoch 16: 1.584\n",
            "cost after epoch 17: 1.582\n",
            "cost after epoch 18: 1.581\n",
            "cost after epoch 19: 1.579\n",
            "cost after epoch 0: 2.037\n",
            "cost after epoch 1: 1.796\n",
            "cost after epoch 2: 1.735\n",
            "cost after epoch 3: 1.708\n",
            "cost after epoch 4: 1.691\n",
            "cost after epoch 5: 1.679\n",
            "cost after epoch 6: 1.670\n",
            "cost after epoch 7: 1.663\n",
            "cost after epoch 8: 1.656\n",
            "cost after epoch 9: 1.650\n",
            "cost after epoch 10: 1.644\n",
            "cost after epoch 11: 1.639\n",
            "cost after epoch 12: 1.635\n",
            "cost after epoch 13: 1.631\n",
            "cost after epoch 14: 1.628\n",
            "cost after epoch 15: 1.626\n",
            "cost after epoch 16: 1.624\n",
            "cost after epoch 17: 1.621\n",
            "cost after epoch 18: 1.620\n",
            "cost after epoch 19: 1.617\n",
            "cost after epoch 0: 2.092\n",
            "cost after epoch 1: 1.904\n",
            "cost after epoch 2: 1.855\n",
            "cost after epoch 3: 1.833\n",
            "cost after epoch 4: 1.818\n",
            "cost after epoch 5: 1.807\n",
            "cost after epoch 6: 1.798\n",
            "cost after epoch 7: 1.791\n",
            "cost after epoch 8: 1.782\n",
            "cost after epoch 9: 1.778\n",
            "cost after epoch 10: 1.772\n",
            "cost after epoch 11: 1.769\n",
            "cost after epoch 12: 1.764\n",
            "cost after epoch 13: 1.761\n",
            "cost after epoch 14: 1.760\n",
            "cost after epoch 15: 1.756\n",
            "cost after epoch 16: 1.752\n",
            "cost after epoch 17: 1.756\n",
            "cost after epoch 18: 1.751\n",
            "cost after epoch 19: 1.749\n",
            "cost after epoch 0: 2.235\n",
            "cost after epoch 1: 2.175\n",
            "cost after epoch 2: 2.160\n",
            "cost after epoch 3: 2.154\n",
            "cost after epoch 4: 2.148\n",
            "cost after epoch 5: 2.144\n",
            "cost after epoch 6: 2.143\n",
            "cost after epoch 7: 2.141\n",
            "cost after epoch 8: 2.139\n",
            "cost after epoch 9: 2.141\n",
            "cost after epoch 10: 2.138\n",
            "cost after epoch 11: 2.138\n",
            "cost after epoch 12: 2.139\n",
            "cost after epoch 13: 2.135\n",
            "cost after epoch 14: 2.135\n",
            "cost after epoch 15: 2.135\n",
            "cost after epoch 16: 2.138\n",
            "cost after epoch 17: 2.136\n",
            "cost after epoch 18: 2.135\n",
            "cost after epoch 19: 2.136\n",
            "cost after epoch 0: 1.993\n",
            "cost after epoch 1: 1.717\n",
            "cost after epoch 2: 1.671\n",
            "cost after epoch 3: 1.652\n",
            "cost after epoch 4: 1.640\n",
            "cost after epoch 5: 1.631\n",
            "cost after epoch 6: 1.624\n",
            "cost after epoch 7: 1.617\n",
            "cost after epoch 8: 1.612\n",
            "cost after epoch 9: 1.607\n",
            "cost after epoch 10: 1.603\n",
            "cost after epoch 11: 1.599\n",
            "cost after epoch 12: 1.597\n",
            "cost after epoch 13: 1.592\n",
            "cost after epoch 14: 1.590\n",
            "cost after epoch 15: 1.587\n",
            "cost after epoch 16: 1.584\n",
            "cost after epoch 17: 1.583\n",
            "cost after epoch 18: 1.579\n",
            "cost after epoch 19: 1.577\n",
            "cost after epoch 20: 1.575\n",
            "cost after epoch 21: 1.573\n",
            "cost after epoch 22: 1.570\n",
            "cost after epoch 23: 1.571\n",
            "cost after epoch 24: 1.567\n",
            "cost after epoch 0: 2.016\n",
            "cost after epoch 1: 1.770\n",
            "cost after epoch 2: 1.721\n",
            "cost after epoch 3: 1.699\n",
            "cost after epoch 4: 1.683\n",
            "cost after epoch 5: 1.672\n",
            "cost after epoch 6: 1.664\n",
            "cost after epoch 7: 1.657\n",
            "cost after epoch 8: 1.652\n",
            "cost after epoch 9: 1.646\n",
            "cost after epoch 10: 1.644\n",
            "cost after epoch 11: 1.639\n",
            "cost after epoch 12: 1.635\n",
            "cost after epoch 13: 1.633\n",
            "cost after epoch 14: 1.630\n",
            "cost after epoch 15: 1.627\n",
            "cost after epoch 16: 1.624\n",
            "cost after epoch 17: 1.620\n",
            "cost after epoch 18: 1.619\n",
            "cost after epoch 19: 1.618\n",
            "cost after epoch 20: 1.616\n",
            "cost after epoch 21: 1.613\n",
            "cost after epoch 22: 1.613\n",
            "cost after epoch 23: 1.610\n",
            "cost after epoch 24: 1.610\n",
            "cost after epoch 0: 2.089\n",
            "cost after epoch 1: 1.907\n",
            "cost after epoch 2: 1.859\n",
            "cost after epoch 3: 1.836\n",
            "cost after epoch 4: 1.818\n",
            "cost after epoch 5: 1.811\n",
            "cost after epoch 6: 1.802\n",
            "cost after epoch 7: 1.796\n",
            "cost after epoch 8: 1.788\n",
            "cost after epoch 9: 1.786\n",
            "cost after epoch 10: 1.781\n",
            "cost after epoch 11: 1.778\n",
            "cost after epoch 12: 1.773\n",
            "cost after epoch 13: 1.769\n",
            "cost after epoch 14: 1.764\n",
            "cost after epoch 15: 1.759\n",
            "cost after epoch 16: 1.756\n",
            "cost after epoch 17: 1.757\n",
            "cost after epoch 18: 1.753\n",
            "cost after epoch 19: 1.749\n",
            "cost after epoch 20: 1.749\n",
            "cost after epoch 21: 1.746\n",
            "cost after epoch 22: 1.744\n",
            "cost after epoch 23: 1.742\n",
            "cost after epoch 24: 1.741\n",
            "cost after epoch 0: 2.229\n",
            "cost after epoch 1: 2.171\n",
            "cost after epoch 2: 2.160\n",
            "cost after epoch 3: 2.154\n",
            "cost after epoch 4: 2.150\n",
            "cost after epoch 5: 2.149\n",
            "cost after epoch 6: 2.147\n",
            "cost after epoch 7: 2.143\n",
            "cost after epoch 8: 2.144\n",
            "cost after epoch 9: 2.142\n",
            "cost after epoch 10: 2.141\n",
            "cost after epoch 11: 2.138\n",
            "cost after epoch 12: 2.137\n",
            "cost after epoch 13: 2.136\n",
            "cost after epoch 14: 2.144\n",
            "cost after epoch 15: 2.139\n",
            "cost after epoch 16: 2.140\n",
            "cost after epoch 17: 2.134\n",
            "cost after epoch 18: 2.139\n",
            "cost after epoch 19: 2.139\n",
            "cost after epoch 20: 2.147\n",
            "cost after epoch 21: 2.144\n",
            "cost after epoch 22: 2.145\n",
            "cost after epoch 23: 2.141\n",
            "cost after epoch 24: 2.144\n",
            "cost after epoch 0: 1.969\n",
            "cost after epoch 1: 1.705\n",
            "cost after epoch 2: 1.665\n",
            "cost after epoch 3: 1.648\n",
            "cost after epoch 4: 1.637\n",
            "cost after epoch 5: 1.628\n",
            "cost after epoch 6: 1.621\n",
            "cost after epoch 7: 1.615\n",
            "cost after epoch 8: 1.611\n",
            "cost after epoch 9: 1.606\n",
            "cost after epoch 10: 1.601\n",
            "cost after epoch 11: 1.598\n",
            "cost after epoch 12: 1.594\n",
            "cost after epoch 13: 1.591\n",
            "cost after epoch 14: 1.593\n",
            "cost after epoch 15: 1.588\n",
            "cost after epoch 16: 1.584\n",
            "cost after epoch 17: 1.581\n",
            "cost after epoch 18: 1.580\n",
            "cost after epoch 19: 1.577\n",
            "cost after epoch 20: 1.575\n",
            "cost after epoch 21: 1.573\n",
            "cost after epoch 22: 1.574\n",
            "cost after epoch 23: 1.569\n",
            "cost after epoch 24: 1.566\n",
            "cost after epoch 25: 1.565\n",
            "cost after epoch 26: 1.564\n",
            "cost after epoch 27: 1.561\n",
            "cost after epoch 28: 1.561\n",
            "cost after epoch 29: 1.560\n",
            "cost after epoch 30: 1.557\n",
            "cost after epoch 31: 1.560\n",
            "cost after epoch 32: 1.556\n",
            "cost after epoch 33: 1.555\n",
            "cost after epoch 34: 1.553\n",
            "cost after epoch 0: 2.017\n",
            "cost after epoch 1: 1.779\n",
            "cost after epoch 2: 1.724\n",
            "cost after epoch 3: 1.698\n",
            "cost after epoch 4: 1.684\n",
            "cost after epoch 5: 1.675\n",
            "cost after epoch 6: 1.665\n",
            "cost after epoch 7: 1.659\n",
            "cost after epoch 8: 1.653\n",
            "cost after epoch 9: 1.648\n",
            "cost after epoch 10: 1.643\n",
            "cost after epoch 11: 1.639\n",
            "cost after epoch 12: 1.636\n",
            "cost after epoch 13: 1.631\n",
            "cost after epoch 14: 1.629\n",
            "cost after epoch 15: 1.626\n",
            "cost after epoch 16: 1.623\n",
            "cost after epoch 17: 1.621\n",
            "cost after epoch 18: 1.619\n",
            "cost after epoch 19: 1.617\n",
            "cost after epoch 20: 1.613\n",
            "cost after epoch 21: 1.612\n",
            "cost after epoch 22: 1.610\n",
            "cost after epoch 23: 1.608\n",
            "cost after epoch 24: 1.607\n",
            "cost after epoch 25: 1.607\n",
            "cost after epoch 26: 1.604\n",
            "cost after epoch 27: 1.603\n",
            "cost after epoch 28: 1.600\n",
            "cost after epoch 29: 1.599\n",
            "cost after epoch 30: 1.599\n",
            "cost after epoch 31: 1.596\n",
            "cost after epoch 32: 1.595\n",
            "cost after epoch 33: 1.593\n",
            "cost after epoch 34: 1.592\n",
            "cost after epoch 0: 2.088\n",
            "cost after epoch 1: 1.909\n",
            "cost after epoch 2: 1.851\n",
            "cost after epoch 3: 1.824\n",
            "cost after epoch 4: 1.814\n",
            "cost after epoch 5: 1.800\n",
            "cost after epoch 6: 1.796\n",
            "cost after epoch 7: 1.788\n",
            "cost after epoch 8: 1.779\n",
            "cost after epoch 9: 1.777\n",
            "cost after epoch 10: 1.770\n",
            "cost after epoch 11: 1.768\n",
            "cost after epoch 12: 1.766\n",
            "cost after epoch 13: 1.762\n",
            "cost after epoch 14: 1.758\n",
            "cost after epoch 15: 1.754\n",
            "cost after epoch 16: 1.750\n",
            "cost after epoch 17: 1.747\n",
            "cost after epoch 18: 1.748\n",
            "cost after epoch 19: 1.746\n",
            "cost after epoch 20: 1.740\n",
            "cost after epoch 21: 1.739\n",
            "cost after epoch 22: 1.739\n",
            "cost after epoch 23: 1.736\n",
            "cost after epoch 24: 1.731\n",
            "cost after epoch 25: 1.731\n",
            "cost after epoch 26: 1.729\n",
            "cost after epoch 27: 1.728\n",
            "cost after epoch 28: 1.728\n",
            "cost after epoch 29: 1.723\n",
            "cost after epoch 30: 1.723\n",
            "cost after epoch 0: 2.226\n",
            "cost after epoch 1: 2.169\n",
            "cost after epoch 2: 2.155\n",
            "cost after epoch 3: 2.152\n",
            "cost after epoch 4: 2.146\n",
            "cost after epoch 5: 2.147\n",
            "cost after epoch 6: 2.147\n"
          ]
        }
      ]
    },
    {
      "cell_type": "code",
      "source": [
        "x=epoch_list\n",
        "\n",
        "plt.title(\"3.3 Test accuracies vs. Epoch\")\n",
        "plt.plot(x,acc41, '-', label=\"0\")\n",
        "plt.plot(x,acc42, '-', label=\"0.3\")\n",
        "plt.plot(x,acc43,'-', label=\"0.6\")\n",
        "plt.plot(x,acc44,'-', label=\"0.9\")\n",
        "plt.legend()\n",
        "plt.xlabel('epoch')\n",
        "plt.ylabel('accuracy')\n",
        "plt.show()"
      ],
      "metadata": {
        "colab": {
          "base_uri": "https://localhost:8080/",
          "height": 295
        },
        "id": "xcRfrd852iym",
        "outputId": "0983d16a-0fab-4738-be5f-09ab96ef693a"
      },
      "execution_count": null,
      "outputs": [
        {
          "output_type": "display_data",
          "data": {
            "text/plain": [
              "<Figure size 432x288 with 1 Axes>"
            ],
            "image/png": "[encoded data removed]"
          },
          "metadata": {
            "needs_background": "light"
          }
        }
      ]
    },
    {
      "cell_type": "markdown",
      "source": [
        "##3.4 Unnormalized"
      ],
      "metadata": {
        "id": "2cgNNGlNDZle"
      }
    },
    {
      "cell_type": "code",
      "source": [
        "# MLP with 2 hidden layers each having 128 units with ReLU activations using unnormalized data\n",
        "mlp2 = MLP(relu, drelu, 2, [128,128], 0.18)\n",
        "mlp2.fit(x_train_origin, y_train_after)\n",
        "pred = mlp2.predict(x_test_origin)\n",
        "acc = mlp2.evaluate_acc(pred, y_test_after)\n",
        "print(f\"test accuracy: {acc:.2f}\")"
      ],
      "metadata": {
        "colab": {
          "base_uri": "https://localhost:8080/"
        },
        "id": "b2dlVBObDcoe",
        "outputId": "4b9a01a3-1622-4a43-cbe3-6a56ee1469ca"
      },
      "execution_count": null,
      "outputs": [
        {
          "output_type": "stream",
          "name": "stdout",
          "text": [
            "cost after epoch 0: 2.288\n",
            "cost after epoch 1: 2.289\n",
            "cost after epoch 2: 2.281\n",
            "cost after epoch 3: 2.293\n",
            "cost after epoch 4: 2.297\n",
            "cost after epoch 5: 2.283\n",
            "cost after epoch 6: 2.257\n",
            "cost after epoch 7: 2.240\n",
            "cost after epoch 8: 2.231\n",
            "cost after epoch 9: 2.226\n",
            "cost after epoch 10: 2.283\n",
            "cost after epoch 11: 2.303\n",
            "cost after epoch 12: 2.303\n",
            "test accuracy: 0.10\n"
          ]
        }
      ]
    },
    {
      "cell_type": "markdown",
      "source": [
        "## 3.5 CNN"
      ],
      "metadata": {
        "id": "-T-N-GSFptqb"
      }
    },
    {
      "cell_type": "code",
      "source": [
        "from tensorflow import keras\n",
        "from keras import models, layers\n",
        "from keras.layers import Conv2D, Activation, BatchNormalization, MaxPool2D, Dropout, Flatten, Dense\n",
        "from keras.models import Model\n",
        "\n",
        "model = models.Sequential()\n",
        "\n",
        "#first set of CONV\n",
        "model.add(Conv2D(32, (5, 5), strides=(1, 1),padding=\"same\", input_shape=(28,28,1)))\n",
        "model.add(Activation('relu'))\n",
        "model.add(MaxPool2D(pool_size=(2, 2), strides=(2, 2)))\n",
        "\n",
        "# second set of CONV\n",
        "model.add(Conv2D(64, (5, 5), strides=(1, 1), padding=\"same\"))\n",
        "model.add(Activation('relu'))\n",
        "model.add(MaxPool2D(pool_size=(2, 2), strides=(2, 2)))\n",
        "\n",
        "\n",
        "model.add(Flatten())\n",
        "model.add(Dense(128))\n",
        "model.add(Activation('relu'))\n",
        "\n",
        "# softmax classifier\n",
        "model.add(Dense(10))\n",
        "model.add(Activation('softmax'))\n",
        "model.summary()\n",
        "\n",
        "\n"
      ],
      "metadata": {
        "id": "-DtB2WepmflY",
        "colab": {
          "base_uri": "https://localhost:8080/"
        },
        "outputId": "57f50d33-3979-4bad-8bd3-03da05fe5e94"
      },
      "execution_count": null,
      "outputs": [
        {
          "output_type": "stream",
          "name": "stdout",
          "text": [
            "Model: \"sequential\"\n",
            "_________________________________________________________________\n",
            " Layer (type)                Output Shape              Param #   \n",
            "=================================================================\n",
            " conv2d (Conv2D)             (None, 28, 28, 32)        832       \n",
            "                                                                 \n",
            " activation (Activation)     (None, 28, 28, 32)        0         \n",
            "                                                                 \n",
            " max_pooling2d (MaxPooling2D  (None, 14, 14, 32)       0         \n",
            " )                                                               \n",
            "                                                                 \n",
            " conv2d_1 (Conv2D)           (None, 14, 14, 64)        51264     \n",
            "                                                                 \n",
            " activation_1 (Activation)   (None, 14, 14, 64)        0         \n",
            "                                                                 \n",
            " max_pooling2d_1 (MaxPooling  (None, 7, 7, 64)         0         \n",
            " 2D)                                                             \n",
            "                                                                 \n",
            " flatten (Flatten)           (None, 3136)              0         \n",
            "                                                                 \n",
            " dense (Dense)               (None, 128)               401536    \n",
            "                                                                 \n",
            " activation_2 (Activation)   (None, 128)               0         \n",
            "                                                                 \n",
            " dense_1 (Dense)             (None, 10)                1290      \n",
            "                                                                 \n",
            " activation_3 (Activation)   (None, 10)                0         \n",
            "                                                                 \n",
            "=================================================================\n",
            "Total params: 454,922\n",
            "Trainable params: 454,922\n",
            "Non-trainable params: 0\n",
            "_________________________________________________________________\n"
          ]
        }
      ]
    },
    {
      "cell_type": "code",
      "source": [
        "model.compile(optimizer='adam',\n",
        "              loss=\"categorical_crossentropy\",\n",
        "              metrics=['accuracy'])\n",
        "\n",
        "history = model.fit(x_train_cnn, y_train_hor, validation_data=(x_test_cnn, y_test_hor), \n",
        "            batch_size=128, epochs=20, verbose=1)\n",
        "test_loss, test_acc = model.evaluate(x_test_cnn,  y_test_hor, verbose=2)"
      ],
      "metadata": {
        "id": "LoUNle0Sjaf_",
        "colab": {
          "base_uri": "https://localhost:8080/"
        },
        "outputId": "39eeb3be-7c40-4c3c-f80d-466ab8c31552"
      },
      "execution_count": null,
      "outputs": [
        {
          "output_type": "stream",
          "name": "stdout",
          "text": [
            "Epoch 1/20\n",
            "469/469 [==============================] - 161s 341ms/step - loss: 0.4855 - accuracy: 0.8269 - val_loss: 0.3899 - val_accuracy: 0.8568\n",
            "Epoch 2/20\n",
            "469/469 [==============================] - 152s 325ms/step - loss: 0.3062 - accuracy: 0.8906 - val_loss: 0.3054 - val_accuracy: 0.8882\n",
            "Epoch 3/20\n",
            "469/469 [==============================] - 150s 319ms/step - loss: 0.2608 - accuracy: 0.9061 - val_loss: 0.2746 - val_accuracy: 0.9031\n",
            "Epoch 4/20\n",
            "469/469 [==============================] - 199s 425ms/step - loss: 0.2303 - accuracy: 0.9175 - val_loss: 0.2972 - val_accuracy: 0.8951\n",
            "Epoch 5/20\n",
            "469/469 [==============================] - 205s 437ms/step - loss: 0.2051 - accuracy: 0.9246 - val_loss: 0.2725 - val_accuracy: 0.9078\n",
            "Epoch 6/20\n",
            "469/469 [==============================] - 149s 318ms/step - loss: 0.1865 - accuracy: 0.9312 - val_loss: 0.2347 - val_accuracy: 0.9158\n",
            "Epoch 7/20\n",
            "469/469 [==============================] - 145s 309ms/step - loss: 0.1669 - accuracy: 0.9378 - val_loss: 0.2456 - val_accuracy: 0.9157\n",
            "Epoch 8/20\n",
            "469/469 [==============================] - 145s 309ms/step - loss: 0.1499 - accuracy: 0.9442 - val_loss: 0.2261 - val_accuracy: 0.9196\n",
            "Epoch 9/20\n",
            "469/469 [==============================] - 145s 309ms/step - loss: 0.1335 - accuracy: 0.9501 - val_loss: 0.2442 - val_accuracy: 0.9205\n",
            "Epoch 10/20\n",
            "469/469 [==============================] - 144s 308ms/step - loss: 0.1172 - accuracy: 0.9568 - val_loss: 0.2572 - val_accuracy: 0.9131\n",
            "Epoch 11/20\n",
            "469/469 [==============================] - 144s 308ms/step - loss: 0.1052 - accuracy: 0.9612 - val_loss: 0.2830 - val_accuracy: 0.9100\n",
            "Epoch 12/20\n",
            "469/469 [==============================] - 145s 309ms/step - loss: 0.0896 - accuracy: 0.9670 - val_loss: 0.2539 - val_accuracy: 0.9206\n",
            "Epoch 13/20\n",
            "469/469 [==============================] - 144s 308ms/step - loss: 0.0802 - accuracy: 0.9708 - val_loss: 0.2861 - val_accuracy: 0.9156\n",
            "Epoch 14/20\n",
            "469/469 [==============================] - 144s 307ms/step - loss: 0.0719 - accuracy: 0.9732 - val_loss: 0.2834 - val_accuracy: 0.9196\n",
            "Epoch 15/20\n",
            "469/469 [==============================] - 144s 307ms/step - loss: 0.0604 - accuracy: 0.9777 - val_loss: 0.3054 - val_accuracy: 0.9192\n",
            "Epoch 16/20\n",
            "469/469 [==============================] - 144s 306ms/step - loss: 0.0546 - accuracy: 0.9797 - val_loss: 0.3154 - val_accuracy: 0.9188\n",
            "Epoch 17/20\n",
            "469/469 [==============================] - 144s 307ms/step - loss: 0.0450 - accuracy: 0.9838 - val_loss: 0.3405 - val_accuracy: 0.9199\n",
            "Epoch 18/20\n",
            "469/469 [==============================] - 144s 307ms/step - loss: 0.0386 - accuracy: 0.9861 - val_loss: 0.4045 - val_accuracy: 0.9164\n",
            "Epoch 19/20\n",
            "469/469 [==============================] - 145s 309ms/step - loss: 0.0389 - accuracy: 0.9857 - val_loss: 0.3992 - val_accuracy: 0.9167\n",
            "Epoch 20/20\n",
            "469/469 [==============================] - 144s 306ms/step - loss: 0.0362 - accuracy: 0.9872 - val_loss: 0.3990 - val_accuracy: 0.9156\n",
            "313/313 - 6s - loss: 0.3990 - accuracy: 0.9156 - 6s/epoch - 20ms/step\n"
          ]
        }
      ]
    },
    {
      "cell_type": "code",
      "source": [
        "plt.plot(history.history['accuracy'], label='accuracy')\n",
        "plt.plot(history.history['val_accuracy'], label = 'val_accuracy')\n",
        "plt.xlabel('Epoch')\n",
        "plt.ylabel('Accuracy')\n",
        "plt.ylim([0.5, 1])\n",
        "plt.legend(loc='lower right')\n",
        "plt.show()\n",
        "\n",
        "test_loss, test_acc = model.evaluate(x_test_cnn, y_test_hor, verbose=2)"
      ],
      "metadata": {
        "id": "imf3nwP2kYqH",
        "colab": {
          "base_uri": "https://localhost:8080/",
          "height": 300
        },
        "outputId": "d941e3ad-942a-493c-d655-d09584d6f7bb"
      },
      "execution_count": null,
      "outputs": [
        {
          "output_type": "display_data",
          "data": {
            "text/plain": [
              "<Figure size 432x288 with 1 Axes>"
            ],
            "image/png": "[encoded data removed]"
          },
          "metadata": {
            "needs_background": "light"
          }
        },
        {
          "output_type": "stream",
          "name": "stdout",
          "text": [
            "313/313 - 6s - loss: 0.3990 - accuracy: 0.9156 - 6s/epoch - 21ms/step\n"
          ]
        }
      ]
    },
    {
      "cell_type": "markdown",
      "source": [
        "##3.6 Other experiments"
      ],
      "metadata": {
        "id": "SIStenFfiPBx"
      }
    },
    {
      "cell_type": "code",
      "source": [
        "# impact of width \n",
        "\n",
        "mlp3 = MLP(relu, drelu, 2, [128,20], 2, 0)\n",
        "mlp3.fit(x_train_mlp, y_train_after, epoch=25, threshold=0.0001)\n",
        "pred = mlp3.predict(x_test_mlp)\n",
        "acc1 = mlp3.evaluate_acc(pred, y_test_after)\n",
        "print(f\"test accuracy: {acc1:.2f}\")\n",
        "\n",
        "mlp3 = MLP(relu, drelu, 2, [64,20], 2, 0)\n",
        "mlp3.fit(x_train_mlp, y_train_after, epoch=25, threshold=0.0001)\n",
        "pred = mlp3.predict(x_test_mlp)\n",
        "acc2 = mlp3.evaluate_acc(pred, y_test_after)\n",
        "print(f\"test accuracy: {acc2:.2f}\")\n",
        "\n",
        "mlp3 = MLP(relu, drelu, 2, [16,20], 2, 0)\n",
        "mlp3.fit(x_train_mlp, y_train_after, epoch=25, threshold=0.0001)\n",
        "pred = mlp3.predict(x_test_mlp)\n",
        "acc3 = mlp3.evaluate_acc(pred, y_test_after)\n",
        "print(f\"test accuracy: {acc3:.2f}\")\n",
        "\n",
        "mlp3 = MLP(relu, drelu, 2, [256,20], 2, 0)\n",
        "mlp3.fit(x_train_mlp, y_train_after, epoch=25, threshold=0.0001)\n",
        "pred = mlp3.predict(x_test_mlp)\n",
        "acc4 = mlp3.evaluate_acc(pred, y_test_after)\n",
        "print(f\"test accuracy: {acc4:.2f}\")\n",
        "\n",
        "mlp3 = MLP(relu, drelu, 2, [512,20], 2, 0)\n",
        "mlp3.fit(x_train_mlp, y_train_after, epoch=25, threshold=0.0001)\n",
        "pred = mlp3.predict(x_test_mlp)\n",
        "acc5 = mlp3.evaluate_acc(pred, y_test_after)\n",
        "print(f\"test accuracy: {acc5:.2f}\")\n",
        "\n",
        "x = [16, 64, 128, 256, 512]\n",
        "y = [acc3, acc2, acc1, acc4, acc5]\n",
        "plt.title(\"3.6 Test accuracies vs. Width\")\n",
        "plt.plot(x, y)\n",
        "plt.xlabel('Unit')\n",
        "plt.ylabel('accuracy')\n",
        "plt.show()"
      ],
      "metadata": {
        "colab": {
          "base_uri": "https://localhost:8080/",
          "height": 1000
        },
        "id": "2Ncf5xhniTP0",
        "outputId": "db42d9a4-15e2-4e6d-ca9d-24317dc1c9f0"
      },
      "execution_count": null,
      "outputs": [
        {
          "output_type": "stream",
          "name": "stdout",
          "text": [
            "cost after epoch 0: 1.949\n",
            "cost after epoch 1: 1.709\n",
            "cost after epoch 2: 1.667\n",
            "cost after epoch 3: 1.649\n",
            "cost after epoch 4: 1.637\n",
            "cost after epoch 5: 1.628\n",
            "cost after epoch 6: 1.621\n",
            "cost after epoch 7: 1.616\n",
            "cost after epoch 8: 1.610\n",
            "cost after epoch 9: 1.605\n",
            "cost after epoch 10: 1.601\n",
            "cost after epoch 11: 1.598\n",
            "cost after epoch 12: 1.595\n",
            "cost after epoch 13: 1.590\n",
            "cost after epoch 14: 1.589\n",
            "cost after epoch 15: 1.585\n",
            "cost after epoch 16: 1.582\n",
            "cost after epoch 17: 1.581\n",
            "cost after epoch 18: 1.579\n",
            "cost after epoch 19: 1.576\n",
            "cost after epoch 20: 1.573\n",
            "cost after epoch 21: 1.571\n",
            "cost after epoch 22: 1.569\n",
            "cost after epoch 23: 1.567\n",
            "cost after epoch 24: 1.566\n",
            "test accuracy: 0.88\n",
            "cost after epoch 0: 1.993\n",
            "cost after epoch 1: 1.722\n",
            "cost after epoch 2: 1.675\n",
            "cost after epoch 3: 1.656\n",
            "cost after epoch 4: 1.646\n",
            "cost after epoch 5: 1.637\n",
            "cost after epoch 6: 1.629\n",
            "cost after epoch 7: 1.624\n",
            "cost after epoch 8: 1.618\n",
            "cost after epoch 9: 1.614\n",
            "cost after epoch 10: 1.610\n",
            "cost after epoch 11: 1.606\n",
            "cost after epoch 12: 1.604\n",
            "cost after epoch 13: 1.601\n",
            "cost after epoch 14: 1.599\n",
            "cost after epoch 15: 1.596\n",
            "cost after epoch 16: 1.594\n",
            "cost after epoch 17: 1.591\n",
            "cost after epoch 18: 1.590\n",
            "cost after epoch 19: 1.587\n",
            "cost after epoch 20: 1.586\n",
            "cost after epoch 21: 1.584\n",
            "cost after epoch 22: 1.582\n",
            "cost after epoch 23: 1.580\n",
            "cost after epoch 24: 1.579\n",
            "test accuracy: 0.87\n",
            "cost after epoch 0: 2.042\n",
            "cost after epoch 1: 1.753\n",
            "cost after epoch 2: 1.698\n",
            "cost after epoch 3: 1.674\n",
            "cost after epoch 4: 1.662\n",
            "cost after epoch 5: 1.654\n",
            "cost after epoch 6: 1.648\n",
            "cost after epoch 7: 1.643\n",
            "cost after epoch 8: 1.639\n",
            "cost after epoch 9: 1.636\n",
            "cost after epoch 10: 1.633\n",
            "cost after epoch 11: 1.631\n",
            "cost after epoch 12: 1.628\n",
            "cost after epoch 13: 1.626\n",
            "cost after epoch 14: 1.625\n",
            "cost after epoch 15: 1.624\n",
            "cost after epoch 16: 1.622\n",
            "cost after epoch 17: 1.620\n",
            "cost after epoch 18: 1.619\n",
            "cost after epoch 19: 1.618\n",
            "cost after epoch 20: 1.616\n",
            "cost after epoch 21: 1.615\n",
            "cost after epoch 22: 1.614\n",
            "cost after epoch 23: 1.615\n",
            "cost after epoch 24: 1.612\n",
            "test accuracy: 0.86\n",
            "cost after epoch 0: 1.951\n",
            "cost after epoch 1: 1.704\n",
            "cost after epoch 2: 1.666\n",
            "cost after epoch 3: 1.648\n",
            "cost after epoch 4: 1.636\n",
            "cost after epoch 5: 1.626\n",
            "cost after epoch 6: 1.620\n",
            "cost after epoch 7: 1.613\n",
            "cost after epoch 8: 1.608\n",
            "cost after epoch 9: 1.602\n",
            "cost after epoch 10: 1.598\n",
            "cost after epoch 11: 1.594\n",
            "cost after epoch 12: 1.590\n",
            "cost after epoch 13: 1.587\n",
            "cost after epoch 14: 1.584\n",
            "cost after epoch 15: 1.581\n",
            "cost after epoch 16: 1.578\n",
            "cost after epoch 17: 1.574\n",
            "cost after epoch 18: 1.571\n",
            "cost after epoch 19: 1.571\n",
            "cost after epoch 20: 1.567\n",
            "cost after epoch 21: 1.565\n",
            "cost after epoch 22: 1.566\n",
            "cost after epoch 23: 1.563\n",
            "cost after epoch 24: 1.560\n",
            "test accuracy: 0.88\n",
            "cost after epoch 0: 1.905\n",
            "cost after epoch 1: 1.696\n",
            "cost after epoch 2: 1.660\n",
            "cost after epoch 3: 1.642\n",
            "cost after epoch 4: 1.631\n",
            "cost after epoch 5: 1.622\n",
            "cost after epoch 6: 1.615\n",
            "cost after epoch 7: 1.608\n",
            "cost after epoch 8: 1.602\n",
            "cost after epoch 9: 1.598\n",
            "cost after epoch 10: 1.593\n",
            "cost after epoch 11: 1.589\n",
            "cost after epoch 12: 1.585\n",
            "cost after epoch 13: 1.582\n",
            "cost after epoch 14: 1.579\n",
            "cost after epoch 15: 1.576\n",
            "cost after epoch 16: 1.576\n",
            "cost after epoch 17: 1.571\n",
            "cost after epoch 18: 1.567\n",
            "cost after epoch 19: 1.566\n",
            "cost after epoch 20: 1.563\n",
            "cost after epoch 21: 1.561\n",
            "cost after epoch 22: 2.078\n",
            "cost after epoch 23: 2.302\n",
            "cost after epoch 24: 2.303\n",
            "test accuracy: 0.10\n"
          ]
        },
        {
          "output_type": "display_data",
          "data": {
            "text/plain": [
              "<Figure size 432x288 with 1 Axes>"
            ],
            "image/png": "[encoded data removed]"
          },
          "metadata": {
            "needs_background": "light"
          }
        }
      ]
    },
    {
      "cell_type": "code",
      "source": [
        "# different stride in cnn \n",
        "\n",
        "model1 = models.Sequential()\n",
        "\n",
        "#first set of CONV\n",
        "model1.add(Conv2D(32, (5, 5), strides=(2, 2),padding=\"same\", input_shape=(28,28,1)))\n",
        "model1.add(Activation('relu'))\n",
        "model1.add(MaxPool2D(pool_size=(2, 2), strides=(2, 2)))\n",
        "\n",
        "# second set of CONV\n",
        "model1.add(Conv2D(64, (5, 5), strides=(2, 2), padding=\"same\"))\n",
        "model1.add(Activation('relu'))\n",
        "model1.add(MaxPool2D(pool_size=(2, 2), strides=(2, 2)))\n",
        "\n",
        "\n",
        "model1.add(Flatten())\n",
        "model1.add(Dense(128))\n",
        "model1.add(Activation('relu'))\n",
        "\n",
        "# softmax classifier\n",
        "model1.add(Dense(10))\n",
        "model1.add(Activation('softmax'))\n",
        "model1.summary()\n",
        "\n",
        "model1.compile(optimizer='adam',\n",
        "              loss=\"categorical_crossentropy\",\n",
        "              metrics=['accuracy'])\n",
        "\n",
        "history = model1.fit(x_train_cnn, y_train_hor, validation_data=(x_test_cnn, y_test_hor), \n",
        "            batch_size=128, epochs=20, verbose=1)\n",
        "test_loss_1, test_acc_1 = model1.evaluate(x_test_cnn,  y_test_hor, verbose=2)\n",
        "\n",
        "\n",
        "\n",
        "model2 = models.Sequential()\n",
        "\n",
        "#first set of CONV\n",
        "model2.add(Conv2D(32, (5, 5), strides=(3, 3),padding=\"same\", input_shape=(28,28,1)))\n",
        "model2.add(Activation('relu'))\n",
        "model2.add(MaxPool2D(pool_size=(2, 2), strides=(2, 2)))\n",
        "\n",
        "# second set of CONV\n",
        "model2.add(Conv2D(64, (5, 5), strides=(3, 3), padding=\"same\"))\n",
        "model2.add(Activation('relu'))\n",
        "model2.add(MaxPool2D(pool_size=(2, 2), strides=(2, 2)))\n",
        "\n",
        "\n",
        "model2.add(Flatten())\n",
        "model2.add(Dense(128))\n",
        "model2.add(Activation('relu'))\n",
        "\n",
        "# softmax classifier\n",
        "model2.add(Dense(10))\n",
        "model2.add(Activation('softmax'))\n",
        "model2.summary()\n",
        "\n",
        "model2.compile(optimizer='adam',\n",
        "              loss=\"categorical_crossentropy\",\n",
        "              metrics=['accuracy'])\n",
        "\n",
        "history = model2.fit(x_train_cnn, y_train_hor, validation_data=(x_test_cnn, y_test_hor), \n",
        "            batch_size=128, epochs=20, verbose=1)\n",
        "test_loss_2, test_acc_2 = model2.evaluate(x_test_cnn,  y_test_hor, verbose=2)\n",
        "\n",
        "\n",
        "\n",
        "\n",
        "\n"
      ],
      "metadata": {
        "colab": {
          "base_uri": "https://localhost:8080/",
          "height": 1000
        },
        "id": "dk5mbgZdi844",
        "outputId": "54fed212-3e85-4af8-cf71-f1b16c9fd667"
      },
      "execution_count": null,
      "outputs": [
        {
          "output_type": "stream",
          "name": "stdout",
          "text": [
            "Model: \"sequential_1\"\n",
            "_________________________________________________________________\n",
            " Layer (type)                Output Shape              Param #   \n",
            "=================================================================\n",
            " conv2d_2 (Conv2D)           (None, 14, 14, 32)        832       \n",
            "                                                                 \n",
            " activation_4 (Activation)   (None, 14, 14, 32)        0         \n",
            "                                                                 \n",
            " max_pooling2d_2 (MaxPooling  (None, 7, 7, 32)         0         \n",
            " 2D)                                                             \n",
            "                                                                 \n",
            " conv2d_3 (Conv2D)           (None, 4, 4, 64)          51264     \n",
            "                                                                 \n",
            " activation_5 (Activation)   (None, 4, 4, 64)          0         \n",
            "                                                                 \n",
            " max_pooling2d_3 (MaxPooling  (None, 2, 2, 64)         0         \n",
            " 2D)                                                             \n",
            "                                                                 \n",
            " flatten_1 (Flatten)         (None, 256)               0         \n",
            "                                                                 \n",
            " dense_2 (Dense)             (None, 128)               32896     \n",
            "                                                                 \n",
            " activation_6 (Activation)   (None, 128)               0         \n",
            "                                                                 \n",
            " dense_3 (Dense)             (None, 10)                1290      \n",
            "                                                                 \n",
            " activation_7 (Activation)   (None, 10)                0         \n",
            "                                                                 \n",
            "=================================================================\n",
            "Total params: 86,282\n",
            "Trainable params: 86,282\n",
            "Non-trainable params: 0\n",
            "_________________________________________________________________\n",
            "Epoch 1/20\n",
            "469/469 [==============================] - 21s 44ms/step - loss: 0.5997 - accuracy: 0.7894 - val_loss: 0.4444 - val_accuracy: 0.8430\n",
            "Epoch 2/20\n",
            "469/469 [==============================] - 21s 44ms/step - loss: 0.3801 - accuracy: 0.8634 - val_loss: 0.4226 - val_accuracy: 0.8457\n",
            "Epoch 3/20\n",
            "469/469 [==============================] - 21s 44ms/step - loss: 0.3262 - accuracy: 0.8838 - val_loss: 0.3367 - val_accuracy: 0.8797\n",
            "Epoch 4/20\n",
            "469/469 [==============================] - 21s 44ms/step - loss: 0.2912 - accuracy: 0.8941 - val_loss: 0.3153 - val_accuracy: 0.8849\n",
            "Epoch 5/20\n",
            "469/469 [==============================] - 20s 44ms/step - loss: 0.2724 - accuracy: 0.9011 - val_loss: 0.3249 - val_accuracy: 0.8871\n",
            "Epoch 6/20\n",
            "469/469 [==============================] - 20s 44ms/step - loss: 0.2505 - accuracy: 0.9077 - val_loss: 0.2875 - val_accuracy: 0.8951\n",
            "Epoch 7/20\n",
            "469/469 [==============================] - 21s 44ms/step - loss: 0.2344 - accuracy: 0.9150 - val_loss: 0.2959 - val_accuracy: 0.8931\n",
            "Epoch 8/20\n",
            "469/469 [==============================] - 20s 43ms/step - loss: 0.2217 - accuracy: 0.9187 - val_loss: 0.2749 - val_accuracy: 0.9032\n",
            "Epoch 9/20\n",
            "469/469 [==============================] - 20s 43ms/step - loss: 0.2089 - accuracy: 0.9235 - val_loss: 0.2719 - val_accuracy: 0.9014\n",
            "Epoch 10/20\n",
            "469/469 [==============================] - 20s 43ms/step - loss: 0.1963 - accuracy: 0.9275 - val_loss: 0.2634 - val_accuracy: 0.9077\n",
            "Epoch 11/20\n",
            "469/469 [==============================] - 20s 43ms/step - loss: 0.1861 - accuracy: 0.9313 - val_loss: 0.2703 - val_accuracy: 0.9034\n",
            "Epoch 12/20\n",
            "469/469 [==============================] - 20s 43ms/step - loss: 0.1770 - accuracy: 0.9358 - val_loss: 0.2669 - val_accuracy: 0.9071\n",
            "Epoch 13/20\n",
            "469/469 [==============================] - 20s 43ms/step - loss: 0.1632 - accuracy: 0.9401 - val_loss: 0.2686 - val_accuracy: 0.9097\n",
            "Epoch 14/20\n",
            "469/469 [==============================] - 20s 43ms/step - loss: 0.1572 - accuracy: 0.9427 - val_loss: 0.2766 - val_accuracy: 0.9066\n",
            "Epoch 15/20\n",
            "469/469 [==============================] - 21s 44ms/step - loss: 0.1507 - accuracy: 0.9446 - val_loss: 0.2619 - val_accuracy: 0.9101\n",
            "Epoch 16/20\n",
            "469/469 [==============================] - 20s 43ms/step - loss: 0.1396 - accuracy: 0.9489 - val_loss: 0.2809 - val_accuracy: 0.9086\n",
            "Epoch 17/20\n",
            "469/469 [==============================] - 20s 43ms/step - loss: 0.1298 - accuracy: 0.9522 - val_loss: 0.2791 - val_accuracy: 0.9082\n",
            "Epoch 18/20\n",
            "469/469 [==============================] - 20s 43ms/step - loss: 0.1249 - accuracy: 0.9537 - val_loss: 0.2893 - val_accuracy: 0.9066\n",
            "Epoch 19/20\n",
            "469/469 [==============================] - 20s 43ms/step - loss: 0.1150 - accuracy: 0.9577 - val_loss: 0.2986 - val_accuracy: 0.9082\n",
            "Epoch 20/20\n",
            "469/469 [==============================] - 20s 43ms/step - loss: 0.1110 - accuracy: 0.9599 - val_loss: 0.2928 - val_accuracy: 0.9126\n",
            "313/313 - 1s - loss: 0.2928 - accuracy: 0.9126 - 1s/epoch - 5ms/step\n",
            "Model: \"sequential_2\"\n",
            "_________________________________________________________________\n",
            " Layer (type)                Output Shape              Param #   \n",
            "=================================================================\n",
            " conv2d_4 (Conv2D)           (None, 10, 10, 32)        832       \n",
            "                                                                 \n",
            " activation_8 (Activation)   (None, 10, 10, 32)        0         \n",
            "                                                                 \n",
            " max_pooling2d_4 (MaxPooling  (None, 5, 5, 32)         0         \n",
            " 2D)                                                             \n",
            "                                                                 \n",
            " conv2d_5 (Conv2D)           (None, 2, 2, 64)          51264     \n",
            "                                                                 \n",
            " activation_9 (Activation)   (None, 2, 2, 64)          0         \n",
            "                                                                 \n",
            " max_pooling2d_5 (MaxPooling  (None, 1, 1, 64)         0         \n",
            " 2D)                                                             \n",
            "                                                                 \n",
            " flatten_2 (Flatten)         (None, 64)                0         \n",
            "                                                                 \n",
            " dense_4 (Dense)             (None, 128)               8320      \n",
            "                                                                 \n",
            " activation_10 (Activation)  (None, 128)               0         \n",
            "                                                                 \n",
            " dense_5 (Dense)             (None, 10)                1290      \n",
            "                                                                 \n",
            " activation_11 (Activation)  (None, 10)                0         \n",
            "                                                                 \n",
            "=================================================================\n",
            "Total params: 61,706\n",
            "Trainable params: 61,706\n",
            "Non-trainable params: 0\n",
            "_________________________________________________________________\n",
            "Epoch 1/20\n",
            "469/469 [==============================] - 11s 21ms/step - loss: 0.6694 - accuracy: 0.7612 - val_loss: 0.4809 - val_accuracy: 0.8269\n",
            "Epoch 2/20\n",
            "469/469 [==============================] - 10s 21ms/step - loss: 0.4337 - accuracy: 0.8448 - val_loss: 0.4218 - val_accuracy: 0.8510\n",
            "Epoch 3/20\n",
            "469/469 [==============================] - 10s 21ms/step - loss: 0.3787 - accuracy: 0.8641 - val_loss: 0.3755 - val_accuracy: 0.8656\n",
            "Epoch 4/20\n",
            "469/469 [==============================] - 10s 21ms/step - loss: 0.3488 - accuracy: 0.8740 - val_loss: 0.3658 - val_accuracy: 0.8687\n",
            "Epoch 5/20\n",
            "469/469 [==============================] - 10s 21ms/step - loss: 0.3246 - accuracy: 0.8827 - val_loss: 0.3408 - val_accuracy: 0.8797\n",
            "Epoch 6/20\n",
            "469/469 [==============================] - 10s 22ms/step - loss: 0.3068 - accuracy: 0.8881 - val_loss: 0.3488 - val_accuracy: 0.8714\n",
            "Epoch 7/20\n",
            "469/469 [==============================] - 10s 22ms/step - loss: 0.2914 - accuracy: 0.8942 - val_loss: 0.3172 - val_accuracy: 0.8868\n",
            "Epoch 8/20\n",
            "469/469 [==============================] - 10s 21ms/step - loss: 0.2798 - accuracy: 0.8971 - val_loss: 0.3192 - val_accuracy: 0.8868\n",
            "Epoch 9/20\n",
            "469/469 [==============================] - 10s 21ms/step - loss: 0.2714 - accuracy: 0.8998 - val_loss: 0.3045 - val_accuracy: 0.8875\n",
            "Epoch 10/20\n",
            "469/469 [==============================] - 10s 21ms/step - loss: 0.2599 - accuracy: 0.9043 - val_loss: 0.3034 - val_accuracy: 0.8894\n",
            "Epoch 11/20\n",
            "469/469 [==============================] - 10s 21ms/step - loss: 0.2467 - accuracy: 0.9093 - val_loss: 0.3063 - val_accuracy: 0.8908\n",
            "Epoch 12/20\n",
            "469/469 [==============================] - 10s 21ms/step - loss: 0.2421 - accuracy: 0.9104 - val_loss: 0.3217 - val_accuracy: 0.8851\n",
            "Epoch 13/20\n",
            "469/469 [==============================] - 10s 21ms/step - loss: 0.2305 - accuracy: 0.9143 - val_loss: 0.3001 - val_accuracy: 0.8963\n",
            "Epoch 14/20\n",
            "469/469 [==============================] - 10s 21ms/step - loss: 0.2239 - accuracy: 0.9167 - val_loss: 0.2995 - val_accuracy: 0.8963\n",
            "Epoch 15/20\n",
            "469/469 [==============================] - 10s 21ms/step - loss: 0.2146 - accuracy: 0.9204 - val_loss: 0.3163 - val_accuracy: 0.8892\n",
            "Epoch 16/20\n",
            "469/469 [==============================] - 10s 21ms/step - loss: 0.2090 - accuracy: 0.9231 - val_loss: 0.2967 - val_accuracy: 0.8961\n",
            "Epoch 17/20\n",
            "469/469 [==============================] - 11s 22ms/step - loss: 0.2018 - accuracy: 0.9252 - val_loss: 0.2866 - val_accuracy: 0.9001\n",
            "Epoch 18/20\n",
            "469/469 [==============================] - 11s 24ms/step - loss: 0.1947 - accuracy: 0.9272 - val_loss: 0.3152 - val_accuracy: 0.8912\n",
            "Epoch 19/20\n",
            "469/469 [==============================] - 10s 21ms/step - loss: 0.1915 - accuracy: 0.9282 - val_loss: 0.2954 - val_accuracy: 0.8986\n",
            "Epoch 20/20\n",
            "469/469 [==============================] - 10s 21ms/step - loss: 0.1840 - accuracy: 0.9321 - val_loss: 0.2961 - val_accuracy: 0.8975\n",
            "313/313 - 1s - loss: 0.2961 - accuracy: 0.8975 - 888ms/epoch - 3ms/step\n"
          ]
        },
        {
          "output_type": "display_data",
          "data": {
            "text/plain": [
              "<Figure size 432x288 with 1 Axes>"
            ],
            "image/png": "[encoded data removed]"
          },
          "metadata": {
            "needs_background": "light"
          }
        },
        {
          "output_type": "stream",
          "name": "stdout",
          "text": [
            "313/313 - 6s - loss: 0.3990 - accuracy: 0.9156 - 6s/epoch - 20ms/step\n"
          ]
        }
      ]
    },
    {
      "cell_type": "code",
      "source": [
        "x = [1,2,3]\n",
        "y = [test_acc, test_acc_1, test_acc_2]\n",
        "plt.plot(x, y)\n",
        "plt.xlabel('Stride')\n",
        "plt.ylabel('Accuracy')\n",
        "plt.ylim([0.5, 1])\n",
        "plt.show()"
      ],
      "metadata": {
        "colab": {
          "base_uri": "https://localhost:8080/",
          "height": 300
        },
        "id": "Gfu3sIhS9y66",
        "outputId": "51c7695d-7377-4c0f-eb5a-eab5d5af24f2"
      },
      "execution_count": null,
      "outputs": [
        {
          "output_type": "stream",
          "name": "stderr",
          "text": [
            "No handles with labels found to put in legend.\n"
          ]
        },
        {
          "output_type": "display_data",
          "data": {
            "text/plain": [
              "<Figure size 432x288 with 1 Axes>"
            ],
            "image/png": "[encoded data removed]"
          },
          "metadata": {
            "needs_background": "light"
          }
        }
      ]
    },
    {
      "cell_type": "code",
      "source": [
        "# different training data size \n",
        "\n",
        "data = [1, 10, 1000, 10000]\n",
        "cnn_accuracy = []\n",
        "mlp_accuracy = []\n",
        "\n",
        "for i in range(len(data)):\n",
        "  # CNN\n",
        "  history = model.fit(x_train_cnn[:data[i]], y_train_hor[:data[i]], validation_data=(x_test_cnn, y_test_hor), \n",
        "            batch_size=128, epochs=20, verbose=1)\n",
        "  test_loss, test_acc = model.evaluate(x_test_cnn,  y_test_hor, verbose=2)\n",
        "  print(f\"cnn accuracy: {test_acc:.2f}\")\n",
        "  # MLP\n",
        "  mlp3 = MLP(relu, drelu, 2, [128,20], 2, 0)\n",
        "  mlp3.fit(x_train_mlp[:data[i]], y_train_after[:data[i]], epoch=20, threshold=0.0001)\n",
        "  pred = mlp3.predict(x_test_mlp)\n",
        "  acc1 = mlp3.evaluate_acc(pred, y_test_after)\n",
        "  print(f\"mlp accuracy: {acc1:.2f}\")\n",
        "  cnn_accuracy.append(test_acc)\n",
        "  mlp_accuracy.append(acc1)\n",
        "\n",
        "# CNN\n",
        "history = model.fit(x_train_cnn, y_train_hor, validation_data=(x_test_cnn, y_test_hor), \n",
        "            batch_size=128, epochs=20, verbose=1)\n",
        "test_loss, test_acc = model.evaluate(x_test_cnn,  y_test_hor, verbose=2)\n",
        "print(f\"cnn accuracy: {test_acc:.2f}\")\n",
        "cnn_accuracy.append(test_acc)\n",
        "# MLP\n",
        "mlp3 = MLP(relu, drelu, 2, [128,20], 2, 0)\n",
        "mlp3.fit(x_train_mlp, y_train_after, epoch=20, threshold=0.0001)\n",
        "pred = mlp3.predict(x_test_mlp)\n",
        "acc1 = mlp3.evaluate_acc(pred, y_test_after)\n",
        "mlp_accuracy.append(acc1)\n",
        "print(f\"mlp accuracy: {acc1:.2f}\")"
      ],
      "metadata": {
        "colab": {
          "base_uri": "https://localhost:8080/"
        },
        "id": "9sCAkjzQl_Z2",
        "outputId": "49cfd269-b7f4-486d-dd55-913eec533a66"
      },
      "execution_count": null,
      "outputs": [
        {
          "output_type": "stream",
          "name": "stdout",
          "text": [
            "Epoch 1/20\n",
            "1/1 [==============================] - 6s 6s/step - loss: 1.1921e-07 - accuracy: 1.0000 - val_loss: 0.5145 - val_accuracy: 0.9220\n",
            "Epoch 2/20\n",
            "1/1 [==============================] - 6s 6s/step - loss: 1.1921e-07 - accuracy: 1.0000 - val_loss: 0.5145 - val_accuracy: 0.9219\n",
            "Epoch 3/20\n",
            "1/1 [==============================] - 6s 6s/step - loss: 1.1921e-07 - accuracy: 1.0000 - val_loss: 0.5146 - val_accuracy: 0.9219\n",
            "Epoch 4/20\n",
            "1/1 [==============================] - 6s 6s/step - loss: 1.1921e-07 - accuracy: 1.0000 - val_loss: 0.5146 - val_accuracy: 0.9217\n",
            "Epoch 5/20\n",
            "1/1 [==============================] - 6s 6s/step - loss: 1.1921e-07 - accuracy: 1.0000 - val_loss: 0.5147 - val_accuracy: 0.9217\n",
            "Epoch 6/20\n",
            "1/1 [==============================] - 6s 6s/step - loss: 1.1921e-07 - accuracy: 1.0000 - val_loss: 0.5147 - val_accuracy: 0.9218\n",
            "Epoch 7/20\n",
            "1/1 [==============================] - 6s 6s/step - loss: 1.1921e-07 - accuracy: 1.0000 - val_loss: 0.5147 - val_accuracy: 0.9218\n",
            "Epoch 8/20\n",
            "1/1 [==============================] - 6s 6s/step - loss: 1.1921e-07 - accuracy: 1.0000 - val_loss: 0.5148 - val_accuracy: 0.9217\n",
            "Epoch 9/20\n",
            "1/1 [==============================] - 6s 6s/step - loss: 1.1921e-07 - accuracy: 1.0000 - val_loss: 0.5148 - val_accuracy: 0.9216\n",
            "Epoch 10/20\n",
            "1/1 [==============================] - 6s 6s/step - loss: 1.1921e-07 - accuracy: 1.0000 - val_loss: 0.5148 - val_accuracy: 0.9216\n",
            "Epoch 11/20\n",
            "1/1 [==============================] - 6s 6s/step - loss: 1.1921e-07 - accuracy: 1.0000 - val_loss: 0.5149 - val_accuracy: 0.9216\n",
            "Epoch 12/20\n",
            "1/1 [==============================] - 10s 10s/step - loss: 1.1921e-07 - accuracy: 1.0000 - val_loss: 0.5149 - val_accuracy: 0.9216\n",
            "Epoch 13/20\n",
            "1/1 [==============================] - 12s 12s/step - loss: 1.1921e-07 - accuracy: 1.0000 - val_loss: 0.5149 - val_accuracy: 0.9216\n",
            "Epoch 14/20\n",
            "1/1 [==============================] - 8s 8s/step - loss: 1.1921e-07 - accuracy: 1.0000 - val_loss: 0.5149 - val_accuracy: 0.9216\n",
            "Epoch 15/20\n",
            "1/1 [==============================] - 9s 9s/step - loss: 1.1921e-07 - accuracy: 1.0000 - val_loss: 0.5150 - val_accuracy: 0.9216\n",
            "Epoch 16/20\n",
            "1/1 [==============================] - 9s 9s/step - loss: 1.1921e-07 - accuracy: 1.0000 - val_loss: 0.5150 - val_accuracy: 0.9216\n",
            "Epoch 17/20\n",
            "1/1 [==============================] - 8s 8s/step - loss: 1.1921e-07 - accuracy: 1.0000 - val_loss: 0.5150 - val_accuracy: 0.9216\n",
            "Epoch 18/20\n",
            "1/1 [==============================] - 7s 7s/step - loss: 1.1921e-07 - accuracy: 1.0000 - val_loss: 0.5150 - val_accuracy: 0.9215\n",
            "Epoch 19/20\n",
            "1/1 [==============================] - 8s 8s/step - loss: 1.1921e-07 - accuracy: 1.0000 - val_loss: 0.5150 - val_accuracy: 0.9215\n",
            "Epoch 20/20\n",
            "1/1 [==============================] - 6s 6s/step - loss: 1.1921e-07 - accuracy: 1.0000 - val_loss: 0.5150 - val_accuracy: 0.9215\n",
            "313/313 - 6s - loss: 0.5150 - accuracy: 0.9215 - 6s/epoch - 20ms/step\n",
            "cnn accuracy: 0.92\n",
            "cost after epoch 0: 2.302\n",
            "cost after epoch 1: 2.302\n",
            "cost after epoch 2: 2.302\n",
            "cost after epoch 3: 2.302\n",
            "cost after epoch 4: 2.302\n",
            "cost after epoch 5: 2.301\n",
            "cost after epoch 6: 2.301\n",
            "cost after epoch 7: 2.301\n",
            "cost after epoch 8: 2.301\n",
            "cost after epoch 9: 2.300\n",
            "cost after epoch 10: 2.300\n",
            "cost after epoch 11: 2.300\n",
            "cost after epoch 12: 2.300\n",
            "cost after epoch 13: 2.299\n",
            "cost after epoch 14: 2.299\n",
            "cost after epoch 15: 2.299\n",
            "cost after epoch 16: 2.299\n",
            "cost after epoch 17: 2.298\n",
            "cost after epoch 18: 2.298\n",
            "cost after epoch 19: 2.298\n",
            "mlp accuracy: 0.10\n",
            "Epoch 1/20\n",
            "1/1 [==============================] - 6s 6s/step - loss: 1.7762e-06 - accuracy: 1.0000 - val_loss: 0.5150 - val_accuracy: 0.9215\n",
            "Epoch 2/20\n",
            "1/1 [==============================] - 5s 5s/step - loss: 1.7762e-06 - accuracy: 1.0000 - val_loss: 0.5150 - val_accuracy: 0.9215\n",
            "Epoch 3/20\n",
            "1/1 [==============================] - 5s 5s/step - loss: 1.7762e-06 - accuracy: 1.0000 - val_loss: 0.5151 - val_accuracy: 0.9215\n",
            "Epoch 4/20\n",
            "1/1 [==============================] - 5s 5s/step - loss: 1.7762e-06 - accuracy: 1.0000 - val_loss: 0.5151 - val_accuracy: 0.9215\n",
            "Epoch 5/20\n",
            "1/1 [==============================] - 5s 5s/step - loss: 1.7643e-06 - accuracy: 1.0000 - val_loss: 0.5151 - val_accuracy: 0.9215\n",
            "Epoch 6/20\n",
            "1/1 [==============================] - 6s 6s/step - loss: 1.7524e-06 - accuracy: 1.0000 - val_loss: 0.5151 - val_accuracy: 0.9216\n",
            "Epoch 7/20\n",
            "1/1 [==============================] - 6s 6s/step - loss: 1.7524e-06 - accuracy: 1.0000 - val_loss: 0.5151 - val_accuracy: 0.9216\n",
            "Epoch 8/20\n",
            "1/1 [==============================] - 6s 6s/step - loss: 1.7524e-06 - accuracy: 1.0000 - val_loss: 0.5151 - val_accuracy: 0.9215\n",
            "Epoch 9/20\n",
            "1/1 [==============================] - 5s 5s/step - loss: 1.7404e-06 - accuracy: 1.0000 - val_loss: 0.5151 - val_accuracy: 0.9215\n",
            "Epoch 10/20\n",
            "1/1 [==============================] - 5s 5s/step - loss: 1.7166e-06 - accuracy: 1.0000 - val_loss: 0.5151 - val_accuracy: 0.9214\n",
            "Epoch 11/20\n",
            "1/1 [==============================] - 5s 5s/step - loss: 1.7166e-06 - accuracy: 1.0000 - val_loss: 0.5151 - val_accuracy: 0.9214\n",
            "Epoch 12/20\n",
            "1/1 [==============================] - 5s 5s/step - loss: 1.7047e-06 - accuracy: 1.0000 - val_loss: 0.5151 - val_accuracy: 0.9214\n",
            "Epoch 13/20\n",
            "1/1 [==============================] - 5s 5s/step - loss: 1.7047e-06 - accuracy: 1.0000 - val_loss: 0.5151 - val_accuracy: 0.9214\n",
            "Epoch 14/20\n",
            "1/1 [==============================] - 5s 5s/step - loss: 1.6928e-06 - accuracy: 1.0000 - val_loss: 0.5151 - val_accuracy: 0.9214\n",
            "Epoch 15/20\n",
            "1/1 [==============================] - 5s 5s/step - loss: 1.6808e-06 - accuracy: 1.0000 - val_loss: 0.5151 - val_accuracy: 0.9214\n",
            "Epoch 16/20\n",
            "1/1 [==============================] - 5s 5s/step - loss: 1.6808e-06 - accuracy: 1.0000 - val_loss: 0.5151 - val_accuracy: 0.9214\n",
            "Epoch 17/20\n",
            "1/1 [==============================] - 5s 5s/step - loss: 1.6808e-06 - accuracy: 1.0000 - val_loss: 0.5152 - val_accuracy: 0.9214\n",
            "Epoch 18/20\n",
            "1/1 [==============================] - 5s 5s/step - loss: 1.6570e-06 - accuracy: 1.0000 - val_loss: 0.5152 - val_accuracy: 0.9214\n",
            "Epoch 19/20\n",
            "1/1 [==============================] - 5s 5s/step - loss: 1.6570e-06 - accuracy: 1.0000 - val_loss: 0.5152 - val_accuracy: 0.9214\n",
            "Epoch 20/20\n",
            "1/1 [==============================] - 5s 5s/step - loss: 1.6570e-06 - accuracy: 1.0000 - val_loss: 0.5152 - val_accuracy: 0.9214\n",
            "313/313 - 7s - loss: 0.5152 - accuracy: 0.9214 - 7s/epoch - 21ms/step\n",
            "cnn accuracy: 0.92\n",
            "cost after epoch 0: 2.303\n",
            "cost after epoch 1: 2.302\n",
            "cost after epoch 2: 2.302\n",
            "cost after epoch 3: 2.302\n",
            "cost after epoch 4: 2.302\n",
            "cost after epoch 5: 2.301\n",
            "cost after epoch 6: 2.301\n",
            "cost after epoch 7: 2.301\n",
            "cost after epoch 8: 2.301\n",
            "cost after epoch 9: 2.300\n",
            "cost after epoch 10: 2.300\n",
            "cost after epoch 11: 2.300\n",
            "cost after epoch 12: 2.300\n",
            "cost after epoch 13: 2.299\n",
            "cost after epoch 14: 2.299\n",
            "cost after epoch 15: 2.299\n",
            "cost after epoch 16: 2.299\n",
            "cost after epoch 17: 2.298\n",
            "cost after epoch 18: 2.298\n",
            "cost after epoch 19: 2.298\n",
            "mlp accuracy: 0.10\n",
            "Epoch 1/20\n",
            "8/8 [==============================] - 8s 1s/step - loss: 1.8720e-04 - accuracy: 1.0000 - val_loss: 0.5153 - val_accuracy: 0.9214\n",
            "Epoch 2/20\n",
            "8/8 [==============================] - 8s 1s/step - loss: 1.6513e-04 - accuracy: 1.0000 - val_loss: 0.5143 - val_accuracy: 0.9216\n",
            "Epoch 3/20\n",
            "8/8 [==============================] - 8s 1s/step - loss: 1.4601e-04 - accuracy: 1.0000 - val_loss: 0.5144 - val_accuracy: 0.9219\n",
            "Epoch 4/20\n",
            "8/8 [==============================] - 8s 1s/step - loss: 1.3002e-04 - accuracy: 1.0000 - val_loss: 0.5152 - val_accuracy: 0.9216\n",
            "Epoch 5/20\n",
            "8/8 [==============================] - 8s 1s/step - loss: 1.1703e-04 - accuracy: 1.0000 - val_loss: 0.5160 - val_accuracy: 0.9212\n",
            "Epoch 6/20\n",
            "8/8 [==============================] - 8s 1s/step - loss: 1.0684e-04 - accuracy: 1.0000 - val_loss: 0.5166 - val_accuracy: 0.9211\n",
            "Epoch 7/20\n",
            "8/8 [==============================] - 8s 1s/step - loss: 9.9634e-05 - accuracy: 1.0000 - val_loss: 0.5170 - val_accuracy: 0.9210\n",
            "Epoch 8/20\n",
            "8/8 [==============================] - 8s 1s/step - loss: 9.4720e-05 - accuracy: 1.0000 - val_loss: 0.5175 - val_accuracy: 0.9211\n",
            "Epoch 9/20\n",
            "8/8 [==============================] - 8s 1s/step - loss: 8.8844e-05 - accuracy: 1.0000 - val_loss: 0.5179 - val_accuracy: 0.9213\n",
            "Epoch 10/20\n",
            "8/8 [==============================] - 8s 1s/step - loss: 8.4416e-05 - accuracy: 1.0000 - val_loss: 0.5183 - val_accuracy: 0.9212\n",
            "Epoch 11/20\n",
            "8/8 [==============================] - 8s 1s/step - loss: 8.1004e-05 - accuracy: 1.0000 - val_loss: 0.5189 - val_accuracy: 0.9212\n",
            "Epoch 12/20\n",
            "8/8 [==============================] - 8s 1s/step - loss: 7.6861e-05 - accuracy: 1.0000 - val_loss: 0.5194 - val_accuracy: 0.9212\n",
            "Epoch 13/20\n",
            "8/8 [==============================] - 8s 1s/step - loss: 7.3768e-05 - accuracy: 1.0000 - val_loss: 0.5197 - val_accuracy: 0.9213\n",
            "Epoch 14/20\n",
            "8/8 [==============================] - 8s 1s/step - loss: 7.1538e-05 - accuracy: 1.0000 - val_loss: 0.5202 - val_accuracy: 0.9213\n",
            "Epoch 15/20\n",
            "8/8 [==============================] - 8s 1s/step - loss: 6.8731e-05 - accuracy: 1.0000 - val_loss: 0.5207 - val_accuracy: 0.9212\n",
            "Epoch 16/20\n",
            "8/8 [==============================] - 8s 1s/step - loss: 6.6104e-05 - accuracy: 1.0000 - val_loss: 0.5213 - val_accuracy: 0.9209\n",
            "Epoch 17/20\n",
            "8/8 [==============================] - 8s 1s/step - loss: 6.4060e-05 - accuracy: 1.0000 - val_loss: 0.5217 - val_accuracy: 0.9210\n",
            "Epoch 18/20\n",
            "8/8 [==============================] - 8s 1s/step - loss: 6.1977e-05 - accuracy: 1.0000 - val_loss: 0.5222 - val_accuracy: 0.9208\n",
            "Epoch 19/20\n",
            "8/8 [==============================] - 8s 1s/step - loss: 6.0094e-05 - accuracy: 1.0000 - val_loss: 0.5226 - val_accuracy: 0.9207\n",
            "Epoch 20/20\n",
            "8/8 [==============================] - 8s 1s/step - loss: 5.8426e-05 - accuracy: 1.0000 - val_loss: 0.5230 - val_accuracy: 0.9206\n",
            "313/313 - 6s - loss: 0.5230 - accuracy: 0.9206 - 6s/epoch - 20ms/step\n",
            "cnn accuracy: 0.92\n",
            "cost after epoch 0: 2.303\n",
            "cost after epoch 1: 2.302\n",
            "cost after epoch 2: 2.302\n",
            "cost after epoch 3: 2.302\n",
            "cost after epoch 4: 2.302\n",
            "cost after epoch 5: 2.302\n",
            "cost after epoch 6: 2.302\n",
            "cost after epoch 7: 2.300\n",
            "cost after epoch 8: 2.287\n",
            "cost after epoch 9: 2.260\n",
            "cost after epoch 10: 2.217\n",
            "cost after epoch 11: 2.226\n",
            "cost after epoch 12: 2.169\n",
            "cost after epoch 13: 2.133\n",
            "cost after epoch 14: 2.182\n",
            "cost after epoch 15: 2.120\n",
            "cost after epoch 16: 2.112\n",
            "cost after epoch 17: 2.043\n",
            "cost after epoch 18: 2.037\n",
            "cost after epoch 19: 2.038\n",
            "mlp accuracy: 0.51\n",
            "Epoch 1/20\n",
            "79/79 [==============================] - 28s 354ms/step - loss: 2.7078e-04 - accuracy: 1.0000 - val_loss: 0.5233 - val_accuracy: 0.9212\n",
            "Epoch 2/20\n",
            "79/79 [==============================] - 28s 351ms/step - loss: 2.2648e-04 - accuracy: 1.0000 - val_loss: 0.5252 - val_accuracy: 0.9214\n",
            "Epoch 3/20\n",
            "79/79 [==============================] - 28s 353ms/step - loss: 2.0397e-04 - accuracy: 1.0000 - val_loss: 0.5306 - val_accuracy: 0.9220\n",
            "Epoch 4/20\n",
            "79/79 [==============================] - 28s 353ms/step - loss: 1.8913e-04 - accuracy: 1.0000 - val_loss: 0.5348 - val_accuracy: 0.9214\n",
            "Epoch 5/20\n",
            "79/79 [==============================] - 28s 355ms/step - loss: 1.7350e-04 - accuracy: 1.0000 - val_loss: 0.5373 - val_accuracy: 0.9222\n",
            "Epoch 6/20\n",
            "79/79 [==============================] - 28s 352ms/step - loss: 1.6119e-04 - accuracy: 1.0000 - val_loss: 0.5416 - val_accuracy: 0.9218\n",
            "Epoch 7/20\n",
            "79/79 [==============================] - 29s 369ms/step - loss: 1.4945e-04 - accuracy: 1.0000 - val_loss: 0.5440 - val_accuracy: 0.9222\n",
            "Epoch 8/20\n",
            "79/79 [==============================] - 30s 376ms/step - loss: 1.3859e-04 - accuracy: 1.0000 - val_loss: 0.5494 - val_accuracy: 0.9219\n",
            "Epoch 9/20\n",
            "79/79 [==============================] - 28s 353ms/step - loss: 1.3086e-04 - accuracy: 1.0000 - val_loss: 0.5520 - val_accuracy: 0.9222\n",
            "Epoch 10/20\n",
            "79/79 [==============================] - 28s 353ms/step - loss: 1.2353e-04 - accuracy: 1.0000 - val_loss: 0.5549 - val_accuracy: 0.9217\n",
            "Epoch 11/20\n",
            "79/79 [==============================] - 28s 355ms/step - loss: 1.1545e-04 - accuracy: 1.0000 - val_loss: 0.5580 - val_accuracy: 0.9212\n",
            "Epoch 12/20\n",
            "79/79 [==============================] - 28s 354ms/step - loss: 1.0792e-04 - accuracy: 1.0000 - val_loss: 0.5609 - val_accuracy: 0.9220\n",
            "Epoch 13/20\n",
            "79/79 [==============================] - 28s 354ms/step - loss: 1.0300e-04 - accuracy: 1.0000 - val_loss: 0.5648 - val_accuracy: 0.9219\n",
            "Epoch 14/20\n",
            "79/79 [==============================] - 28s 358ms/step - loss: 9.6338e-05 - accuracy: 1.0000 - val_loss: 0.5667 - val_accuracy: 0.9215\n",
            "Epoch 15/20\n",
            "79/79 [==============================] - 28s 353ms/step - loss: 9.1201e-05 - accuracy: 1.0000 - val_loss: 0.5696 - val_accuracy: 0.9217\n",
            "Epoch 16/20\n",
            "79/79 [==============================] - 28s 354ms/step - loss: 8.5636e-05 - accuracy: 1.0000 - val_loss: 0.5726 - val_accuracy: 0.9216\n",
            "Epoch 17/20\n",
            "79/79 [==============================] - 28s 356ms/step - loss: 8.1444e-05 - accuracy: 1.0000 - val_loss: 0.5755 - val_accuracy: 0.9218\n",
            "Epoch 18/20\n",
            "79/79 [==============================] - 28s 353ms/step - loss: 7.7299e-05 - accuracy: 1.0000 - val_loss: 0.5778 - val_accuracy: 0.9216\n",
            "Epoch 19/20\n",
            "79/79 [==============================] - 28s 352ms/step - loss: 7.3326e-05 - accuracy: 1.0000 - val_loss: 0.5820 - val_accuracy: 0.9219\n",
            "Epoch 20/20\n",
            "79/79 [==============================] - 28s 353ms/step - loss: 6.9583e-05 - accuracy: 1.0000 - val_loss: 0.5854 - val_accuracy: 0.9219\n",
            "313/313 - 6s - loss: 0.5854 - accuracy: 0.9219 - 6s/epoch - 20ms/step\n",
            "cnn accuracy: 0.92\n",
            "cost after epoch 0: 2.289\n",
            "cost after epoch 1: 2.168\n",
            "cost after epoch 2: 1.963\n",
            "cost after epoch 3: 1.856\n",
            "cost after epoch 4: 1.801\n",
            "cost after epoch 5: 1.759\n",
            "cost after epoch 6: 1.731\n",
            "cost after epoch 7: 1.713\n",
            "cost after epoch 8: 1.696\n",
            "cost after epoch 9: 1.682\n",
            "cost after epoch 10: 1.674\n",
            "cost after epoch 11: 1.667\n",
            "cost after epoch 12: 1.662\n",
            "cost after epoch 13: 1.655\n",
            "cost after epoch 14: 1.648\n",
            "cost after epoch 15: 1.643\n",
            "cost after epoch 16: 1.640\n",
            "cost after epoch 17: 1.635\n",
            "cost after epoch 18: 1.642\n",
            "cost after epoch 19: 1.629\n",
            "mlp accuracy: 0.81\n",
            "Epoch 1/20\n",
            "469/469 [==============================] - 142s 303ms/step - loss: 0.1019 - accuracy: 0.9618 - val_loss: 0.3370 - val_accuracy: 0.9131\n",
            "Epoch 2/20\n",
            "469/469 [==============================] - 143s 305ms/step - loss: 0.0382 - accuracy: 0.9860 - val_loss: 0.4277 - val_accuracy: 0.9163\n",
            "Epoch 3/20\n",
            "469/469 [==============================] - 143s 305ms/step - loss: 0.0269 - accuracy: 0.9901 - val_loss: 0.4704 - val_accuracy: 0.9191\n",
            "Epoch 4/20\n",
            "469/469 [==============================] - 142s 304ms/step - loss: 0.0216 - accuracy: 0.9926 - val_loss: 0.4712 - val_accuracy: 0.9190\n",
            "Epoch 5/20\n",
            "469/469 [==============================] - 143s 304ms/step - loss: 0.0219 - accuracy: 0.9920 - val_loss: 0.4682 - val_accuracy: 0.9194\n",
            "Epoch 6/20\n",
            "469/469 [==============================] - 143s 304ms/step - loss: 0.0214 - accuracy: 0.9923 - val_loss: 0.4771 - val_accuracy: 0.9161\n",
            "Epoch 7/20\n",
            "469/469 [==============================] - 143s 306ms/step - loss: 0.0220 - accuracy: 0.9922 - val_loss: 0.4670 - val_accuracy: 0.9186\n",
            "Epoch 8/20\n",
            "469/469 [==============================] - 144s 307ms/step - loss: 0.0118 - accuracy: 0.9961 - val_loss: 0.5190 - val_accuracy: 0.9175\n",
            "Epoch 9/20\n",
            "469/469 [==============================] - 143s 305ms/step - loss: 0.0181 - accuracy: 0.9932 - val_loss: 0.4770 - val_accuracy: 0.9191\n",
            "Epoch 10/20\n",
            "469/469 [==============================] - 143s 304ms/step - loss: 0.0159 - accuracy: 0.9944 - val_loss: 0.5299 - val_accuracy: 0.9177\n",
            "Epoch 11/20\n",
            "469/469 [==============================] - 142s 303ms/step - loss: 0.0134 - accuracy: 0.9952 - val_loss: 0.5508 - val_accuracy: 0.9180\n",
            "Epoch 12/20\n",
            "469/469 [==============================] - 142s 304ms/step - loss: 0.0157 - accuracy: 0.9944 - val_loss: 0.5181 - val_accuracy: 0.9152\n",
            "Epoch 13/20\n",
            "469/469 [==============================] - 145s 309ms/step - loss: 0.0156 - accuracy: 0.9945 - val_loss: 0.5885 - val_accuracy: 0.9159\n",
            "Epoch 14/20\n",
            "469/469 [==============================] - 146s 311ms/step - loss: 0.0104 - accuracy: 0.9962 - val_loss: 0.6134 - val_accuracy: 0.9143\n",
            "Epoch 15/20\n",
            "469/469 [==============================] - 145s 309ms/step - loss: 0.0176 - accuracy: 0.9938 - val_loss: 0.5720 - val_accuracy: 0.9207\n",
            "Epoch 16/20\n",
            "469/469 [==============================] - 150s 319ms/step - loss: 0.0099 - accuracy: 0.9964 - val_loss: 0.5917 - val_accuracy: 0.9170\n",
            "Epoch 17/20\n",
            "469/469 [==============================] - 146s 312ms/step - loss: 0.0140 - accuracy: 0.9951 - val_loss: 0.5629 - val_accuracy: 0.9184\n",
            "Epoch 18/20\n",
            "469/469 [==============================] - 146s 312ms/step - loss: 0.0131 - accuracy: 0.9954 - val_loss: 0.6564 - val_accuracy: 0.9170\n",
            "Epoch 19/20\n",
            "469/469 [==============================] - 144s 306ms/step - loss: 0.0134 - accuracy: 0.9954 - val_loss: 0.5920 - val_accuracy: 0.9166\n",
            "Epoch 20/20\n",
            "469/469 [==============================] - 144s 306ms/step - loss: 0.0141 - accuracy: 0.9952 - val_loss: 0.6133 - val_accuracy: 0.9191\n",
            "313/313 - 6s - loss: 0.6133 - accuracy: 0.9191 - 6s/epoch - 20ms/step\n",
            "cnn accuracy: 0.92\n",
            "cost after epoch 0: 1.971\n",
            "cost after epoch 1: 1.713\n",
            "cost after epoch 2: 1.670\n",
            "cost after epoch 3: 1.651\n",
            "cost after epoch 4: 1.639\n",
            "cost after epoch 5: 1.630\n",
            "cost after epoch 6: 1.623\n",
            "cost after epoch 7: 1.617\n",
            "cost after epoch 8: 1.611\n",
            "cost after epoch 9: 1.606\n",
            "cost after epoch 10: 1.602\n",
            "cost after epoch 11: 1.598\n",
            "cost after epoch 12: 1.594\n",
            "cost after epoch 13: 1.591\n",
            "cost after epoch 14: 1.588\n",
            "cost after epoch 15: 1.586\n",
            "cost after epoch 16: 1.582\n",
            "cost after epoch 17: 1.580\n",
            "cost after epoch 18: 1.578\n",
            "cost after epoch 19: 1.578\n",
            "mlp accuracy: 0.88\n"
          ]
        }
      ]
    },
    {
      "cell_type": "code",
      "source": [
        "x = [1, 10, 1000, 10000, 60000]\n",
        "plt.plot(x, cnn_accuracy, label='cnn_accuracy')\n",
        "plt.plot(x, mlp_accuracy, label = 'mlp_accuracy')\n",
        "plt.xlabel('Number of training data')\n",
        "plt.ylabel('Accuracy')\n",
        "plt.ylim([0.5, 1])\n",
        "plt.show()"
      ],
      "metadata": {
        "colab": {
          "base_uri": "https://localhost:8080/",
          "height": 283
        },
        "id": "bOMcZiplBnBZ",
        "outputId": "2a7b3f85-bb86-48f1-bcf9-cb741609e376"
      },
      "execution_count": null,
      "outputs": [
        {
          "output_type": "display_data",
          "data": {
            "text/plain": [
              "<Figure size 432x288 with 1 Axes>"
            ],
            "image/png": "[encoded data removed]"
          },
          "metadata": {
            "needs_background": "light"
          }
        }
      ]
    }
  ]
}