{
  "nbformat": 4,
  "nbformat_minor": 0,
  "metadata": {
    "colab": {
      "name": "LFM360_data.ipynb",
      "provenance": [],
      "machine_shape": "hm",
      "collapsed_sections": [],
      "authorship_tag": "ABX9TyNgCdJemc0soKwN4lnL1Bqk",
      "include_colab_link": true
    },
    "kernelspec": {
      "name": "python3",
      "display_name": "Python 3"
    },
    "language_info": {
      "name": "python"
    }
  },
  "cells": [
    {
      "cell_type": "markdown",
      "metadata": {
        "id": "view-in-github",
        "colab_type": "text"
      },
      "source": [
        "<a href=\"https://colab.research.google.com/github/evelyn023/COMP551-Machine-Learning/blob/main/LFM360_data.ipynb\" target=\"_parent\"><img src=\"https://colab.research.google.com/assets/colab-badge.svg\" alt=\"Open In Colab\"/></a>"
      ]
    },
    {
      "cell_type": "code",
      "execution_count": null,
      "metadata": {
        "colab": {
          "base_uri": "https://localhost:8080/"
        },
        "id": "v56BSGP92aLz",
        "outputId": "8e59455b-d01d-436c-c8ed-27e87e5ec6ee"
      },
      "outputs": [
        {
          "output_type": "stream",
          "name": "stdout",
          "text": [
            "Mounted at /content/drive\n"
          ]
        }
      ],
      "source": [
        "import pandas as pd\n",
        "import numpy as np\n",
        "import matplotlib.pyplot as plt\n",
        "import random\n",
        "from google.colab import drive\n",
        "drive.mount('/content/drive')\n"
      ]
    },
    {
      "cell_type": "markdown",
      "source": [
        "# data cleaning"
      ],
      "metadata": {
        "id": "bBRLhjgSKfnF"
      }
    },
    {
      "cell_type": "code",
      "execution_count": null,
      "metadata": {
        "id": "3ad5YLWUcNoD"
      },
      "outputs": [],
      "source": [
        "inter_file = '/content/drive/MyDrive/datasets/lfm360k/LastFM360k-Le75.txt'\n",
        "item_file = '/content/drive/MyDrive/datasets/lfm360k/LastFM360k-MB-artists.txt'\n",
        "user_file = '/content/drive/MyDrive/datasets/lfm360k/usersha1-profile.tsv'\n",
        "\n",
        "item_data0 = pd.read_csv(item_file, delimiter='\\t', header=None, engine='python')\n",
        "inter_data0 = pd.read_csv(inter_file, delimiter=',', header=[0], engine='python')\n",
        "user_data0 = pd.read_csv(user_file, delimiter='\\t', header=None, engine='python')"
      ]
    },
    {
      "cell_type": "code",
      "source": [
        "item_data = item_data0.copy()\n",
        "inter_data = inter_data0.copy()\n",
        "user_data = user_data0.copy()\n",
        "\n",
        "user_data.columns = ['id','gender','age','country','signup']\n",
        "user_data.id = user_data.index\n",
        "item_data = item_data.drop([3],axis=1)\n",
        "item_data.columns = ['id','name','score']"
      ],
      "metadata": {
        "id": "VJSUJvPxFDuo"
      },
      "execution_count": null,
      "outputs": []
    },
    {
      "cell_type": "code",
      "source": [
        "# user\n",
        "userid_inter = np.unique(inter_data.userid.to_numpy())\n",
        "user_data = user_data.loc[user_data.id.isin(userid_inter)]\n",
        "\n",
        "signup = user_data.signup.str.split(pat=' |,').to_numpy()\n",
        "signup2 = []\n",
        "\n",
        "for i in range(signup.shape[0]):\n",
        "  s = signup[i]\n",
        "  if s[0] == 'Jan':\n",
        "    ss = s[3]+'01'+s[1]\n",
        "  elif s[0] == 'Feb':\n",
        "    ss = s[3]+'02'+s[1]\n",
        "  elif s[0] == 'Mar':\n",
        "    ss = s[3]+'03'+s[1]\n",
        "  elif s[0] == 'Apr':\n",
        "    ss = s[3]+'04'+s[1]\n",
        "  elif s[0] == 'May':\n",
        "    ss = s[3]+'05'+s[1]\n",
        "  elif s[0] == 'Jun':\n",
        "    ss = s[3]+'06'+s[1]\n",
        "  elif s[0] == 'Jul':\n",
        "    ss = s[3]+'07'+s[1]\n",
        "  elif s[0] == 'Aug':\n",
        "    ss = s[3]+'08'+s[1]\n",
        "  elif s[0] == 'Sep':\n",
        "    ss = s[3]+'09'+s[1]\n",
        "  elif s[0] == 'Oct':\n",
        "    ss = s[3]+'10'+s[1]\n",
        "  elif s[0] == 'Nov':\n",
        "    ss = s[3]+'11'+s[1]\n",
        "  else:\n",
        "    ss = s[3]+'12'+s[1]\n",
        "  if len(ss) != 8:\n",
        "    ss = ss[:6]+'0'+ss[-1]\n",
        "  signup2.append(ss)\n",
        "user_data.signup = signup2\n",
        "\n",
        "# user_data.loc[user_data.gender.isin(['f']),'gender'] = 0\n",
        "# user_data.loc[user_data.gender.isin(['m']),'gender'] = 1\n",
        "user_data.head(5)"
      ],
      "metadata": {
        "colab": {
          "base_uri": "https://localhost:8080/",
          "height": 206
        },
        "id": "DfeO9OCG8t32",
        "outputId": "abe44386-1eb8-4896-81c0-6bb9354e09f9"
      },
      "execution_count": null,
      "outputs": [
        {
          "output_type": "execute_result",
          "data": {
            "text/plain": [
              "    id gender   age    country    signup\n",
              "0    0      f  22.0    Germany  20070201\n",
              "9    9      m   NaN    Ukraine  20080817\n",
              "10  10      m  27.0     Sweden  20070105\n",
              "12  12    NaN   NaN      Japan  20081013\n",
              "14  14      f   NaN  Australia  20080726"
            ],
            "text/html": [
              "\n",
              "  <div id=\"df-6e53c5d7-a750-465d-999c-23612216e409\">\n",
              "    <div class=\"colab-df-container\">\n",
              "      <div>\n",
              "<style scoped>\n",
              "    .dataframe tbody tr th:only-of-type {\n",
              "        vertical-align: middle;\n",
              "    }\n",
              "\n",
              "    .dataframe tbody tr th {\n",
              "        vertical-align: top;\n",
              "    }\n",
              "\n",
              "    .dataframe thead th {\n",
              "        text-align: right;\n",
              "    }\n",
              "</style>\n",
              "<table border=\"1\" class=\"dataframe\">\n",
              "  <thead>\n",
              "    <tr style=\"text-align: right;\">\n",
              "      <th></th>\n",
              "      <th>id</th>\n",
              "      <th>gender</th>\n",
              "      <th>age</th>\n",
              "      <th>country</th>\n",
              "      <th>signup</th>\n",
              "    </tr>\n",
              "  </thead>\n",
              "  <tbody>\n",
              "    <tr>\n",
              "      <th>0</th>\n",
              "      <td>0</td>\n",
              "      <td>f</td>\n",
              "      <td>22.0</td>\n",
              "      <td>Germany</td>\n",
              "      <td>20070201</td>\n",
              "    </tr>\n",
              "    <tr>\n",
              "      <th>9</th>\n",
              "      <td>9</td>\n",
              "      <td>m</td>\n",
              "      <td>NaN</td>\n",
              "      <td>Ukraine</td>\n",
              "      <td>20080817</td>\n",
              "    </tr>\n",
              "    <tr>\n",
              "      <th>10</th>\n",
              "      <td>10</td>\n",
              "      <td>m</td>\n",
              "      <td>27.0</td>\n",
              "      <td>Sweden</td>\n",
              "      <td>20070105</td>\n",
              "    </tr>\n",
              "    <tr>\n",
              "      <th>12</th>\n",
              "      <td>12</td>\n",
              "      <td>NaN</td>\n",
              "      <td>NaN</td>\n",
              "      <td>Japan</td>\n",
              "      <td>20081013</td>\n",
              "    </tr>\n",
              "    <tr>\n",
              "      <th>14</th>\n",
              "      <td>14</td>\n",
              "      <td>f</td>\n",
              "      <td>NaN</td>\n",
              "      <td>Australia</td>\n",
              "      <td>20080726</td>\n",
              "    </tr>\n",
              "  </tbody>\n",
              "</table>\n",
              "</div>\n",
              "      <button class=\"colab-df-convert\" onclick=\"convertToInteractive('df-6e53c5d7-a750-465d-999c-23612216e409')\"\n",
              "              title=\"Convert this dataframe to an interactive table.\"\n",
              "              style=\"display:none;\">\n",
              "        \n",
              "  <svg xmlns=\"http://www.w3.org/2000/svg\" height=\"24px\"viewBox=\"0 0 24 24\"\n",
              "       width=\"24px\">\n",
              "    <path d=\"M0 0h24v24H0V0z\" fill=\"none\"/>\n",
              "    <path d=\"M18.56 5.44l.94 2.06.94-2.06 2.06-.94-2.06-.94-.94-2.06-.94 2.06-2.06.94zm-11 1L8.5 8.5l.94-2.06 2.06-.94-2.06-.94L8.5 2.5l-.94 2.06-2.06.94zm10 10l.94 2.06.94-2.06 2.06-.94-2.06-.94-.94-2.06-.94 2.06-2.06.94z\"/><path d=\"M17.41 7.96l-1.37-1.37c-.4-.4-.92-.59-1.43-.59-.52 0-1.04.2-1.43.59L10.3 9.45l-7.72 7.72c-.78.78-.78 2.05 0 2.83L4 21.41c.39.39.9.59 1.41.59.51 0 1.02-.2 1.41-.59l7.78-7.78 2.81-2.81c.8-.78.8-2.07 0-2.86zM5.41 20L4 18.59l7.72-7.72 1.47 1.35L5.41 20z\"/>\n",
              "  </svg>\n",
              "      </button>\n",
              "      \n",
              "  <style>\n",
              "    .colab-df-container {\n",
              "      display:flex;\n",
              "      flex-wrap:wrap;\n",
              "      gap: 12px;\n",
              "    }\n",
              "\n",
              "    .colab-df-convert {\n",
              "      background-color: #E8F0FE;\n",
              "      border: none;\n",
              "      border-radius: 50%;\n",
              "      cursor: pointer;\n",
              "      display: none;\n",
              "      fill: #1967D2;\n",
              "      height: 32px;\n",
              "      padding: 0 0 0 0;\n",
              "      width: 32px;\n",
              "    }\n",
              "\n",
              "    .colab-df-convert:hover {\n",
              "      background-color: #E2EBFA;\n",
              "      box-shadow: 0px 1px 2px rgba(60, 64, 67, 0.3), 0px 1px 3px 1px rgba(60, 64, 67, 0.15);\n",
              "      fill: #174EA6;\n",
              "    }\n",
              "\n",
              "    [theme=dark] .colab-df-convert {\n",
              "      background-color: #3B4455;\n",
              "      fill: #D2E3FC;\n",
              "    }\n",
              "\n",
              "    [theme=dark] .colab-df-convert:hover {\n",
              "      background-color: #434B5C;\n",
              "      box-shadow: 0px 1px 3px 1px rgba(0, 0, 0, 0.15);\n",
              "      filter: drop-shadow(0px 1px 2px rgba(0, 0, 0, 0.3));\n",
              "      fill: #FFFFFF;\n",
              "    }\n",
              "  </style>\n",
              "\n",
              "      <script>\n",
              "        const buttonEl =\n",
              "          document.querySelector('#df-6e53c5d7-a750-465d-999c-23612216e409 button.colab-df-convert');\n",
              "        buttonEl.style.display =\n",
              "          google.colab.kernel.accessAllowed ? 'block' : 'none';\n",
              "\n",
              "        async function convertToInteractive(key) {\n",
              "          const element = document.querySelector('#df-6e53c5d7-a750-465d-999c-23612216e409');\n",
              "          const dataTable =\n",
              "            await google.colab.kernel.invokeFunction('convertToInteractive',\n",
              "                                                     [key], {});\n",
              "          if (!dataTable) return;\n",
              "\n",
              "          const docLinkHtml = 'Like what you see? Visit the ' +\n",
              "            '<a target=\"_blank\" href=https://colab.research.google.com/notebooks/data_table.ipynb>data table notebook</a>'\n",
              "            + ' to learn more about interactive tables.';\n",
              "          element.innerHTML = '';\n",
              "          dataTable['output_type'] = 'display_data';\n",
              "          await google.colab.output.renderOutput(dataTable, element);\n",
              "          const docLink = document.createElement('div');\n",
              "          docLink.innerHTML = docLinkHtml;\n",
              "          element.appendChild(docLink);\n",
              "        }\n",
              "      </script>\n",
              "    </div>\n",
              "  </div>\n",
              "  "
            ]
          },
          "metadata": {},
          "execution_count": 5
        }
      ]
    },
    {
      "cell_type": "code",
      "source": [
        "# item\n",
        "artistid_inter = np.unique(inter_data.artistid.to_numpy())\n",
        "item_data.score = item_data.score.str.split(pat='/')\n",
        "item_data = item_data.sort_values(by=['id'], ignore_index=True)\n",
        "item_data = item_data.loc[item_data.id.isin(artistid_inter)]\n",
        "\n",
        "# total playcounts for each artist\n",
        "artist_playcount = np.bincount(inter_data.artistid, weights=inter_data.playcount)\n",
        "item_data['totalplays'] = np.zeros(item_data.shape[0])\n",
        "for i in range(artist_playcount.shape[0]):\n",
        "  p = artist_playcount[i]\n",
        "  if p != 0:\n",
        "    item_data.loc[item_data['id']==i, 'totalplays'] = p\n",
        "\n",
        "score = item_data.score.to_numpy()\n",
        "score_array = []\n",
        "for s in score:\n",
        "  g = np.argmax(s)\n",
        "  if s[1] == s[2] or g==0 or g == 3 or g == 4:\n",
        "    gender = 2\n",
        "  elif g == 1:\n",
        "    gender = 0\n",
        "  elif g == 2:\n",
        "    gender = 1\n",
        "  score_array.append(gender)\n",
        "\n",
        "# 0-male, 1-female, 2-unknown\n",
        "item_data = item_data.drop(['score'],axis=1)\n",
        "item_data['gender'] = score_array\n",
        "\n",
        "item_data.head(5)"
      ],
      "metadata": {
        "colab": {
          "base_uri": "https://localhost:8080/",
          "height": 206
        },
        "id": "pgCVjKpPJTRM",
        "outputId": "b9cfe9ff-5116-40df-fd25-f53cc7005d68"
      },
      "execution_count": null,
      "outputs": [
        {
          "output_type": "execute_result",
          "data": {
            "text/plain": [
              "   id                  name  totalplays  gender\n",
              "0   0       betty blowtorch     11382.0       1\n",
              "1   1             die Ärzte   1099058.0       0\n",
              "2   2     melissa etheridge      8713.0       1\n",
              "3   3             elvenking    277451.0       2\n",
              "4   4  juliette & the licks     21033.0       2"
            ],
            "text/html": [
              "\n",
              "  <div id=\"df-c63ff7a7-d9ba-4481-a41b-4c53e81627b4\">\n",
              "    <div class=\"colab-df-container\">\n",
              "      <div>\n",
              "<style scoped>\n",
              "    .dataframe tbody tr th:only-of-type {\n",
              "        vertical-align: middle;\n",
              "    }\n",
              "\n",
              "    .dataframe tbody tr th {\n",
              "        vertical-align: top;\n",
              "    }\n",
              "\n",
              "    .dataframe thead th {\n",
              "        text-align: right;\n",
              "    }\n",
              "</style>\n",
              "<table border=\"1\" class=\"dataframe\">\n",
              "  <thead>\n",
              "    <tr style=\"text-align: right;\">\n",
              "      <th></th>\n",
              "      <th>id</th>\n",
              "      <th>name</th>\n",
              "      <th>totalplays</th>\n",
              "      <th>gender</th>\n",
              "    </tr>\n",
              "  </thead>\n",
              "  <tbody>\n",
              "    <tr>\n",
              "      <th>0</th>\n",
              "      <td>0</td>\n",
              "      <td>betty blowtorch</td>\n",
              "      <td>11382.0</td>\n",
              "      <td>1</td>\n",
              "    </tr>\n",
              "    <tr>\n",
              "      <th>1</th>\n",
              "      <td>1</td>\n",
              "      <td>die Ärzte</td>\n",
              "      <td>1099058.0</td>\n",
              "      <td>0</td>\n",
              "    </tr>\n",
              "    <tr>\n",
              "      <th>2</th>\n",
              "      <td>2</td>\n",
              "      <td>melissa etheridge</td>\n",
              "      <td>8713.0</td>\n",
              "      <td>1</td>\n",
              "    </tr>\n",
              "    <tr>\n",
              "      <th>3</th>\n",
              "      <td>3</td>\n",
              "      <td>elvenking</td>\n",
              "      <td>277451.0</td>\n",
              "      <td>2</td>\n",
              "    </tr>\n",
              "    <tr>\n",
              "      <th>4</th>\n",
              "      <td>4</td>\n",
              "      <td>juliette &amp; the licks</td>\n",
              "      <td>21033.0</td>\n",
              "      <td>2</td>\n",
              "    </tr>\n",
              "  </tbody>\n",
              "</table>\n",
              "</div>\n",
              "      <button class=\"colab-df-convert\" onclick=\"convertToInteractive('df-c63ff7a7-d9ba-4481-a41b-4c53e81627b4')\"\n",
              "              title=\"Convert this dataframe to an interactive table.\"\n",
              "              style=\"display:none;\">\n",
              "        \n",
              "  <svg xmlns=\"http://www.w3.org/2000/svg\" height=\"24px\"viewBox=\"0 0 24 24\"\n",
              "       width=\"24px\">\n",
              "    <path d=\"M0 0h24v24H0V0z\" fill=\"none\"/>\n",
              "    <path d=\"M18.56 5.44l.94 2.06.94-2.06 2.06-.94-2.06-.94-.94-2.06-.94 2.06-2.06.94zm-11 1L8.5 8.5l.94-2.06 2.06-.94-2.06-.94L8.5 2.5l-.94 2.06-2.06.94zm10 10l.94 2.06.94-2.06 2.06-.94-2.06-.94-.94-2.06-.94 2.06-2.06.94z\"/><path d=\"M17.41 7.96l-1.37-1.37c-.4-.4-.92-.59-1.43-.59-.52 0-1.04.2-1.43.59L10.3 9.45l-7.72 7.72c-.78.78-.78 2.05 0 2.83L4 21.41c.39.39.9.59 1.41.59.51 0 1.02-.2 1.41-.59l7.78-7.78 2.81-2.81c.8-.78.8-2.07 0-2.86zM5.41 20L4 18.59l7.72-7.72 1.47 1.35L5.41 20z\"/>\n",
              "  </svg>\n",
              "      </button>\n",
              "      \n",
              "  <style>\n",
              "    .colab-df-container {\n",
              "      display:flex;\n",
              "      flex-wrap:wrap;\n",
              "      gap: 12px;\n",
              "    }\n",
              "\n",
              "    .colab-df-convert {\n",
              "      background-color: #E8F0FE;\n",
              "      border: none;\n",
              "      border-radius: 50%;\n",
              "      cursor: pointer;\n",
              "      display: none;\n",
              "      fill: #1967D2;\n",
              "      height: 32px;\n",
              "      padding: 0 0 0 0;\n",
              "      width: 32px;\n",
              "    }\n",
              "\n",
              "    .colab-df-convert:hover {\n",
              "      background-color: #E2EBFA;\n",
              "      box-shadow: 0px 1px 2px rgba(60, 64, 67, 0.3), 0px 1px 3px 1px rgba(60, 64, 67, 0.15);\n",
              "      fill: #174EA6;\n",
              "    }\n",
              "\n",
              "    [theme=dark] .colab-df-convert {\n",
              "      background-color: #3B4455;\n",
              "      fill: #D2E3FC;\n",
              "    }\n",
              "\n",
              "    [theme=dark] .colab-df-convert:hover {\n",
              "      background-color: #434B5C;\n",
              "      box-shadow: 0px 1px 3px 1px rgba(0, 0, 0, 0.15);\n",
              "      filter: drop-shadow(0px 1px 2px rgba(0, 0, 0, 0.3));\n",
              "      fill: #FFFFFF;\n",
              "    }\n",
              "  </style>\n",
              "\n",
              "      <script>\n",
              "        const buttonEl =\n",
              "          document.querySelector('#df-c63ff7a7-d9ba-4481-a41b-4c53e81627b4 button.colab-df-convert');\n",
              "        buttonEl.style.display =\n",
              "          google.colab.kernel.accessAllowed ? 'block' : 'none';\n",
              "\n",
              "        async function convertToInteractive(key) {\n",
              "          const element = document.querySelector('#df-c63ff7a7-d9ba-4481-a41b-4c53e81627b4');\n",
              "          const dataTable =\n",
              "            await google.colab.kernel.invokeFunction('convertToInteractive',\n",
              "                                                     [key], {});\n",
              "          if (!dataTable) return;\n",
              "\n",
              "          const docLinkHtml = 'Like what you see? Visit the ' +\n",
              "            '<a target=\"_blank\" href=https://colab.research.google.com/notebooks/data_table.ipynb>data table notebook</a>'\n",
              "            + ' to learn more about interactive tables.';\n",
              "          element.innerHTML = '';\n",
              "          dataTable['output_type'] = 'display_data';\n",
              "          await google.colab.output.renderOutput(dataTable, element);\n",
              "          const docLink = document.createElement('div');\n",
              "          docLink.innerHTML = docLinkHtml;\n",
              "          element.appendChild(docLink);\n",
              "        }\n",
              "      </script>\n",
              "    </div>\n",
              "  </div>\n",
              "  "
            ]
          },
          "metadata": {},
          "execution_count": 6
        }
      ]
    },
    {
      "cell_type": "code",
      "source": [
        "count = np.bincount(np.array(item_data['gender']))\n",
        "\n",
        "print('number of users', userid_inter.shape)\n",
        "print('number of artists', artistid_inter.shape)\n",
        "print('number of interactions', inter_data.shape)\n",
        "print('gender count:', count)"
      ],
      "metadata": {
        "id": "x-MZbPTqAQc3",
        "colab": {
          "base_uri": "https://localhost:8080/"
        },
        "outputId": "e1929e67-9b7f-4036-e974-6c638db3f7b2"
      },
      "execution_count": null,
      "outputs": [
        {
          "output_type": "stream",
          "name": "stdout",
          "text": [
            "number of users (137157,)\n",
            "number of artists (201096,)\n",
            "number of interactions (6541600, 3)\n",
            "gender count: [ 50087  10594 140415]\n"
          ]
        }
      ]
    },
    {
      "cell_type": "markdown",
      "source": [
        "# sampling"
      ],
      "metadata": {
        "id": "uBr0H5iS0naI"
      }
    },
    {
      "cell_type": "code",
      "source": [
        "inter_file = '/content/drive/MyDrive/datasets/lfm360k/lfm360k.inter'\n",
        "item_file = '/content/drive/MyDrive/datasets/lfm360k/lfm360k.item'\n",
        "user_file = '/content/drive/MyDrive/datasets/lfm360k/lfm360k.user'\n",
        "\n",
        "inter_data = pd.read_csv(inter_file, delimiter='\\t', header=[0], engine='python')\n",
        "inter_data.columns = ['userid','artistid','play']\n",
        "item_data = pd.read_csv(item_file, delimiter='\\t', header=[0], engine='python')\n",
        "item_data.columns = ['id','name','totalplays','gender']\n",
        "user_data = pd.read_csv(user_file, delimiter='\\t', header=[0], engine='python')\n",
        "user_data.columns = ['id','gender','age','country','signup']"
      ],
      "metadata": {
        "id": "D4ZhIVpRHebE"
      },
      "execution_count": null,
      "outputs": []
    },
    {
      "cell_type": "code",
      "source": [
        "item_gender = item_data.loc[item_data['gender'].isin([1,0])]\n",
        "print(item_gender.shape)\n",
        "inter_gender = inter_data.loc[inter_data.artistid.isin(item_gender.id.to_numpy())]\n",
        "print(inter_gender.shape)"
      ],
      "metadata": {
        "colab": {
          "base_uri": "https://localhost:8080/"
        },
        "id": "HCXllaBr3A9c",
        "outputId": "0a887483-6b23-4e5b-b706-fb72508b0943"
      },
      "execution_count": null,
      "outputs": [
        {
          "output_type": "stream",
          "name": "stdout",
          "text": [
            "(34034, 4)\n",
            "(587463, 3)\n"
          ]
        }
      ]
    },
    {
      "cell_type": "code",
      "source": [
        "import math\n",
        "np.random.seed(1234)\n",
        "\n",
        "# ratio is male/female\n",
        "def control_gender_ratio(ratio, male, female):\n",
        "  num_female = female.shape[0]\n",
        "  num_male = male.shape[0]\n",
        "\n",
        "  if math.ceil(num_female*ratio) > num_male:\n",
        "    num_female = math.ceil(num_male/ratio)\n",
        "  else: \n",
        "    num_male = math.ceil(num_female*ratio)\n",
        "\n",
        "  # sample\n",
        "  sample_male_id = np.random.choice(male.id.to_numpy(), num_male, replace=False)\n",
        "  sample_female_id = np.random.choice(female.id.to_numpy(), num_female, replace=False)\n",
        "\n",
        "\n",
        "  return sample_male_id, sample_female_id\n",
        "\n",
        "\n",
        "def sample(inter, item, user, num):\n",
        "  u = np.unique(inter.userid.to_numpy())\n",
        "  userid_sample = np.random.choice(u, num, replace=False)\n",
        "  user_sample = user.loc[user.id.isin(userid_sample)]\n",
        "  inter_sample = inter.loc[inter.userid.isin(userid_sample)]\n",
        "  artistid = np.unique(inter_sample.artistid.to_numpy())\n",
        "  item_sample = item.loc[item.id.isin(artistid)]\n",
        "  #count = np.bincount(np.array(item_sample['gender']))\n",
        "  \n",
        "  print('users in sample', userid_sample.shape)\n",
        "  print('item in sample:', item_sample.shape)\n",
        "  print('interactions in sample', inter_sample.shape)\n",
        "\n",
        "  return inter_sample, item_sample, user_sample\n",
        "\n",
        "\n",
        "# get male and female artists data seperately\n",
        "# male = item_data.loc[item_data.gender==0]\n",
        "# female = item_data.loc[item_data.gender==1]\n",
        "# nogender = item_data.loc[item_data.gender==2]"
      ],
      "metadata": {
        "id": "N8H4AxSGgsie"
      },
      "execution_count": null,
      "outputs": []
    },
    {
      "cell_type": "code",
      "source": [
        "inter_sample, item_sample, user_sample = sample(inter_data, item_data, user_data, 20000)"
      ],
      "metadata": {
        "colab": {
          "base_uri": "https://localhost:8080/"
        },
        "id": "G8tzVvtRpmcX",
        "outputId": "70d8cded-f129-46c7-ce64-106127be3f58"
      },
      "execution_count": null,
      "outputs": [
        {
          "output_type": "stream",
          "name": "stdout",
          "text": [
            "users in sample (20000,)\n",
            "item in sample: (87750, 4)\n",
            "interactions in sample (953032, 3)\n"
          ]
        }
      ]
    },
    {
      "cell_type": "code",
      "source": [
        "item_sample.describe()"
      ],
      "metadata": {
        "colab": {
          "base_uri": "https://localhost:8080/",
          "height": 300
        },
        "id": "nMIz2ozJtFxA",
        "outputId": "f4447bc5-f1dc-4784-d48a-26fd17e473f7"
      },
      "execution_count": null,
      "outputs": [
        {
          "output_type": "execute_result",
          "data": {
            "text/plain": [
              "                  id    totalplays        gender\n",
              "count   87750.000000  8.775000e+04  87750.000000\n",
              "mean    81693.065128  1.587100e+04      1.286860\n",
              "std     70684.744577  1.003590e+05      0.924747\n",
              "min         0.000000  1.000000e+00      0.000000\n",
              "25%     25700.500000  2.400000e+02      0.000000\n",
              "50%     61056.500000  1.119500e+03      2.000000\n",
              "75%    118976.750000  4.783000e+03      2.000000\n",
              "max    292466.000000  6.165826e+06      2.000000"
            ],
            "text/html": [
              "\n",
              "  <div id=\"df-3e25a543-87c6-4361-9554-c9a03374c466\">\n",
              "    <div class=\"colab-df-container\">\n",
              "      <div>\n",
              "<style scoped>\n",
              "    .dataframe tbody tr th:only-of-type {\n",
              "        vertical-align: middle;\n",
              "    }\n",
              "\n",
              "    .dataframe tbody tr th {\n",
              "        vertical-align: top;\n",
              "    }\n",
              "\n",
              "    .dataframe thead th {\n",
              "        text-align: right;\n",
              "    }\n",
              "</style>\n",
              "<table border=\"1\" class=\"dataframe\">\n",
              "  <thead>\n",
              "    <tr style=\"text-align: right;\">\n",
              "      <th></th>\n",
              "      <th>id</th>\n",
              "      <th>totalplays</th>\n",
              "      <th>gender</th>\n",
              "    </tr>\n",
              "  </thead>\n",
              "  <tbody>\n",
              "    <tr>\n",
              "      <th>count</th>\n",
              "      <td>87750.000000</td>\n",
              "      <td>8.775000e+04</td>\n",
              "      <td>87750.000000</td>\n",
              "    </tr>\n",
              "    <tr>\n",
              "      <th>mean</th>\n",
              "      <td>81693.065128</td>\n",
              "      <td>1.587100e+04</td>\n",
              "      <td>1.286860</td>\n",
              "    </tr>\n",
              "    <tr>\n",
              "      <th>std</th>\n",
              "      <td>70684.744577</td>\n",
              "      <td>1.003590e+05</td>\n",
              "      <td>0.924747</td>\n",
              "    </tr>\n",
              "    <tr>\n",
              "      <th>min</th>\n",
              "      <td>0.000000</td>\n",
              "      <td>1.000000e+00</td>\n",
              "      <td>0.000000</td>\n",
              "    </tr>\n",
              "    <tr>\n",
              "      <th>25%</th>\n",
              "      <td>25700.500000</td>\n",
              "      <td>2.400000e+02</td>\n",
              "      <td>0.000000</td>\n",
              "    </tr>\n",
              "    <tr>\n",
              "      <th>50%</th>\n",
              "      <td>61056.500000</td>\n",
              "      <td>1.119500e+03</td>\n",
              "      <td>2.000000</td>\n",
              "    </tr>\n",
              "    <tr>\n",
              "      <th>75%</th>\n",
              "      <td>118976.750000</td>\n",
              "      <td>4.783000e+03</td>\n",
              "      <td>2.000000</td>\n",
              "    </tr>\n",
              "    <tr>\n",
              "      <th>max</th>\n",
              "      <td>292466.000000</td>\n",
              "      <td>6.165826e+06</td>\n",
              "      <td>2.000000</td>\n",
              "    </tr>\n",
              "  </tbody>\n",
              "</table>\n",
              "</div>\n",
              "      <button class=\"colab-df-convert\" onclick=\"convertToInteractive('df-3e25a543-87c6-4361-9554-c9a03374c466')\"\n",
              "              title=\"Convert this dataframe to an interactive table.\"\n",
              "              style=\"display:none;\">\n",
              "        \n",
              "  <svg xmlns=\"http://www.w3.org/2000/svg\" height=\"24px\"viewBox=\"0 0 24 24\"\n",
              "       width=\"24px\">\n",
              "    <path d=\"M0 0h24v24H0V0z\" fill=\"none\"/>\n",
              "    <path d=\"M18.56 5.44l.94 2.06.94-2.06 2.06-.94-2.06-.94-.94-2.06-.94 2.06-2.06.94zm-11 1L8.5 8.5l.94-2.06 2.06-.94-2.06-.94L8.5 2.5l-.94 2.06-2.06.94zm10 10l.94 2.06.94-2.06 2.06-.94-2.06-.94-.94-2.06-.94 2.06-2.06.94z\"/><path d=\"M17.41 7.96l-1.37-1.37c-.4-.4-.92-.59-1.43-.59-.52 0-1.04.2-1.43.59L10.3 9.45l-7.72 7.72c-.78.78-.78 2.05 0 2.83L4 21.41c.39.39.9.59 1.41.59.51 0 1.02-.2 1.41-.59l7.78-7.78 2.81-2.81c.8-.78.8-2.07 0-2.86zM5.41 20L4 18.59l7.72-7.72 1.47 1.35L5.41 20z\"/>\n",
              "  </svg>\n",
              "      </button>\n",
              "      \n",
              "  <style>\n",
              "    .colab-df-container {\n",
              "      display:flex;\n",
              "      flex-wrap:wrap;\n",
              "      gap: 12px;\n",
              "    }\n",
              "\n",
              "    .colab-df-convert {\n",
              "      background-color: #E8F0FE;\n",
              "      border: none;\n",
              "      border-radius: 50%;\n",
              "      cursor: pointer;\n",
              "      display: none;\n",
              "      fill: #1967D2;\n",
              "      height: 32px;\n",
              "      padding: 0 0 0 0;\n",
              "      width: 32px;\n",
              "    }\n",
              "\n",
              "    .colab-df-convert:hover {\n",
              "      background-color: #E2EBFA;\n",
              "      box-shadow: 0px 1px 2px rgba(60, 64, 67, 0.3), 0px 1px 3px 1px rgba(60, 64, 67, 0.15);\n",
              "      fill: #174EA6;\n",
              "    }\n",
              "\n",
              "    [theme=dark] .colab-df-convert {\n",
              "      background-color: #3B4455;\n",
              "      fill: #D2E3FC;\n",
              "    }\n",
              "\n",
              "    [theme=dark] .colab-df-convert:hover {\n",
              "      background-color: #434B5C;\n",
              "      box-shadow: 0px 1px 3px 1px rgba(0, 0, 0, 0.15);\n",
              "      filter: drop-shadow(0px 1px 2px rgba(0, 0, 0, 0.3));\n",
              "      fill: #FFFFFF;\n",
              "    }\n",
              "  </style>\n",
              "\n",
              "      <script>\n",
              "        const buttonEl =\n",
              "          document.querySelector('#df-3e25a543-87c6-4361-9554-c9a03374c466 button.colab-df-convert');\n",
              "        buttonEl.style.display =\n",
              "          google.colab.kernel.accessAllowed ? 'block' : 'none';\n",
              "\n",
              "        async function convertToInteractive(key) {\n",
              "          const element = document.querySelector('#df-3e25a543-87c6-4361-9554-c9a03374c466');\n",
              "          const dataTable =\n",
              "            await google.colab.kernel.invokeFunction('convertToInteractive',\n",
              "                                                     [key], {});\n",
              "          if (!dataTable) return;\n",
              "\n",
              "          const docLinkHtml = 'Like what you see? Visit the ' +\n",
              "            '<a target=\"_blank\" href=https://colab.research.google.com/notebooks/data_table.ipynb>data table notebook</a>'\n",
              "            + ' to learn more about interactive tables.';\n",
              "          element.innerHTML = '';\n",
              "          dataTable['output_type'] = 'display_data';\n",
              "          await google.colab.output.renderOutput(dataTable, element);\n",
              "          const docLink = document.createElement('div');\n",
              "          docLink.innerHTML = docLinkHtml;\n",
              "          element.appendChild(docLink);\n",
              "        }\n",
              "      </script>\n",
              "    </div>\n",
              "  </div>\n",
              "  "
            ]
          },
          "metadata": {},
          "execution_count": 9
        }
      ]
    },
    {
      "cell_type": "code",
      "source": [
        "x1 = 5.6e+01\n",
        "x2 = 2.3e+02\n",
        "x3 = 1.08e+03\n",
        "\n",
        "plays= item_sample.totalplays.to_numpy()\n",
        "p1 = np.count_nonzero(plays <= x1)\n",
        "p2 = np.count_nonzero((plays > x1) & (plays <= x2))\n",
        "p3 = np.count_nonzero((plays > x2) & (plays <= x3))\n",
        "p4 = np.count_nonzero(plays > x3)\n",
        "\n",
        "dist = np.array([p1,p2,p3,p4])/item_sample.shape[0]\n",
        "plt.bar([\"0-25%\",\"25-50%\",\"50-75%\",\"75-100%\"], dist)\n",
        "plt.xlabel('Artist popularity')\n",
        "plt.ylabel('Percantage')\n",
        "plt.show"
      ],
      "metadata": {
        "colab": {
          "base_uri": "https://localhost:8080/",
          "height": 297
        },
        "id": "ha6jQIY2rNU0",
        "outputId": "b3115f73-b602-47b7-91d7-1f3b8f8f455f"
      },
      "execution_count": null,
      "outputs": [
        {
          "output_type": "execute_result",
          "data": {
            "text/plain": [
              "<function matplotlib.pyplot.show>"
            ]
          },
          "metadata": {},
          "execution_count": 10
        },
        {
          "output_type": "display_data",
          "data": {
            "text/plain": [
              "<Figure size 432x288 with 1 Axes>"
            ],
            "image/png": "[encoded data removed]"
          },
          "metadata": {
            "needs_background": "light"
          }
        }
      ]
    },
    {
      "cell_type": "code",
      "source": [
        "plt.plot(range(plays.shape[0]), np.sort(plays))\n",
        "plt.show"
      ],
      "metadata": {
        "colab": {
          "base_uri": "https://localhost:8080/",
          "height": 294
        },
        "id": "QVFCprxCOEG7",
        "outputId": "3efe9aaa-59ea-4379-9ac4-252c0b95888e"
      },
      "execution_count": null,
      "outputs": [
        {
          "output_type": "execute_result",
          "data": {
            "text/plain": [
              "<function matplotlib.pyplot.show>"
            ]
          },
          "metadata": {},
          "execution_count": 11
        },
        {
          "output_type": "display_data",
          "data": {
            "text/plain": [
              "<Figure size 432x288 with 1 Axes>"
            ],
            "image/png": "[encoded data removed]"
          },
          "metadata": {
            "needs_background": "light"
          }
        }
      ]
    },
    {
      "cell_type": "markdown",
      "source": [
        "## control gender ratio in dataset"
      ],
      "metadata": {
        "id": "eMQRACOBf-WI"
      }
    },
    {
      "cell_type": "code",
      "source": [
        "# get artists id \n",
        "male_28, female_28 = control_gender_ratio(2/8, male, female)\n",
        "male_55, female_55 = control_gender_ratio(1, male, female)\n",
        "male_82, female_82 = control_gender_ratio(8/2, male, female)\n",
        "male_91, female_91 = control_gender_ratio(9, male, female)\n",
        "nogender = nogender.id.to_numpy()\n",
        "\n",
        "a_28 = np.concatenate((male_28, female_28, nogender), axis = None)\n",
        "a_55 = np.concatenate((male_55, female_55, nogender), axis = None)\n",
        "a_82 = np.concatenate((male_82, female_82, nogender), axis = None)\n",
        "a_91 = np.concatenate((male_91, female_91, nogender), axis = None)\n",
        "\n",
        "inter_28 = inter_data.loc[inter_data.artistid.isin(a_28)]\n",
        "inter_55 = inter_data.loc[inter_data.artistid.isin(a_55)]\n",
        "inter_82 = inter_data.loc[inter_data.artistid.isin(a_82)]\n",
        "inter_91 = inter_data.loc[inter_data.artistid.isin(a_91)]"
      ],
      "metadata": {
        "id": "pzDFYHHPgfWc"
      },
      "execution_count": null,
      "outputs": []
    },
    {
      "cell_type": "code",
      "source": [
        "inter28_sample, item28_sample = sample(inter_28, item_data, 30000)\n",
        "inter55_sample, item55_sample = sample(inter_55, item_data, 30000)\n",
        "inter82_sample, item82_sample = sample(inter_82, item_data, 30000)\n",
        "inter91_sample, item91_sample = sample(inter_91, item_data, 30000)\n"
      ],
      "metadata": {
        "colab": {
          "base_uri": "https://localhost:8080/"
        },
        "id": "TbNkhulXwPC-",
        "outputId": "3669da49-4d98-4cb7-da01-377b80a06d2e"
      },
      "execution_count": null,
      "outputs": [
        {
          "output_type": "stream",
          "name": "stdout",
          "text": [
            "#users in sample (30000,)\n",
            "#interactions in sample (682901, 3)\n",
            "gender count in sample: [66264  1676  6409]\n",
            "\n",
            "\n",
            "#users in sample (30000,)\n",
            "#interactions in sample (800516, 3)\n",
            "gender count in sample: [66575  6922  6488]\n",
            "\n",
            "\n",
            "#users in sample (30000,)\n",
            "#interactions in sample (1318961, 3)\n",
            "gender count in sample: [66234 27689  6372]\n",
            "\n",
            "\n",
            "#users in sample (30000,)\n",
            "#interactions in sample (1386925, 3)\n",
            "gender count in sample: [66480 32675  3363]\n",
            "\n",
            "\n"
          ]
        }
      ]
    },
    {
      "cell_type": "markdown",
      "source": [
        "# gender analysis in control set"
      ],
      "metadata": {
        "id": "_ksqgSJ0AOps"
      }
    },
    {
      "cell_type": "code",
      "source": [
        "# count total plays for male and female\n",
        "artist_has_gender = item55_sample.loc[item55_sample['gender'].isin([1,0])]\n",
        "number = np.bincount(artist_has_gender.gender)[:1] \n",
        "plays = np.bincount(artist_has_gender.gender, weights = artist_has_gender.totalplays)[:1]\n",
        "# 0-male, 1-female\n",
        "print('number of detected artists:', artist_has_gender.shape[0])\n",
        "print('gender distribution by number:', number/number.sum())\n",
        "print('gender distribution by playcounts:', plays/plays.sum())\n"
      ],
      "metadata": {
        "colab": {
          "base_uri": "https://localhost:8080/"
        },
        "id": "hBRW3twEocMr",
        "outputId": "e2c58068-7993-439b-dd18-0e4d04e17651"
      },
      "execution_count": null,
      "outputs": [
        {
          "output_type": "stream",
          "name": "stdout",
          "text": [
            "number of detected artists: 13410\n",
            "gender distribution by number: [0.51618195 0.48381805]\n",
            "gender distribution by playcounts: [0.66779539 0.33220461]\n",
            "gender distribution in top100: [70 30]\n"
          ]
        }
      ]
    },
    {
      "cell_type": "code",
      "source": [
        "x1 = 5.6e+01\n",
        "x2 = 2.3e+02\n",
        "x3 = 1.08e+03\n",
        "\n",
        "p = artist_has_gender.totalplays.to_numpy()\n",
        "p_male = artist_has_gender.loc[artist_has_gender.gender==0].totalplays.to_numpy()\n",
        "p1 = np.count_nonzero(p_male <= x1)\n",
        "p2 = np.count_nonzero((p_male > x1) & (p_male <= x2))\n",
        "p3 = np.count_nonzero((p_male > x2) & (p_male <= x3))\n",
        "p4 = np.count_nonzero(p_male > x3)\n",
        "\n",
        "p_female = artist_has_gender.loc[artist_has_gender.gender==1].totalplays.to_numpy()\n",
        "p11 = np.count_nonzero(p_female <= x1)\n",
        "p21 = np.count_nonzero((p_female > x1) & (p_female <= x2))\n",
        "p31 = np.count_nonzero((p_female > x2) & (p_female <= x3))\n",
        "p41 = np.count_nonzero(p_female > x3)\n",
        "\n",
        "dist_m = np.array([p1,p2,p3,p4])/artist_has_gender.shape[0]\n",
        "dist_f = np.array([p11,p21,p31,p41])/artist_has_gender.shape[0]\n",
        "plt.bar([\"0-25%\",\"25-50%\",\"50-75%\",\"75-100%\"], dist_m)\n",
        "plt.bar([\"0-25%\",\"25-50%\",\"50-75%\",\"75-100%\"], dist_f, color=\"#4CAF50\")\n",
        "plt.xlabel('Artist popularity')\n",
        "plt.ylabel('percantage')\n",
        "plt.legend([\"Male\",\"Female\"])\n",
        "plt.show\n"
      ],
      "metadata": {
        "colab": {
          "base_uri": "https://localhost:8080/",
          "height": 301
        },
        "id": "1tohesNRvRJV",
        "outputId": "8787123f-3605-4212-967f-e2ffaedcad50"
      },
      "execution_count": null,
      "outputs": [
        {
          "output_type": "execute_result",
          "data": {
            "text/plain": [
              "<function matplotlib.pyplot.show>"
            ]
          },
          "metadata": {},
          "execution_count": 44
        },
        {
          "output_type": "display_data",
          "data": {
            "text/plain": [
              "<Figure size 432x288 with 1 Axes>"
            ],
            "image/png": "[encoded data removed]"
          },
          "metadata": {
            "needs_background": "light"
          }
        }
      ]
    },
    {
      "cell_type": "markdown",
      "source": [
        "# convert file"
      ],
      "metadata": {
        "id": "mmBaFWsUKZ2z"
      }
    },
    {
      "cell_type": "code",
      "execution_count": null,
      "metadata": {
        "id": "RqP9o-LOb-2Y"
      },
      "outputs": [],
      "source": [
        "import os\n",
        "from tqdm import tqdm\n",
        "\n",
        "def convert(input_data, selected_fields, output_file):\n",
        "    output_data = pd.DataFrame()\n",
        "    for column in selected_fields:\n",
        "        output_data[column] = input_data.iloc[:, column]\n",
        "    with open(output_file, 'w') as fp:\n",
        "        fp.write('\\t'.join([selected_fields[column] for column in output_data.columns]) + '\\n')\n",
        "        for i in tqdm(range(output_data.shape[0])):\n",
        "            fp.write('\\t'.join([str(output_data.iloc[i, j])\n",
        "                                for j in range(output_data.shape[1])]) + '\\n')"
      ]
    },
    {
      "cell_type": "code",
      "source": [
        "output_inter_file = '/content/drive/MyDrive/datasets/lfm360k/lfm360k.inter'\n",
        "output_item_file = '/content/drive/MyDrive/datasets/lfm360k/lfm360k.item'\n",
        "output_user_file = '/content/drive/MyDrive/datasets/lfm360k/lfm360k.user'\n",
        "\n",
        "inter_fields = {0: 'user_id:token', \n",
        "                1: 'artist_id:token', \n",
        "                2: 'plays:float'}\n",
        "\n",
        "item_fields = {0: 'artist_id:token',\n",
        "               1: 'name:token_seq', \n",
        "               2: 'totalplays:float',\n",
        "               3: 'artist_gender:token'}\n",
        "\n",
        "user_fields = {0:'user_id:token', \n",
        "               1:'gender:token', \n",
        "               2:'age:float', \n",
        "               3:'country:token_seq', \n",
        "               4:'signup:token'}"
      ],
      "metadata": {
        "id": "wKCEofVH0Lnb"
      },
      "execution_count": null,
      "outputs": []
    },
    {
      "cell_type": "code",
      "source": [
        "item_data.head(10)"
      ],
      "metadata": {
        "colab": {
          "base_uri": "https://localhost:8080/",
          "height": 363
        },
        "id": "ovNPkiVkQFpo",
        "outputId": "9d705af3-dade-443f-c248-6351acf935e4"
      },
      "execution_count": null,
      "outputs": [
        {
          "output_type": "execute_result",
          "data": {
            "text/plain": [
              "   id                     name  totalplays  gender\n",
              "0   0          betty blowtorch     11382.0       1\n",
              "1   1                die Ärzte   1099058.0       0\n",
              "2   2        melissa etheridge      8713.0       1\n",
              "3   3                elvenking    277451.0       2\n",
              "4   4     juliette & the licks     21033.0       2\n",
              "5   5    red hot chili peppers   2625730.0       0\n",
              "6   6                   magica     25564.0       2\n",
              "7   7  the black dahlia murder    761480.0       0\n",
              "8   8              the murmurs     14894.0       2\n",
              "9   9               lunachicks     36861.0       2"
            ],
            "text/html": [
              "\n",
              "  <div id=\"df-01f11e50-86d4-4666-81fc-1997cc023386\">\n",
              "    <div class=\"colab-df-container\">\n",
              "      <div>\n",
              "<style scoped>\n",
              "    .dataframe tbody tr th:only-of-type {\n",
              "        vertical-align: middle;\n",
              "    }\n",
              "\n",
              "    .dataframe tbody tr th {\n",
              "        vertical-align: top;\n",
              "    }\n",
              "\n",
              "    .dataframe thead th {\n",
              "        text-align: right;\n",
              "    }\n",
              "</style>\n",
              "<table border=\"1\" class=\"dataframe\">\n",
              "  <thead>\n",
              "    <tr style=\"text-align: right;\">\n",
              "      <th></th>\n",
              "      <th>id</th>\n",
              "      <th>name</th>\n",
              "      <th>totalplays</th>\n",
              "      <th>gender</th>\n",
              "    </tr>\n",
              "  </thead>\n",
              "  <tbody>\n",
              "    <tr>\n",
              "      <th>0</th>\n",
              "      <td>0</td>\n",
              "      <td>betty blowtorch</td>\n",
              "      <td>11382.0</td>\n",
              "      <td>1</td>\n",
              "    </tr>\n",
              "    <tr>\n",
              "      <th>1</th>\n",
              "      <td>1</td>\n",
              "      <td>die Ärzte</td>\n",
              "      <td>1099058.0</td>\n",
              "      <td>0</td>\n",
              "    </tr>\n",
              "    <tr>\n",
              "      <th>2</th>\n",
              "      <td>2</td>\n",
              "      <td>melissa etheridge</td>\n",
              "      <td>8713.0</td>\n",
              "      <td>1</td>\n",
              "    </tr>\n",
              "    <tr>\n",
              "      <th>3</th>\n",
              "      <td>3</td>\n",
              "      <td>elvenking</td>\n",
              "      <td>277451.0</td>\n",
              "      <td>2</td>\n",
              "    </tr>\n",
              "    <tr>\n",
              "      <th>4</th>\n",
              "      <td>4</td>\n",
              "      <td>juliette &amp; the licks</td>\n",
              "      <td>21033.0</td>\n",
              "      <td>2</td>\n",
              "    </tr>\n",
              "    <tr>\n",
              "      <th>5</th>\n",
              "      <td>5</td>\n",
              "      <td>red hot chili peppers</td>\n",
              "      <td>2625730.0</td>\n",
              "      <td>0</td>\n",
              "    </tr>\n",
              "    <tr>\n",
              "      <th>6</th>\n",
              "      <td>6</td>\n",
              "      <td>magica</td>\n",
              "      <td>25564.0</td>\n",
              "      <td>2</td>\n",
              "    </tr>\n",
              "    <tr>\n",
              "      <th>7</th>\n",
              "      <td>7</td>\n",
              "      <td>the black dahlia murder</td>\n",
              "      <td>761480.0</td>\n",
              "      <td>0</td>\n",
              "    </tr>\n",
              "    <tr>\n",
              "      <th>8</th>\n",
              "      <td>8</td>\n",
              "      <td>the murmurs</td>\n",
              "      <td>14894.0</td>\n",
              "      <td>2</td>\n",
              "    </tr>\n",
              "    <tr>\n",
              "      <th>9</th>\n",
              "      <td>9</td>\n",
              "      <td>lunachicks</td>\n",
              "      <td>36861.0</td>\n",
              "      <td>2</td>\n",
              "    </tr>\n",
              "  </tbody>\n",
              "</table>\n",
              "</div>\n",
              "      <button class=\"colab-df-convert\" onclick=\"convertToInteractive('df-01f11e50-86d4-4666-81fc-1997cc023386')\"\n",
              "              title=\"Convert this dataframe to an interactive table.\"\n",
              "              style=\"display:none;\">\n",
              "        \n",
              "  <svg xmlns=\"http://www.w3.org/2000/svg\" height=\"24px\"viewBox=\"0 0 24 24\"\n",
              "       width=\"24px\">\n",
              "    <path d=\"M0 0h24v24H0V0z\" fill=\"none\"/>\n",
              "    <path d=\"M18.56 5.44l.94 2.06.94-2.06 2.06-.94-2.06-.94-.94-2.06-.94 2.06-2.06.94zm-11 1L8.5 8.5l.94-2.06 2.06-.94-2.06-.94L8.5 2.5l-.94 2.06-2.06.94zm10 10l.94 2.06.94-2.06 2.06-.94-2.06-.94-.94-2.06-.94 2.06-2.06.94z\"/><path d=\"M17.41 7.96l-1.37-1.37c-.4-.4-.92-.59-1.43-.59-.52 0-1.04.2-1.43.59L10.3 9.45l-7.72 7.72c-.78.78-.78 2.05 0 2.83L4 21.41c.39.39.9.59 1.41.59.51 0 1.02-.2 1.41-.59l7.78-7.78 2.81-2.81c.8-.78.8-2.07 0-2.86zM5.41 20L4 18.59l7.72-7.72 1.47 1.35L5.41 20z\"/>\n",
              "  </svg>\n",
              "      </button>\n",
              "      \n",
              "  <style>\n",
              "    .colab-df-container {\n",
              "      display:flex;\n",
              "      flex-wrap:wrap;\n",
              "      gap: 12px;\n",
              "    }\n",
              "\n",
              "    .colab-df-convert {\n",
              "      background-color: #E8F0FE;\n",
              "      border: none;\n",
              "      border-radius: 50%;\n",
              "      cursor: pointer;\n",
              "      display: none;\n",
              "      fill: #1967D2;\n",
              "      height: 32px;\n",
              "      padding: 0 0 0 0;\n",
              "      width: 32px;\n",
              "    }\n",
              "\n",
              "    .colab-df-convert:hover {\n",
              "      background-color: #E2EBFA;\n",
              "      box-shadow: 0px 1px 2px rgba(60, 64, 67, 0.3), 0px 1px 3px 1px rgba(60, 64, 67, 0.15);\n",
              "      fill: #174EA6;\n",
              "    }\n",
              "\n",
              "    [theme=dark] .colab-df-convert {\n",
              "      background-color: #3B4455;\n",
              "      fill: #D2E3FC;\n",
              "    }\n",
              "\n",
              "    [theme=dark] .colab-df-convert:hover {\n",
              "      background-color: #434B5C;\n",
              "      box-shadow: 0px 1px 3px 1px rgba(0, 0, 0, 0.15);\n",
              "      filter: drop-shadow(0px 1px 2px rgba(0, 0, 0, 0.3));\n",
              "      fill: #FFFFFF;\n",
              "    }\n",
              "  </style>\n",
              "\n",
              "      <script>\n",
              "        const buttonEl =\n",
              "          document.querySelector('#df-01f11e50-86d4-4666-81fc-1997cc023386 button.colab-df-convert');\n",
              "        buttonEl.style.display =\n",
              "          google.colab.kernel.accessAllowed ? 'block' : 'none';\n",
              "\n",
              "        async function convertToInteractive(key) {\n",
              "          const element = document.querySelector('#df-01f11e50-86d4-4666-81fc-1997cc023386');\n",
              "          const dataTable =\n",
              "            await google.colab.kernel.invokeFunction('convertToInteractive',\n",
              "                                                     [key], {});\n",
              "          if (!dataTable) return;\n",
              "\n",
              "          const docLinkHtml = 'Like what you see? Visit the ' +\n",
              "            '<a target=\"_blank\" href=https://colab.research.google.com/notebooks/data_table.ipynb>data table notebook</a>'\n",
              "            + ' to learn more about interactive tables.';\n",
              "          element.innerHTML = '';\n",
              "          dataTable['output_type'] = 'display_data';\n",
              "          await google.colab.output.renderOutput(dataTable, element);\n",
              "          const docLink = document.createElement('div');\n",
              "          docLink.innerHTML = docLinkHtml;\n",
              "          element.appendChild(docLink);\n",
              "        }\n",
              "      </script>\n",
              "    </div>\n",
              "  </div>\n",
              "  "
            ]
          },
          "metadata": {},
          "execution_count": 10
        }
      ]
    },
    {
      "cell_type": "code",
      "source": [
        "user_data.shape"
      ],
      "metadata": {
        "colab": {
          "base_uri": "https://localhost:8080/"
        },
        "id": "ZnQm3iKv9hqX",
        "outputId": "36a41674-e5f3-421e-c5e0-55c402258e42"
      },
      "execution_count": null,
      "outputs": [
        {
          "output_type": "execute_result",
          "data": {
            "text/plain": [
              "(20000, 5)"
            ]
          },
          "metadata": {},
          "execution_count": 5
        }
      ]
    },
    {
      "cell_type": "code",
      "source": [
        "convert(inter_gender, inter_fields, output_inter_file)"
      ],
      "metadata": {
        "colab": {
          "base_uri": "https://localhost:8080/"
        },
        "id": "NFEfkwpzKlrO",
        "outputId": "875bcf12-41c4-4701-a200-04792bef5cbe"
      },
      "execution_count": null,
      "outputs": [
        {
          "output_type": "stream",
          "name": "stderr",
          "text": [
            "100%|██████████| 587463/587463 [00:55<00:00, 10493.90it/s]\n"
          ]
        }
      ]
    }
  ]
}